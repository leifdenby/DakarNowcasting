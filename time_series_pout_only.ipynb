{
  "cells": [
    {
      "cell_type": "markdown",
      "metadata": {
        "id": "2Pmxv2ioyCRw"
      },
      "source": [
        "##### Copyright 2019 The TensorFlow Authors."
      ]
    },
    {
      "cell_type": "code",
      "execution_count": 2,
      "metadata": {
        "cellView": "form",
        "id": "b-2ShX25yNWf"
      },
      "outputs": [],
      "source": [
        "#@title Licensed under the Apache License, Version 2.0 (the \"License\");\n",
        "# you may not use this file except in compliance with the License.\n",
        "# You may obtain a copy of the License at\n",
        "#\n",
        "# https://www.apache.org/licenses/LICENSE-2.0\n",
        "#\n",
        "# Unless required by applicable law or agreed to in writing, software\n",
        "# distributed under the License is distributed on an \"AS IS\" BASIS,\n",
        "# WITHOUT WARRANTIES OR CONDITIONS OF ANY KIND, either express or implied.\n",
        "# See the License for the specific language governing permissions and\n",
        "# limitations under the License."
      ]
    },
    {
      "cell_type": "code",
      "execution_count": 20,
      "metadata": {},
      "outputs": [],
      "source": [
        "%load_ext lab_black"
      ]
    },
    {
      "cell_type": "markdown",
      "metadata": {
        "id": "pa49bUnKyRgF"
      },
      "source": [
        "# Time series forecasting"
      ]
    },
    {
      "cell_type": "markdown",
      "metadata": {
        "id": "11Ilg92myRcw"
      },
      "source": [
        "<table class=\"tfo-notebook-buttons\" align=\"left\">\n",
        "  <td>\n",
        "    <a target=\"_blank\" href=\"https://www.tensorflow.org/tutorials/structured_data/time_series\"><img src=\"https://www.tensorflow.org/images/tf_logo_32px.png\" />View on TensorFlow.org</a>\n",
        "  </td>\n",
        "  <td>\n",
        "    <a target=\"_blank\" href=\"https://colab.research.google.com/github/tensorflow/docs/blob/master/site/en/tutorials/structured_data/time_series.ipynb\"><img src=\"https://www.tensorflow.org/images/colab_logo_32px.png\" />Run in Google Colab</a>\n",
        "  </td>\n",
        "  <td>\n",
        "    <a target=\"_blank\" href=\"https://github.com/tensorflow/docs/blob/master/site/en/tutorials/structured_data/time_series.ipynb\"><img src=\"https://www.tensorflow.org/images/GitHub-Mark-32px.png\" />View source on GitHub</a>\n",
        "  </td>\n",
        "  <td>\n",
        "    <a href=\"https://storage.googleapis.com/tensorflow_docs/docs/site/en/tutorials/structured_data/time_series.ipynb\"><img src=\"https://www.tensorflow.org/images/download_logo_32px.png\" />Download notebook</a>\n",
        "  </td>\n",
        "</table>"
      ]
    },
    {
      "cell_type": "markdown",
      "metadata": {
        "id": "GU8C5qm_4vZb"
      },
      "source": [
        "This tutorial is an introduction to time series forecasting using TensorFlow. It builds a few different styles of models including Convolutional and Recurrent Neural Networks (CNNs and RNNs).\n",
        "\n",
        "This is covered in two main parts, with subsections: \n",
        "\n",
        "* Forecast for a single time step:\n",
        "  * A single feature.\n",
        "  * All features.\n",
        "* Forecast multiple steps:\n",
        "  * Single-shot: Make the predictions all at once.\n",
        "  * Autoregressive: Make one prediction at a time and feed the output back to the model."
      ]
    },
    {
      "cell_type": "markdown",
      "metadata": {
        "id": "XVhK72Pu1cJL"
      },
      "source": [
        "## Setup"
      ]
    },
    {
      "cell_type": "code",
      "execution_count": 21,
      "metadata": {
        "id": "7rZnJaGTWQw0"
      },
      "outputs": [],
      "source": [
        "import os\n",
        "import datetime\n",
        "\n",
        "import IPython\n",
        "import IPython.display\n",
        "import matplotlib as mpl\n",
        "import matplotlib.pyplot as plt\n",
        "import numpy as np\n",
        "import pandas as pd\n",
        "import seaborn as sns\n",
        "import xarray as xr\n",
        "import tensorflow as tf\n",
        "\n",
        "mpl.rcParams[\"figure.figsize\"] = (8, 6)\n",
        "mpl.rcParams[\"axes.grid\"] = False"
      ]
    },
    {
      "cell_type": "code",
      "execution_count": 22,
      "metadata": {},
      "outputs": [
        {
          "name": "stdout",
          "output_type": "stream",
          "text": [
            "Num GPUs Available:  1\n"
          ]
        },
        {
          "data": {
            "text/plain": [
              "[PhysicalDevice(name='/physical_device:GPU:0', device_type='GPU')]"
            ]
          },
          "execution_count": 22,
          "metadata": {},
          "output_type": "execute_result"
        }
      ],
      "source": [
        "print(\"Num GPUs Available: \", len(tf.config.list_physical_devices(\"GPU\")))\n",
        "tf.config.list_physical_devices(\"GPU\")"
      ]
    },
    {
      "cell_type": "markdown",
      "metadata": {
        "id": "TokBlnUhWFw9"
      },
      "source": [
        "## The weather dataset\n"
      ]
    },
    {
      "cell_type": "code",
      "execution_count": 23,
      "metadata": {},
      "outputs": [
        {
          "data": {
            "text/html": [
              "<div><svg style=\"position: absolute; width: 0; height: 0; overflow: hidden\">\n",
              "<defs>\n",
              "<symbol id=\"icon-database\" viewBox=\"0 0 32 32\">\n",
              "<path d=\"M16 0c-8.837 0-16 2.239-16 5v4c0 2.761 7.163 5 16 5s16-2.239 16-5v-4c0-2.761-7.163-5-16-5z\"></path>\n",
              "<path d=\"M16 17c-8.837 0-16-2.239-16-5v6c0 2.761 7.163 5 16 5s16-2.239 16-5v-6c0 2.761-7.163 5-16 5z\"></path>\n",
              "<path d=\"M16 26c-8.837 0-16-2.239-16-5v6c0 2.761 7.163 5 16 5s16-2.239 16-5v-6c0 2.761-7.163 5-16 5z\"></path>\n",
              "</symbol>\n",
              "<symbol id=\"icon-file-text2\" viewBox=\"0 0 32 32\">\n",
              "<path d=\"M28.681 7.159c-0.694-0.947-1.662-2.053-2.724-3.116s-2.169-2.030-3.116-2.724c-1.612-1.182-2.393-1.319-2.841-1.319h-15.5c-1.378 0-2.5 1.121-2.5 2.5v27c0 1.378 1.122 2.5 2.5 2.5h23c1.378 0 2.5-1.122 2.5-2.5v-19.5c0-0.448-0.137-1.23-1.319-2.841zM24.543 5.457c0.959 0.959 1.712 1.825 2.268 2.543h-4.811v-4.811c0.718 0.556 1.584 1.309 2.543 2.268zM28 29.5c0 0.271-0.229 0.5-0.5 0.5h-23c-0.271 0-0.5-0.229-0.5-0.5v-27c0-0.271 0.229-0.5 0.5-0.5 0 0 15.499-0 15.5 0v7c0 0.552 0.448 1 1 1h7v19.5z\"></path>\n",
              "<path d=\"M23 26h-14c-0.552 0-1-0.448-1-1s0.448-1 1-1h14c0.552 0 1 0.448 1 1s-0.448 1-1 1z\"></path>\n",
              "<path d=\"M23 22h-14c-0.552 0-1-0.448-1-1s0.448-1 1-1h14c0.552 0 1 0.448 1 1s-0.448 1-1 1z\"></path>\n",
              "<path d=\"M23 18h-14c-0.552 0-1-0.448-1-1s0.448-1 1-1h14c0.552 0 1 0.448 1 1s-0.448 1-1 1z\"></path>\n",
              "</symbol>\n",
              "</defs>\n",
              "</svg>\n",
              "<style>/* CSS stylesheet for displaying xarray objects in jupyterlab.\n",
              " *\n",
              " */\n",
              "\n",
              ":root {\n",
              "  --xr-font-color0: var(--jp-content-font-color0, rgba(0, 0, 0, 1));\n",
              "  --xr-font-color2: var(--jp-content-font-color2, rgba(0, 0, 0, 0.54));\n",
              "  --xr-font-color3: var(--jp-content-font-color3, rgba(0, 0, 0, 0.38));\n",
              "  --xr-border-color: var(--jp-border-color2, #e0e0e0);\n",
              "  --xr-disabled-color: var(--jp-layout-color3, #bdbdbd);\n",
              "  --xr-background-color: var(--jp-layout-color0, white);\n",
              "  --xr-background-color-row-even: var(--jp-layout-color1, white);\n",
              "  --xr-background-color-row-odd: var(--jp-layout-color2, #eeeeee);\n",
              "}\n",
              "\n",
              "html[theme=dark],\n",
              "body[data-theme=dark],\n",
              "body.vscode-dark {\n",
              "  --xr-font-color0: rgba(255, 255, 255, 1);\n",
              "  --xr-font-color2: rgba(255, 255, 255, 0.54);\n",
              "  --xr-font-color3: rgba(255, 255, 255, 0.38);\n",
              "  --xr-border-color: #1F1F1F;\n",
              "  --xr-disabled-color: #515151;\n",
              "  --xr-background-color: #111111;\n",
              "  --xr-background-color-row-even: #111111;\n",
              "  --xr-background-color-row-odd: #313131;\n",
              "}\n",
              "\n",
              ".xr-wrap {\n",
              "  display: block !important;\n",
              "  min-width: 300px;\n",
              "  max-width: 700px;\n",
              "}\n",
              "\n",
              ".xr-text-repr-fallback {\n",
              "  /* fallback to plain text repr when CSS is not injected (untrusted notebook) */\n",
              "  display: none;\n",
              "}\n",
              "\n",
              ".xr-header {\n",
              "  padding-top: 6px;\n",
              "  padding-bottom: 6px;\n",
              "  margin-bottom: 4px;\n",
              "  border-bottom: solid 1px var(--xr-border-color);\n",
              "}\n",
              "\n",
              ".xr-header > div,\n",
              ".xr-header > ul {\n",
              "  display: inline;\n",
              "  margin-top: 0;\n",
              "  margin-bottom: 0;\n",
              "}\n",
              "\n",
              ".xr-obj-type,\n",
              ".xr-array-name {\n",
              "  margin-left: 2px;\n",
              "  margin-right: 10px;\n",
              "}\n",
              "\n",
              ".xr-obj-type {\n",
              "  color: var(--xr-font-color2);\n",
              "}\n",
              "\n",
              ".xr-sections {\n",
              "  padding-left: 0 !important;\n",
              "  display: grid;\n",
              "  grid-template-columns: 150px auto auto 1fr 20px 20px;\n",
              "}\n",
              "\n",
              ".xr-section-item {\n",
              "  display: contents;\n",
              "}\n",
              "\n",
              ".xr-section-item input {\n",
              "  display: none;\n",
              "}\n",
              "\n",
              ".xr-section-item input + label {\n",
              "  color: var(--xr-disabled-color);\n",
              "}\n",
              "\n",
              ".xr-section-item input:enabled + label {\n",
              "  cursor: pointer;\n",
              "  color: var(--xr-font-color2);\n",
              "}\n",
              "\n",
              ".xr-section-item input:enabled + label:hover {\n",
              "  color: var(--xr-font-color0);\n",
              "}\n",
              "\n",
              ".xr-section-summary {\n",
              "  grid-column: 1;\n",
              "  color: var(--xr-font-color2);\n",
              "  font-weight: 500;\n",
              "}\n",
              "\n",
              ".xr-section-summary > span {\n",
              "  display: inline-block;\n",
              "  padding-left: 0.5em;\n",
              "}\n",
              "\n",
              ".xr-section-summary-in:disabled + label {\n",
              "  color: var(--xr-font-color2);\n",
              "}\n",
              "\n",
              ".xr-section-summary-in + label:before {\n",
              "  display: inline-block;\n",
              "  content: '►';\n",
              "  font-size: 11px;\n",
              "  width: 15px;\n",
              "  text-align: center;\n",
              "}\n",
              "\n",
              ".xr-section-summary-in:disabled + label:before {\n",
              "  color: var(--xr-disabled-color);\n",
              "}\n",
              "\n",
              ".xr-section-summary-in:checked + label:before {\n",
              "  content: '▼';\n",
              "}\n",
              "\n",
              ".xr-section-summary-in:checked + label > span {\n",
              "  display: none;\n",
              "}\n",
              "\n",
              ".xr-section-summary,\n",
              ".xr-section-inline-details {\n",
              "  padding-top: 4px;\n",
              "  padding-bottom: 4px;\n",
              "}\n",
              "\n",
              ".xr-section-inline-details {\n",
              "  grid-column: 2 / -1;\n",
              "}\n",
              "\n",
              ".xr-section-details {\n",
              "  display: none;\n",
              "  grid-column: 1 / -1;\n",
              "  margin-bottom: 5px;\n",
              "}\n",
              "\n",
              ".xr-section-summary-in:checked ~ .xr-section-details {\n",
              "  display: contents;\n",
              "}\n",
              "\n",
              ".xr-array-wrap {\n",
              "  grid-column: 1 / -1;\n",
              "  display: grid;\n",
              "  grid-template-columns: 20px auto;\n",
              "}\n",
              "\n",
              ".xr-array-wrap > label {\n",
              "  grid-column: 1;\n",
              "  vertical-align: top;\n",
              "}\n",
              "\n",
              ".xr-preview {\n",
              "  color: var(--xr-font-color3);\n",
              "}\n",
              "\n",
              ".xr-array-preview,\n",
              ".xr-array-data {\n",
              "  padding: 0 5px !important;\n",
              "  grid-column: 2;\n",
              "}\n",
              "\n",
              ".xr-array-data,\n",
              ".xr-array-in:checked ~ .xr-array-preview {\n",
              "  display: none;\n",
              "}\n",
              "\n",
              ".xr-array-in:checked ~ .xr-array-data,\n",
              ".xr-array-preview {\n",
              "  display: inline-block;\n",
              "}\n",
              "\n",
              ".xr-dim-list {\n",
              "  display: inline-block !important;\n",
              "  list-style: none;\n",
              "  padding: 0 !important;\n",
              "  margin: 0;\n",
              "}\n",
              "\n",
              ".xr-dim-list li {\n",
              "  display: inline-block;\n",
              "  padding: 0;\n",
              "  margin: 0;\n",
              "}\n",
              "\n",
              ".xr-dim-list:before {\n",
              "  content: '(';\n",
              "}\n",
              "\n",
              ".xr-dim-list:after {\n",
              "  content: ')';\n",
              "}\n",
              "\n",
              ".xr-dim-list li:not(:last-child):after {\n",
              "  content: ',';\n",
              "  padding-right: 5px;\n",
              "}\n",
              "\n",
              ".xr-has-index {\n",
              "  font-weight: bold;\n",
              "}\n",
              "\n",
              ".xr-var-list,\n",
              ".xr-var-item {\n",
              "  display: contents;\n",
              "}\n",
              "\n",
              ".xr-var-item > div,\n",
              ".xr-var-item label,\n",
              ".xr-var-item > .xr-var-name span {\n",
              "  background-color: var(--xr-background-color-row-even);\n",
              "  margin-bottom: 0;\n",
              "}\n",
              "\n",
              ".xr-var-item > .xr-var-name:hover span {\n",
              "  padding-right: 5px;\n",
              "}\n",
              "\n",
              ".xr-var-list > li:nth-child(odd) > div,\n",
              ".xr-var-list > li:nth-child(odd) > label,\n",
              ".xr-var-list > li:nth-child(odd) > .xr-var-name span {\n",
              "  background-color: var(--xr-background-color-row-odd);\n",
              "}\n",
              "\n",
              ".xr-var-name {\n",
              "  grid-column: 1;\n",
              "}\n",
              "\n",
              ".xr-var-dims {\n",
              "  grid-column: 2;\n",
              "}\n",
              "\n",
              ".xr-var-dtype {\n",
              "  grid-column: 3;\n",
              "  text-align: right;\n",
              "  color: var(--xr-font-color2);\n",
              "}\n",
              "\n",
              ".xr-var-preview {\n",
              "  grid-column: 4;\n",
              "}\n",
              "\n",
              ".xr-index-preview {\n",
              "  grid-column: 2 / 5;\n",
              "  color: var(--xr-font-color2);\n",
              "}\n",
              "\n",
              ".xr-var-name,\n",
              ".xr-var-dims,\n",
              ".xr-var-dtype,\n",
              ".xr-preview,\n",
              ".xr-attrs dt {\n",
              "  white-space: nowrap;\n",
              "  overflow: hidden;\n",
              "  text-overflow: ellipsis;\n",
              "  padding-right: 10px;\n",
              "}\n",
              "\n",
              ".xr-var-name:hover,\n",
              ".xr-var-dims:hover,\n",
              ".xr-var-dtype:hover,\n",
              ".xr-attrs dt:hover {\n",
              "  overflow: visible;\n",
              "  width: auto;\n",
              "  z-index: 1;\n",
              "}\n",
              "\n",
              ".xr-var-attrs,\n",
              ".xr-var-data,\n",
              ".xr-index-data {\n",
              "  display: none;\n",
              "  background-color: var(--xr-background-color) !important;\n",
              "  padding-bottom: 5px !important;\n",
              "}\n",
              "\n",
              ".xr-var-attrs-in:checked ~ .xr-var-attrs,\n",
              ".xr-var-data-in:checked ~ .xr-var-data,\n",
              ".xr-index-data-in:checked ~ .xr-index-data {\n",
              "  display: block;\n",
              "}\n",
              "\n",
              ".xr-var-data > table {\n",
              "  float: right;\n",
              "}\n",
              "\n",
              ".xr-var-name span,\n",
              ".xr-var-data,\n",
              ".xr-index-name div,\n",
              ".xr-index-data,\n",
              ".xr-attrs {\n",
              "  padding-left: 25px !important;\n",
              "}\n",
              "\n",
              ".xr-attrs,\n",
              ".xr-var-attrs,\n",
              ".xr-var-data,\n",
              ".xr-index-data {\n",
              "  grid-column: 1 / -1;\n",
              "}\n",
              "\n",
              "dl.xr-attrs {\n",
              "  padding: 0;\n",
              "  margin: 0;\n",
              "  display: grid;\n",
              "  grid-template-columns: 125px auto;\n",
              "}\n",
              "\n",
              ".xr-attrs dt,\n",
              ".xr-attrs dd {\n",
              "  padding: 0;\n",
              "  margin: 0;\n",
              "  float: left;\n",
              "  padding-right: 10px;\n",
              "  width: auto;\n",
              "}\n",
              "\n",
              ".xr-attrs dt {\n",
              "  font-weight: normal;\n",
              "  grid-column: 1;\n",
              "}\n",
              "\n",
              ".xr-attrs dt:hover span {\n",
              "  display: inline-block;\n",
              "  background: var(--xr-background-color);\n",
              "  padding-right: 10px;\n",
              "}\n",
              "\n",
              ".xr-attrs dd {\n",
              "  grid-column: 2;\n",
              "  white-space: pre-wrap;\n",
              "  word-break: break-all;\n",
              "}\n",
              "\n",
              ".xr-icon-database,\n",
              ".xr-icon-file-text2,\n",
              ".xr-no-icon {\n",
              "  display: inline-block;\n",
              "  vertical-align: middle;\n",
              "  width: 1em;\n",
              "  height: 1.5em !important;\n",
              "  stroke-width: 0;\n",
              "  stroke: currentColor;\n",
              "  fill: currentColor;\n",
              "}\n",
              "</style><pre class='xr-text-repr-fallback'>&lt;xarray.Dataset&gt;\n",
              "Dimensions:       (station_name: 2, Time: 345601)\n",
              "Coordinates:\n",
              "  * Time          (Time) datetime64[ns] 2019-04-03T00:01:00 ... 2019-11-29T00...\n",
              "    lat           (station_name) float32 ...\n",
              "    lon           (station_name) float32 ...\n",
              "  * station_name  (station_name) object &#x27;Pout&#x27; &#x27;Dakar&#x27;\n",
              "Data variables:\n",
              "    T2            (station_name, Time) float32 ...\n",
              "    RAIN_1MIN     (station_name, Time) float32 ...\n",
              "    Q2            (station_name, Time) float32 ...\n",
              "    SMOIS         (station_name, Time) float32 ...\n",
              "    U10           (station_name, Time) float32 ...\n",
              "    V10           (station_name, Time) float32 ...\n",
              "    PSFC          (station_name, Time) float32 ...\n",
              "Attributes:\n",
              "    Conventions:  CF-1.9</pre><div class='xr-wrap' style='display:none'><div class='xr-header'><div class='xr-obj-type'>xarray.Dataset</div></div><ul class='xr-sections'><li class='xr-section-item'><input id='section-63962679-b422-46ab-88a3-b2260230be04' class='xr-section-summary-in' type='checkbox' disabled ><label for='section-63962679-b422-46ab-88a3-b2260230be04' class='xr-section-summary'  title='Expand/collapse section'>Dimensions:</label><div class='xr-section-inline-details'><ul class='xr-dim-list'><li><span class='xr-has-index'>station_name</span>: 2</li><li><span class='xr-has-index'>Time</span>: 345601</li></ul></div><div class='xr-section-details'></div></li><li class='xr-section-item'><input id='section-caba0247-17bd-49e7-9eb0-fb28e4ca518b' class='xr-section-summary-in' type='checkbox'  checked><label for='section-caba0247-17bd-49e7-9eb0-fb28e4ca518b' class='xr-section-summary' >Coordinates: <span>(4)</span></label><div class='xr-section-inline-details'></div><div class='xr-section-details'><ul class='xr-var-list'><li class='xr-var-item'><div class='xr-var-name'><span class='xr-has-index'>Time</span></div><div class='xr-var-dims'>(Time)</div><div class='xr-var-dtype'>datetime64[ns]</div><div class='xr-var-preview xr-preview'>2019-04-03T00:01:00 ... 2019-11-...</div><input id='attrs-ad87970e-e4f8-4052-86db-8043ca51b03c' class='xr-var-attrs-in' type='checkbox' ><label for='attrs-ad87970e-e4f8-4052-86db-8043ca51b03c' title='Show/Hide attributes'><svg class='icon xr-icon-file-text2'><use xlink:href='#icon-file-text2'></use></svg></label><input id='data-aa626334-d055-43dc-8d51-9a1672cef047' class='xr-var-data-in' type='checkbox'><label for='data-aa626334-d055-43dc-8d51-9a1672cef047' title='Show/Hide data repr'><svg class='icon xr-icon-database'><use xlink:href='#icon-database'></use></svg></label><div class='xr-var-attrs'><dl class='xr-attrs'><dt><span>standard_name :</span></dt><dd>time</dd><dt><span>axis :</span></dt><dd>T</dd></dl></div><div class='xr-var-data'><pre>array([&#x27;2019-04-03T00:01:00.000000000&#x27;, &#x27;2019-04-03T00:02:00.000000000&#x27;,\n",
              "       &#x27;2019-04-03T00:03:00.000000000&#x27;, ..., &#x27;2019-11-28T23:59:00.000000000&#x27;,\n",
              "       &#x27;2019-11-29T00:00:00.000000000&#x27;, &#x27;2019-11-29T00:01:00.000000000&#x27;],\n",
              "      dtype=&#x27;datetime64[ns]&#x27;)</pre></div></li><li class='xr-var-item'><div class='xr-var-name'><span>lat</span></div><div class='xr-var-dims'>(station_name)</div><div class='xr-var-dtype'>float32</div><div class='xr-var-preview xr-preview'>...</div><input id='attrs-878aa999-53aa-4f82-add3-0d57624e42b5' class='xr-var-attrs-in' type='checkbox' ><label for='attrs-878aa999-53aa-4f82-add3-0d57624e42b5' title='Show/Hide attributes'><svg class='icon xr-icon-file-text2'><use xlink:href='#icon-file-text2'></use></svg></label><input id='data-48adb1ec-b50f-4a9b-9eed-4c496084b7e8' class='xr-var-data-in' type='checkbox'><label for='data-48adb1ec-b50f-4a9b-9eed-4c496084b7e8' title='Show/Hide data repr'><svg class='icon xr-icon-database'><use xlink:href='#icon-database'></use></svg></label><div class='xr-var-attrs'><dl class='xr-attrs'><dt><span>units :</span></dt><dd>degrees_north</dd><dt><span>long_name :</span></dt><dd>latitude</dd><dt><span>standard_name :</span></dt><dd>latitude</dd><dt><span>axis :</span></dt><dd>Y</dd></dl></div><div class='xr-var-data'><pre>[2 values with dtype=float32]</pre></div></li><li class='xr-var-item'><div class='xr-var-name'><span>lon</span></div><div class='xr-var-dims'>(station_name)</div><div class='xr-var-dtype'>float32</div><div class='xr-var-preview xr-preview'>...</div><input id='attrs-fc8c0c6c-aa16-4130-b49b-2aa38f0e9f06' class='xr-var-attrs-in' type='checkbox' ><label for='attrs-fc8c0c6c-aa16-4130-b49b-2aa38f0e9f06' title='Show/Hide attributes'><svg class='icon xr-icon-file-text2'><use xlink:href='#icon-file-text2'></use></svg></label><input id='data-eb07092a-7adf-4cac-b6c9-21b91ef17ee0' class='xr-var-data-in' type='checkbox'><label for='data-eb07092a-7adf-4cac-b6c9-21b91ef17ee0' title='Show/Hide data repr'><svg class='icon xr-icon-database'><use xlink:href='#icon-database'></use></svg></label><div class='xr-var-attrs'><dl class='xr-attrs'><dt><span>units :</span></dt><dd>degrees_east</dd><dt><span>standard_name :</span></dt><dd>longitude</dd><dt><span>long_name :</span></dt><dd>longitude</dd><dt><span>axis :</span></dt><dd>X</dd></dl></div><div class='xr-var-data'><pre>[2 values with dtype=float32]</pre></div></li><li class='xr-var-item'><div class='xr-var-name'><span class='xr-has-index'>station_name</span></div><div class='xr-var-dims'>(station_name)</div><div class='xr-var-dtype'>object</div><div class='xr-var-preview xr-preview'>&#x27;Pout&#x27; &#x27;Dakar&#x27;</div><input id='attrs-371d5e0b-a705-43d1-9809-ae909dc769ea' class='xr-var-attrs-in' type='checkbox' disabled><label for='attrs-371d5e0b-a705-43d1-9809-ae909dc769ea' title='Show/Hide attributes'><svg class='icon xr-icon-file-text2'><use xlink:href='#icon-file-text2'></use></svg></label><input id='data-5419ac86-7d81-40ae-a68c-39fc266ae2b7' class='xr-var-data-in' type='checkbox'><label for='data-5419ac86-7d81-40ae-a68c-39fc266ae2b7' title='Show/Hide data repr'><svg class='icon xr-icon-database'><use xlink:href='#icon-database'></use></svg></label><div class='xr-var-attrs'><dl class='xr-attrs'></dl></div><div class='xr-var-data'><pre>array([&#x27;Pout&#x27;, &#x27;Dakar&#x27;], dtype=object)</pre></div></li></ul></div></li><li class='xr-section-item'><input id='section-98b7d78a-5dea-4a1f-8bf6-e0d73ce4c691' class='xr-section-summary-in' type='checkbox'  checked><label for='section-98b7d78a-5dea-4a1f-8bf6-e0d73ce4c691' class='xr-section-summary' >Data variables: <span>(7)</span></label><div class='xr-section-inline-details'></div><div class='xr-section-details'><ul class='xr-var-list'><li class='xr-var-item'><div class='xr-var-name'><span>T2</span></div><div class='xr-var-dims'>(station_name, Time)</div><div class='xr-var-dtype'>float32</div><div class='xr-var-preview xr-preview'>...</div><input id='attrs-ea553004-0b63-4db5-afe4-3c1f4c0dfd6a' class='xr-var-attrs-in' type='checkbox' ><label for='attrs-ea553004-0b63-4db5-afe4-3c1f4c0dfd6a' title='Show/Hide attributes'><svg class='icon xr-icon-file-text2'><use xlink:href='#icon-file-text2'></use></svg></label><input id='data-4b7bb7b9-d699-422d-b513-2a28e01e9e7b' class='xr-var-data-in' type='checkbox'><label for='data-4b7bb7b9-d699-422d-b513-2a28e01e9e7b' title='Show/Hide data repr'><svg class='icon xr-icon-database'><use xlink:href='#icon-database'></use></svg></label><div class='xr-var-attrs'><dl class='xr-attrs'><dt><span>units :</span></dt><dd>K</dd><dt><span>MemoryOrder :</span></dt><dd>YX</dd></dl></div><div class='xr-var-data'><pre>[691202 values with dtype=float32]</pre></div></li><li class='xr-var-item'><div class='xr-var-name'><span>RAIN_1MIN</span></div><div class='xr-var-dims'>(station_name, Time)</div><div class='xr-var-dtype'>float32</div><div class='xr-var-preview xr-preview'>...</div><input id='attrs-6cf6eda5-0af9-4fee-9d56-2f75e7d8f20b' class='xr-var-attrs-in' type='checkbox' ><label for='attrs-6cf6eda5-0af9-4fee-9d56-2f75e7d8f20b' title='Show/Hide attributes'><svg class='icon xr-icon-file-text2'><use xlink:href='#icon-file-text2'></use></svg></label><input id='data-35151e76-a618-40c8-9548-c424a29a8cc9' class='xr-var-data-in' type='checkbox'><label for='data-35151e76-a618-40c8-9548-c424a29a8cc9' title='Show/Hide data repr'><svg class='icon xr-icon-database'><use xlink:href='#icon-database'></use></svg></label><div class='xr-var-attrs'><dl class='xr-attrs'><dt><span>units :</span></dt><dd>mm/min</dd><dt><span>MemoryOrder :</span></dt><dd>XY</dd></dl></div><div class='xr-var-data'><pre>[691202 values with dtype=float32]</pre></div></li><li class='xr-var-item'><div class='xr-var-name'><span>Q2</span></div><div class='xr-var-dims'>(station_name, Time)</div><div class='xr-var-dtype'>float32</div><div class='xr-var-preview xr-preview'>...</div><input id='attrs-eebaf373-35b7-4ccd-b3ea-08db1a99f0d5' class='xr-var-attrs-in' type='checkbox' ><label for='attrs-eebaf373-35b7-4ccd-b3ea-08db1a99f0d5' title='Show/Hide attributes'><svg class='icon xr-icon-file-text2'><use xlink:href='#icon-file-text2'></use></svg></label><input id='data-16452fb9-df13-43ed-adc8-19ef5abeb5ec' class='xr-var-data-in' type='checkbox'><label for='data-16452fb9-df13-43ed-adc8-19ef5abeb5ec' title='Show/Hide data repr'><svg class='icon xr-icon-database'><use xlink:href='#icon-database'></use></svg></label><div class='xr-var-attrs'><dl class='xr-attrs'><dt><span>units :</span></dt><dd>kg /kg -1</dd><dt><span>MemoryOrder :</span></dt><dd>XY</dd></dl></div><div class='xr-var-data'><pre>[691202 values with dtype=float32]</pre></div></li><li class='xr-var-item'><div class='xr-var-name'><span>SMOIS</span></div><div class='xr-var-dims'>(station_name, Time)</div><div class='xr-var-dtype'>float32</div><div class='xr-var-preview xr-preview'>...</div><input id='attrs-4e7235f3-7069-4a08-8211-225b2c6a290b' class='xr-var-attrs-in' type='checkbox' ><label for='attrs-4e7235f3-7069-4a08-8211-225b2c6a290b' title='Show/Hide attributes'><svg class='icon xr-icon-file-text2'><use xlink:href='#icon-file-text2'></use></svg></label><input id='data-aecae260-c3d9-44ac-870e-8d2cd7721f33' class='xr-var-data-in' type='checkbox'><label for='data-aecae260-c3d9-44ac-870e-8d2cd7721f33' title='Show/Hide data repr'><svg class='icon xr-icon-database'><use xlink:href='#icon-database'></use></svg></label><div class='xr-var-attrs'><dl class='xr-attrs'><dt><span>units :</span></dt><dd>kg /kg -3</dd><dt><span>MemoryOrder :</span></dt><dd>XY</dd></dl></div><div class='xr-var-data'><pre>[691202 values with dtype=float32]</pre></div></li><li class='xr-var-item'><div class='xr-var-name'><span>U10</span></div><div class='xr-var-dims'>(station_name, Time)</div><div class='xr-var-dtype'>float32</div><div class='xr-var-preview xr-preview'>...</div><input id='attrs-e7b7260a-54bc-44d9-9657-86bbf8ecf7b7' class='xr-var-attrs-in' type='checkbox' ><label for='attrs-e7b7260a-54bc-44d9-9657-86bbf8ecf7b7' title='Show/Hide attributes'><svg class='icon xr-icon-file-text2'><use xlink:href='#icon-file-text2'></use></svg></label><input id='data-6fa431c7-0649-4781-8cb0-8be66b07ceb0' class='xr-var-data-in' type='checkbox'><label for='data-6fa431c7-0649-4781-8cb0-8be66b07ceb0' title='Show/Hide data repr'><svg class='icon xr-icon-database'><use xlink:href='#icon-database'></use></svg></label><div class='xr-var-attrs'><dl class='xr-attrs'><dt><span>units :</span></dt><dd>m s-1</dd><dt><span>MemoryOrder :</span></dt><dd>ZYX</dd></dl></div><div class='xr-var-data'><pre>[691202 values with dtype=float32]</pre></div></li><li class='xr-var-item'><div class='xr-var-name'><span>V10</span></div><div class='xr-var-dims'>(station_name, Time)</div><div class='xr-var-dtype'>float32</div><div class='xr-var-preview xr-preview'>...</div><input id='attrs-7f4874b6-46cd-4875-abe0-eb0d15465ee6' class='xr-var-attrs-in' type='checkbox' ><label for='attrs-7f4874b6-46cd-4875-abe0-eb0d15465ee6' title='Show/Hide attributes'><svg class='icon xr-icon-file-text2'><use xlink:href='#icon-file-text2'></use></svg></label><input id='data-9276543a-209b-4cd0-8a99-0910c0c27f87' class='xr-var-data-in' type='checkbox'><label for='data-9276543a-209b-4cd0-8a99-0910c0c27f87' title='Show/Hide data repr'><svg class='icon xr-icon-database'><use xlink:href='#icon-database'></use></svg></label><div class='xr-var-attrs'><dl class='xr-attrs'><dt><span>units :</span></dt><dd>m s-1</dd><dt><span>MemoryOrder :</span></dt><dd>ZYX</dd></dl></div><div class='xr-var-data'><pre>[691202 values with dtype=float32]</pre></div></li><li class='xr-var-item'><div class='xr-var-name'><span>PSFC</span></div><div class='xr-var-dims'>(station_name, Time)</div><div class='xr-var-dtype'>float32</div><div class='xr-var-preview xr-preview'>...</div><input id='attrs-adbc78b2-4922-4b70-84b8-2f7426692e88' class='xr-var-attrs-in' type='checkbox' ><label for='attrs-adbc78b2-4922-4b70-84b8-2f7426692e88' title='Show/Hide attributes'><svg class='icon xr-icon-file-text2'><use xlink:href='#icon-file-text2'></use></svg></label><input id='data-af5f737d-84bc-4f47-8fad-a1839b871c6a' class='xr-var-data-in' type='checkbox'><label for='data-af5f737d-84bc-4f47-8fad-a1839b871c6a' title='Show/Hide data repr'><svg class='icon xr-icon-database'><use xlink:href='#icon-database'></use></svg></label><div class='xr-var-attrs'><dl class='xr-attrs'><dt><span>units :</span></dt><dd>Pa</dd><dt><span>MemoryOrder :</span></dt><dd>XY</dd></dl></div><div class='xr-var-data'><pre>[691202 values with dtype=float32]</pre></div></li></ul></div></li><li class='xr-section-item'><input id='section-e7e3760f-7c2e-4fdd-b0f8-b19c07269c4d' class='xr-section-summary-in' type='checkbox'  ><label for='section-e7e3760f-7c2e-4fdd-b0f8-b19c07269c4d' class='xr-section-summary' >Indexes: <span>(2)</span></label><div class='xr-section-inline-details'></div><div class='xr-section-details'><ul class='xr-var-list'><li class='xr-var-item'><div class='xr-index-name'><div>Time</div></div><div class='xr-index-preview'>PandasIndex</div><div></div><input id='index-5ed99ef3-4d25-4ff8-aee6-24b9f3736b2c' class='xr-index-data-in' type='checkbox'/><label for='index-5ed99ef3-4d25-4ff8-aee6-24b9f3736b2c' title='Show/Hide index repr'><svg class='icon xr-icon-database'><use xlink:href='#icon-database'></use></svg></label><div class='xr-index-data'><pre>PandasIndex(DatetimeIndex([&#x27;2019-04-03 00:01:00&#x27;, &#x27;2019-04-03 00:02:00&#x27;,\n",
              "               &#x27;2019-04-03 00:03:00&#x27;, &#x27;2019-04-03 00:04:00&#x27;,\n",
              "               &#x27;2019-04-03 00:05:00&#x27;, &#x27;2019-04-03 00:06:00&#x27;,\n",
              "               &#x27;2019-04-03 00:07:00&#x27;, &#x27;2019-04-03 00:08:00&#x27;,\n",
              "               &#x27;2019-04-03 00:09:00&#x27;, &#x27;2019-04-03 00:10:00&#x27;,\n",
              "               ...\n",
              "               &#x27;2019-11-28 23:52:00&#x27;, &#x27;2019-11-28 23:53:00&#x27;,\n",
              "               &#x27;2019-11-28 23:54:00&#x27;, &#x27;2019-11-28 23:55:00&#x27;,\n",
              "               &#x27;2019-11-28 23:56:00&#x27;, &#x27;2019-11-28 23:57:00&#x27;,\n",
              "               &#x27;2019-11-28 23:58:00&#x27;, &#x27;2019-11-28 23:59:00&#x27;,\n",
              "               &#x27;2019-11-29 00:00:00&#x27;, &#x27;2019-11-29 00:01:00&#x27;],\n",
              "              dtype=&#x27;datetime64[ns]&#x27;, name=&#x27;Time&#x27;, length=345601, freq=None))</pre></div></li><li class='xr-var-item'><div class='xr-index-name'><div>station_name</div></div><div class='xr-index-preview'>PandasIndex</div><div></div><input id='index-630c82e0-d765-41e7-b7e3-e892be3374b1' class='xr-index-data-in' type='checkbox'/><label for='index-630c82e0-d765-41e7-b7e3-e892be3374b1' title='Show/Hide index repr'><svg class='icon xr-icon-database'><use xlink:href='#icon-database'></use></svg></label><div class='xr-index-data'><pre>PandasIndex(Index([&#x27;Pout&#x27;, &#x27;Dakar&#x27;], dtype=&#x27;object&#x27;, name=&#x27;station_name&#x27;))</pre></div></li></ul></div></li><li class='xr-section-item'><input id='section-9f585e26-0268-487e-99eb-9e4c2840e155' class='xr-section-summary-in' type='checkbox'  checked><label for='section-9f585e26-0268-487e-99eb-9e4c2840e155' class='xr-section-summary' >Attributes: <span>(1)</span></label><div class='xr-section-inline-details'></div><div class='xr-section-details'><dl class='xr-attrs'><dt><span>Conventions :</span></dt><dd>CF-1.9</dd></dl></div></li></ul></div></div>"
            ],
            "text/plain": [
              "<xarray.Dataset>\n",
              "Dimensions:       (station_name: 2, Time: 345601)\n",
              "Coordinates:\n",
              "  * Time          (Time) datetime64[ns] 2019-04-03T00:01:00 ... 2019-11-29T00...\n",
              "    lat           (station_name) float32 ...\n",
              "    lon           (station_name) float32 ...\n",
              "  * station_name  (station_name) object 'Pout' 'Dakar'\n",
              "Data variables:\n",
              "    T2            (station_name, Time) float32 ...\n",
              "    RAIN_1MIN     (station_name, Time) float32 ...\n",
              "    Q2            (station_name, Time) float32 ...\n",
              "    SMOIS         (station_name, Time) float32 ...\n",
              "    U10           (station_name, Time) float32 ...\n",
              "    V10           (station_name, Time) float32 ...\n",
              "    PSFC          (station_name, Time) float32 ...\n",
              "Attributes:\n",
              "    Conventions:  CF-1.9"
            ]
          },
          "execution_count": 23,
          "metadata": {},
          "output_type": "execute_result"
        }
      ],
      "source": [
        "fp = \"../stations_data.nc\"\n",
        "ds = xr.open_dataset(fp)\n",
        "ds"
      ]
    },
    {
      "cell_type": "code",
      "execution_count": 24,
      "metadata": {},
      "outputs": [
        {
          "data": {
            "text/html": [
              "<div><svg style=\"position: absolute; width: 0; height: 0; overflow: hidden\">\n",
              "<defs>\n",
              "<symbol id=\"icon-database\" viewBox=\"0 0 32 32\">\n",
              "<path d=\"M16 0c-8.837 0-16 2.239-16 5v4c0 2.761 7.163 5 16 5s16-2.239 16-5v-4c0-2.761-7.163-5-16-5z\"></path>\n",
              "<path d=\"M16 17c-8.837 0-16-2.239-16-5v6c0 2.761 7.163 5 16 5s16-2.239 16-5v-6c0 2.761-7.163 5-16 5z\"></path>\n",
              "<path d=\"M16 26c-8.837 0-16-2.239-16-5v6c0 2.761 7.163 5 16 5s16-2.239 16-5v-6c0 2.761-7.163 5-16 5z\"></path>\n",
              "</symbol>\n",
              "<symbol id=\"icon-file-text2\" viewBox=\"0 0 32 32\">\n",
              "<path d=\"M28.681 7.159c-0.694-0.947-1.662-2.053-2.724-3.116s-2.169-2.030-3.116-2.724c-1.612-1.182-2.393-1.319-2.841-1.319h-15.5c-1.378 0-2.5 1.121-2.5 2.5v27c0 1.378 1.122 2.5 2.5 2.5h23c1.378 0 2.5-1.122 2.5-2.5v-19.5c0-0.448-0.137-1.23-1.319-2.841zM24.543 5.457c0.959 0.959 1.712 1.825 2.268 2.543h-4.811v-4.811c0.718 0.556 1.584 1.309 2.543 2.268zM28 29.5c0 0.271-0.229 0.5-0.5 0.5h-23c-0.271 0-0.5-0.229-0.5-0.5v-27c0-0.271 0.229-0.5 0.5-0.5 0 0 15.499-0 15.5 0v7c0 0.552 0.448 1 1 1h7v19.5z\"></path>\n",
              "<path d=\"M23 26h-14c-0.552 0-1-0.448-1-1s0.448-1 1-1h14c0.552 0 1 0.448 1 1s-0.448 1-1 1z\"></path>\n",
              "<path d=\"M23 22h-14c-0.552 0-1-0.448-1-1s0.448-1 1-1h14c0.552 0 1 0.448 1 1s-0.448 1-1 1z\"></path>\n",
              "<path d=\"M23 18h-14c-0.552 0-1-0.448-1-1s0.448-1 1-1h14c0.552 0 1 0.448 1 1s-0.448 1-1 1z\"></path>\n",
              "</symbol>\n",
              "</defs>\n",
              "</svg>\n",
              "<style>/* CSS stylesheet for displaying xarray objects in jupyterlab.\n",
              " *\n",
              " */\n",
              "\n",
              ":root {\n",
              "  --xr-font-color0: var(--jp-content-font-color0, rgba(0, 0, 0, 1));\n",
              "  --xr-font-color2: var(--jp-content-font-color2, rgba(0, 0, 0, 0.54));\n",
              "  --xr-font-color3: var(--jp-content-font-color3, rgba(0, 0, 0, 0.38));\n",
              "  --xr-border-color: var(--jp-border-color2, #e0e0e0);\n",
              "  --xr-disabled-color: var(--jp-layout-color3, #bdbdbd);\n",
              "  --xr-background-color: var(--jp-layout-color0, white);\n",
              "  --xr-background-color-row-even: var(--jp-layout-color1, white);\n",
              "  --xr-background-color-row-odd: var(--jp-layout-color2, #eeeeee);\n",
              "}\n",
              "\n",
              "html[theme=dark],\n",
              "body[data-theme=dark],\n",
              "body.vscode-dark {\n",
              "  --xr-font-color0: rgba(255, 255, 255, 1);\n",
              "  --xr-font-color2: rgba(255, 255, 255, 0.54);\n",
              "  --xr-font-color3: rgba(255, 255, 255, 0.38);\n",
              "  --xr-border-color: #1F1F1F;\n",
              "  --xr-disabled-color: #515151;\n",
              "  --xr-background-color: #111111;\n",
              "  --xr-background-color-row-even: #111111;\n",
              "  --xr-background-color-row-odd: #313131;\n",
              "}\n",
              "\n",
              ".xr-wrap {\n",
              "  display: block !important;\n",
              "  min-width: 300px;\n",
              "  max-width: 700px;\n",
              "}\n",
              "\n",
              ".xr-text-repr-fallback {\n",
              "  /* fallback to plain text repr when CSS is not injected (untrusted notebook) */\n",
              "  display: none;\n",
              "}\n",
              "\n",
              ".xr-header {\n",
              "  padding-top: 6px;\n",
              "  padding-bottom: 6px;\n",
              "  margin-bottom: 4px;\n",
              "  border-bottom: solid 1px var(--xr-border-color);\n",
              "}\n",
              "\n",
              ".xr-header > div,\n",
              ".xr-header > ul {\n",
              "  display: inline;\n",
              "  margin-top: 0;\n",
              "  margin-bottom: 0;\n",
              "}\n",
              "\n",
              ".xr-obj-type,\n",
              ".xr-array-name {\n",
              "  margin-left: 2px;\n",
              "  margin-right: 10px;\n",
              "}\n",
              "\n",
              ".xr-obj-type {\n",
              "  color: var(--xr-font-color2);\n",
              "}\n",
              "\n",
              ".xr-sections {\n",
              "  padding-left: 0 !important;\n",
              "  display: grid;\n",
              "  grid-template-columns: 150px auto auto 1fr 20px 20px;\n",
              "}\n",
              "\n",
              ".xr-section-item {\n",
              "  display: contents;\n",
              "}\n",
              "\n",
              ".xr-section-item input {\n",
              "  display: none;\n",
              "}\n",
              "\n",
              ".xr-section-item input + label {\n",
              "  color: var(--xr-disabled-color);\n",
              "}\n",
              "\n",
              ".xr-section-item input:enabled + label {\n",
              "  cursor: pointer;\n",
              "  color: var(--xr-font-color2);\n",
              "}\n",
              "\n",
              ".xr-section-item input:enabled + label:hover {\n",
              "  color: var(--xr-font-color0);\n",
              "}\n",
              "\n",
              ".xr-section-summary {\n",
              "  grid-column: 1;\n",
              "  color: var(--xr-font-color2);\n",
              "  font-weight: 500;\n",
              "}\n",
              "\n",
              ".xr-section-summary > span {\n",
              "  display: inline-block;\n",
              "  padding-left: 0.5em;\n",
              "}\n",
              "\n",
              ".xr-section-summary-in:disabled + label {\n",
              "  color: var(--xr-font-color2);\n",
              "}\n",
              "\n",
              ".xr-section-summary-in + label:before {\n",
              "  display: inline-block;\n",
              "  content: '►';\n",
              "  font-size: 11px;\n",
              "  width: 15px;\n",
              "  text-align: center;\n",
              "}\n",
              "\n",
              ".xr-section-summary-in:disabled + label:before {\n",
              "  color: var(--xr-disabled-color);\n",
              "}\n",
              "\n",
              ".xr-section-summary-in:checked + label:before {\n",
              "  content: '▼';\n",
              "}\n",
              "\n",
              ".xr-section-summary-in:checked + label > span {\n",
              "  display: none;\n",
              "}\n",
              "\n",
              ".xr-section-summary,\n",
              ".xr-section-inline-details {\n",
              "  padding-top: 4px;\n",
              "  padding-bottom: 4px;\n",
              "}\n",
              "\n",
              ".xr-section-inline-details {\n",
              "  grid-column: 2 / -1;\n",
              "}\n",
              "\n",
              ".xr-section-details {\n",
              "  display: none;\n",
              "  grid-column: 1 / -1;\n",
              "  margin-bottom: 5px;\n",
              "}\n",
              "\n",
              ".xr-section-summary-in:checked ~ .xr-section-details {\n",
              "  display: contents;\n",
              "}\n",
              "\n",
              ".xr-array-wrap {\n",
              "  grid-column: 1 / -1;\n",
              "  display: grid;\n",
              "  grid-template-columns: 20px auto;\n",
              "}\n",
              "\n",
              ".xr-array-wrap > label {\n",
              "  grid-column: 1;\n",
              "  vertical-align: top;\n",
              "}\n",
              "\n",
              ".xr-preview {\n",
              "  color: var(--xr-font-color3);\n",
              "}\n",
              "\n",
              ".xr-array-preview,\n",
              ".xr-array-data {\n",
              "  padding: 0 5px !important;\n",
              "  grid-column: 2;\n",
              "}\n",
              "\n",
              ".xr-array-data,\n",
              ".xr-array-in:checked ~ .xr-array-preview {\n",
              "  display: none;\n",
              "}\n",
              "\n",
              ".xr-array-in:checked ~ .xr-array-data,\n",
              ".xr-array-preview {\n",
              "  display: inline-block;\n",
              "}\n",
              "\n",
              ".xr-dim-list {\n",
              "  display: inline-block !important;\n",
              "  list-style: none;\n",
              "  padding: 0 !important;\n",
              "  margin: 0;\n",
              "}\n",
              "\n",
              ".xr-dim-list li {\n",
              "  display: inline-block;\n",
              "  padding: 0;\n",
              "  margin: 0;\n",
              "}\n",
              "\n",
              ".xr-dim-list:before {\n",
              "  content: '(';\n",
              "}\n",
              "\n",
              ".xr-dim-list:after {\n",
              "  content: ')';\n",
              "}\n",
              "\n",
              ".xr-dim-list li:not(:last-child):after {\n",
              "  content: ',';\n",
              "  padding-right: 5px;\n",
              "}\n",
              "\n",
              ".xr-has-index {\n",
              "  font-weight: bold;\n",
              "}\n",
              "\n",
              ".xr-var-list,\n",
              ".xr-var-item {\n",
              "  display: contents;\n",
              "}\n",
              "\n",
              ".xr-var-item > div,\n",
              ".xr-var-item label,\n",
              ".xr-var-item > .xr-var-name span {\n",
              "  background-color: var(--xr-background-color-row-even);\n",
              "  margin-bottom: 0;\n",
              "}\n",
              "\n",
              ".xr-var-item > .xr-var-name:hover span {\n",
              "  padding-right: 5px;\n",
              "}\n",
              "\n",
              ".xr-var-list > li:nth-child(odd) > div,\n",
              ".xr-var-list > li:nth-child(odd) > label,\n",
              ".xr-var-list > li:nth-child(odd) > .xr-var-name span {\n",
              "  background-color: var(--xr-background-color-row-odd);\n",
              "}\n",
              "\n",
              ".xr-var-name {\n",
              "  grid-column: 1;\n",
              "}\n",
              "\n",
              ".xr-var-dims {\n",
              "  grid-column: 2;\n",
              "}\n",
              "\n",
              ".xr-var-dtype {\n",
              "  grid-column: 3;\n",
              "  text-align: right;\n",
              "  color: var(--xr-font-color2);\n",
              "}\n",
              "\n",
              ".xr-var-preview {\n",
              "  grid-column: 4;\n",
              "}\n",
              "\n",
              ".xr-index-preview {\n",
              "  grid-column: 2 / 5;\n",
              "  color: var(--xr-font-color2);\n",
              "}\n",
              "\n",
              ".xr-var-name,\n",
              ".xr-var-dims,\n",
              ".xr-var-dtype,\n",
              ".xr-preview,\n",
              ".xr-attrs dt {\n",
              "  white-space: nowrap;\n",
              "  overflow: hidden;\n",
              "  text-overflow: ellipsis;\n",
              "  padding-right: 10px;\n",
              "}\n",
              "\n",
              ".xr-var-name:hover,\n",
              ".xr-var-dims:hover,\n",
              ".xr-var-dtype:hover,\n",
              ".xr-attrs dt:hover {\n",
              "  overflow: visible;\n",
              "  width: auto;\n",
              "  z-index: 1;\n",
              "}\n",
              "\n",
              ".xr-var-attrs,\n",
              ".xr-var-data,\n",
              ".xr-index-data {\n",
              "  display: none;\n",
              "  background-color: var(--xr-background-color) !important;\n",
              "  padding-bottom: 5px !important;\n",
              "}\n",
              "\n",
              ".xr-var-attrs-in:checked ~ .xr-var-attrs,\n",
              ".xr-var-data-in:checked ~ .xr-var-data,\n",
              ".xr-index-data-in:checked ~ .xr-index-data {\n",
              "  display: block;\n",
              "}\n",
              "\n",
              ".xr-var-data > table {\n",
              "  float: right;\n",
              "}\n",
              "\n",
              ".xr-var-name span,\n",
              ".xr-var-data,\n",
              ".xr-index-name div,\n",
              ".xr-index-data,\n",
              ".xr-attrs {\n",
              "  padding-left: 25px !important;\n",
              "}\n",
              "\n",
              ".xr-attrs,\n",
              ".xr-var-attrs,\n",
              ".xr-var-data,\n",
              ".xr-index-data {\n",
              "  grid-column: 1 / -1;\n",
              "}\n",
              "\n",
              "dl.xr-attrs {\n",
              "  padding: 0;\n",
              "  margin: 0;\n",
              "  display: grid;\n",
              "  grid-template-columns: 125px auto;\n",
              "}\n",
              "\n",
              ".xr-attrs dt,\n",
              ".xr-attrs dd {\n",
              "  padding: 0;\n",
              "  margin: 0;\n",
              "  float: left;\n",
              "  padding-right: 10px;\n",
              "  width: auto;\n",
              "}\n",
              "\n",
              ".xr-attrs dt {\n",
              "  font-weight: normal;\n",
              "  grid-column: 1;\n",
              "}\n",
              "\n",
              ".xr-attrs dt:hover span {\n",
              "  display: inline-block;\n",
              "  background: var(--xr-background-color);\n",
              "  padding-right: 10px;\n",
              "}\n",
              "\n",
              ".xr-attrs dd {\n",
              "  grid-column: 2;\n",
              "  white-space: pre-wrap;\n",
              "  word-break: break-all;\n",
              "}\n",
              "\n",
              ".xr-icon-database,\n",
              ".xr-icon-file-text2,\n",
              ".xr-no-icon {\n",
              "  display: inline-block;\n",
              "  vertical-align: middle;\n",
              "  width: 1em;\n",
              "  height: 1.5em !important;\n",
              "  stroke-width: 0;\n",
              "  stroke: currentColor;\n",
              "  fill: currentColor;\n",
              "}\n",
              "</style><pre class='xr-text-repr-fallback'>&lt;xarray.Dataset&gt;\n",
              "Dimensions:       (Time: 5761)\n",
              "Coordinates:\n",
              "  * Time          (Time) datetime64[ns] 2019-04-03T00:01:00 ... 2019-11-29T00...\n",
              "    lat           float32 ...\n",
              "    lon           float32 ...\n",
              "    station_name  &lt;U4 &#x27;Pout&#x27;\n",
              "Data variables:\n",
              "    T2            (Time) float32 ...\n",
              "    RAIN_1MIN     (Time) float32 ...\n",
              "    Q2            (Time) float32 ...\n",
              "    SMOIS         (Time) float32 ...\n",
              "    U10           (Time) float32 ...\n",
              "    V10           (Time) float32 ...\n",
              "    PSFC          (Time) float32 ...\n",
              "Attributes:\n",
              "    Conventions:  CF-1.9</pre><div class='xr-wrap' style='display:none'><div class='xr-header'><div class='xr-obj-type'>xarray.Dataset</div></div><ul class='xr-sections'><li class='xr-section-item'><input id='section-330437d4-4c1a-46d1-b289-ec2f849788b7' class='xr-section-summary-in' type='checkbox' disabled ><label for='section-330437d4-4c1a-46d1-b289-ec2f849788b7' class='xr-section-summary'  title='Expand/collapse section'>Dimensions:</label><div class='xr-section-inline-details'><ul class='xr-dim-list'><li><span class='xr-has-index'>Time</span>: 5761</li></ul></div><div class='xr-section-details'></div></li><li class='xr-section-item'><input id='section-d704cd2e-0cc1-4d83-a688-d789d90f55d4' class='xr-section-summary-in' type='checkbox'  checked><label for='section-d704cd2e-0cc1-4d83-a688-d789d90f55d4' class='xr-section-summary' >Coordinates: <span>(4)</span></label><div class='xr-section-inline-details'></div><div class='xr-section-details'><ul class='xr-var-list'><li class='xr-var-item'><div class='xr-var-name'><span class='xr-has-index'>Time</span></div><div class='xr-var-dims'>(Time)</div><div class='xr-var-dtype'>datetime64[ns]</div><div class='xr-var-preview xr-preview'>2019-04-03T00:01:00 ... 2019-11-...</div><input id='attrs-948a7c7b-9439-46ad-bed2-eb513b5aefd4' class='xr-var-attrs-in' type='checkbox' ><label for='attrs-948a7c7b-9439-46ad-bed2-eb513b5aefd4' title='Show/Hide attributes'><svg class='icon xr-icon-file-text2'><use xlink:href='#icon-file-text2'></use></svg></label><input id='data-2061125e-4c89-44a4-811e-249c1ada2c66' class='xr-var-data-in' type='checkbox'><label for='data-2061125e-4c89-44a4-811e-249c1ada2c66' title='Show/Hide data repr'><svg class='icon xr-icon-database'><use xlink:href='#icon-database'></use></svg></label><div class='xr-var-attrs'><dl class='xr-attrs'><dt><span>standard_name :</span></dt><dd>time</dd><dt><span>axis :</span></dt><dd>T</dd></dl></div><div class='xr-var-data'><pre>array([&#x27;2019-04-03T00:01:00.000000000&#x27;, &#x27;2019-04-03T01:01:00.000000000&#x27;,\n",
              "       &#x27;2019-04-03T02:01:00.000000000&#x27;, ..., &#x27;2019-11-28T22:01:00.000000000&#x27;,\n",
              "       &#x27;2019-11-28T23:01:00.000000000&#x27;, &#x27;2019-11-29T00:01:00.000000000&#x27;],\n",
              "      dtype=&#x27;datetime64[ns]&#x27;)</pre></div></li><li class='xr-var-item'><div class='xr-var-name'><span>lat</span></div><div class='xr-var-dims'>()</div><div class='xr-var-dtype'>float32</div><div class='xr-var-preview xr-preview'>...</div><input id='attrs-ba7c6fdf-14b8-40b8-ba35-f2d9dd813f51' class='xr-var-attrs-in' type='checkbox' ><label for='attrs-ba7c6fdf-14b8-40b8-ba35-f2d9dd813f51' title='Show/Hide attributes'><svg class='icon xr-icon-file-text2'><use xlink:href='#icon-file-text2'></use></svg></label><input id='data-12a9a33c-9c76-4d78-b164-5347316eb4d3' class='xr-var-data-in' type='checkbox'><label for='data-12a9a33c-9c76-4d78-b164-5347316eb4d3' title='Show/Hide data repr'><svg class='icon xr-icon-database'><use xlink:href='#icon-database'></use></svg></label><div class='xr-var-attrs'><dl class='xr-attrs'><dt><span>units :</span></dt><dd>degrees_north</dd><dt><span>long_name :</span></dt><dd>latitude</dd><dt><span>standard_name :</span></dt><dd>latitude</dd><dt><span>axis :</span></dt><dd>Y</dd></dl></div><div class='xr-var-data'><pre>[1 values with dtype=float32]</pre></div></li><li class='xr-var-item'><div class='xr-var-name'><span>lon</span></div><div class='xr-var-dims'>()</div><div class='xr-var-dtype'>float32</div><div class='xr-var-preview xr-preview'>...</div><input id='attrs-27c9ad12-0c43-4151-9c10-dc617d8c086e' class='xr-var-attrs-in' type='checkbox' ><label for='attrs-27c9ad12-0c43-4151-9c10-dc617d8c086e' title='Show/Hide attributes'><svg class='icon xr-icon-file-text2'><use xlink:href='#icon-file-text2'></use></svg></label><input id='data-6004c93f-b5d6-4b50-bf76-b002c4af22cf' class='xr-var-data-in' type='checkbox'><label for='data-6004c93f-b5d6-4b50-bf76-b002c4af22cf' title='Show/Hide data repr'><svg class='icon xr-icon-database'><use xlink:href='#icon-database'></use></svg></label><div class='xr-var-attrs'><dl class='xr-attrs'><dt><span>units :</span></dt><dd>degrees_east</dd><dt><span>standard_name :</span></dt><dd>longitude</dd><dt><span>long_name :</span></dt><dd>longitude</dd><dt><span>axis :</span></dt><dd>X</dd></dl></div><div class='xr-var-data'><pre>[1 values with dtype=float32]</pre></div></li><li class='xr-var-item'><div class='xr-var-name'><span>station_name</span></div><div class='xr-var-dims'>()</div><div class='xr-var-dtype'>&lt;U4</div><div class='xr-var-preview xr-preview'>&#x27;Pout&#x27;</div><input id='attrs-7dff0461-cb6b-410b-a791-62b217eb0c5f' class='xr-var-attrs-in' type='checkbox' disabled><label for='attrs-7dff0461-cb6b-410b-a791-62b217eb0c5f' title='Show/Hide attributes'><svg class='icon xr-icon-file-text2'><use xlink:href='#icon-file-text2'></use></svg></label><input id='data-5a548af6-af69-47b7-8943-7e48757f167b' class='xr-var-data-in' type='checkbox'><label for='data-5a548af6-af69-47b7-8943-7e48757f167b' title='Show/Hide data repr'><svg class='icon xr-icon-database'><use xlink:href='#icon-database'></use></svg></label><div class='xr-var-attrs'><dl class='xr-attrs'></dl></div><div class='xr-var-data'><pre>array(&#x27;Pout&#x27;, dtype=&#x27;&lt;U4&#x27;)</pre></div></li></ul></div></li><li class='xr-section-item'><input id='section-1f1a378a-9d45-4ad1-966a-3462966bf88f' class='xr-section-summary-in' type='checkbox'  checked><label for='section-1f1a378a-9d45-4ad1-966a-3462966bf88f' class='xr-section-summary' >Data variables: <span>(7)</span></label><div class='xr-section-inline-details'></div><div class='xr-section-details'><ul class='xr-var-list'><li class='xr-var-item'><div class='xr-var-name'><span>T2</span></div><div class='xr-var-dims'>(Time)</div><div class='xr-var-dtype'>float32</div><div class='xr-var-preview xr-preview'>...</div><input id='attrs-036337ea-6da8-4b59-ac67-f1e8aeea593f' class='xr-var-attrs-in' type='checkbox' ><label for='attrs-036337ea-6da8-4b59-ac67-f1e8aeea593f' title='Show/Hide attributes'><svg class='icon xr-icon-file-text2'><use xlink:href='#icon-file-text2'></use></svg></label><input id='data-9d5baee2-bc6b-46c2-b72a-70161410834c' class='xr-var-data-in' type='checkbox'><label for='data-9d5baee2-bc6b-46c2-b72a-70161410834c' title='Show/Hide data repr'><svg class='icon xr-icon-database'><use xlink:href='#icon-database'></use></svg></label><div class='xr-var-attrs'><dl class='xr-attrs'><dt><span>units :</span></dt><dd>K</dd><dt><span>MemoryOrder :</span></dt><dd>YX</dd></dl></div><div class='xr-var-data'><pre>[5761 values with dtype=float32]</pre></div></li><li class='xr-var-item'><div class='xr-var-name'><span>RAIN_1MIN</span></div><div class='xr-var-dims'>(Time)</div><div class='xr-var-dtype'>float32</div><div class='xr-var-preview xr-preview'>...</div><input id='attrs-804c648e-beb7-4056-8ed9-af370e7f4c41' class='xr-var-attrs-in' type='checkbox' ><label for='attrs-804c648e-beb7-4056-8ed9-af370e7f4c41' title='Show/Hide attributes'><svg class='icon xr-icon-file-text2'><use xlink:href='#icon-file-text2'></use></svg></label><input id='data-1b2d95c9-b28a-46a2-8a2f-f7fbe4ed3785' class='xr-var-data-in' type='checkbox'><label for='data-1b2d95c9-b28a-46a2-8a2f-f7fbe4ed3785' title='Show/Hide data repr'><svg class='icon xr-icon-database'><use xlink:href='#icon-database'></use></svg></label><div class='xr-var-attrs'><dl class='xr-attrs'><dt><span>units :</span></dt><dd>mm/min</dd><dt><span>MemoryOrder :</span></dt><dd>XY</dd></dl></div><div class='xr-var-data'><pre>[5761 values with dtype=float32]</pre></div></li><li class='xr-var-item'><div class='xr-var-name'><span>Q2</span></div><div class='xr-var-dims'>(Time)</div><div class='xr-var-dtype'>float32</div><div class='xr-var-preview xr-preview'>...</div><input id='attrs-297bf9e8-f8e1-408b-ae07-8b72dee33b34' class='xr-var-attrs-in' type='checkbox' ><label for='attrs-297bf9e8-f8e1-408b-ae07-8b72dee33b34' title='Show/Hide attributes'><svg class='icon xr-icon-file-text2'><use xlink:href='#icon-file-text2'></use></svg></label><input id='data-b5b53741-1483-4164-88cf-e279a7ab3827' class='xr-var-data-in' type='checkbox'><label for='data-b5b53741-1483-4164-88cf-e279a7ab3827' title='Show/Hide data repr'><svg class='icon xr-icon-database'><use xlink:href='#icon-database'></use></svg></label><div class='xr-var-attrs'><dl class='xr-attrs'><dt><span>units :</span></dt><dd>kg /kg -1</dd><dt><span>MemoryOrder :</span></dt><dd>XY</dd></dl></div><div class='xr-var-data'><pre>[5761 values with dtype=float32]</pre></div></li><li class='xr-var-item'><div class='xr-var-name'><span>SMOIS</span></div><div class='xr-var-dims'>(Time)</div><div class='xr-var-dtype'>float32</div><div class='xr-var-preview xr-preview'>...</div><input id='attrs-9286634a-8732-45f2-a854-98b595d48429' class='xr-var-attrs-in' type='checkbox' ><label for='attrs-9286634a-8732-45f2-a854-98b595d48429' title='Show/Hide attributes'><svg class='icon xr-icon-file-text2'><use xlink:href='#icon-file-text2'></use></svg></label><input id='data-c3cf2e85-53af-4ca0-984e-d8a422aa2971' class='xr-var-data-in' type='checkbox'><label for='data-c3cf2e85-53af-4ca0-984e-d8a422aa2971' title='Show/Hide data repr'><svg class='icon xr-icon-database'><use xlink:href='#icon-database'></use></svg></label><div class='xr-var-attrs'><dl class='xr-attrs'><dt><span>units :</span></dt><dd>kg /kg -3</dd><dt><span>MemoryOrder :</span></dt><dd>XY</dd></dl></div><div class='xr-var-data'><pre>[5761 values with dtype=float32]</pre></div></li><li class='xr-var-item'><div class='xr-var-name'><span>U10</span></div><div class='xr-var-dims'>(Time)</div><div class='xr-var-dtype'>float32</div><div class='xr-var-preview xr-preview'>...</div><input id='attrs-56a72579-ef1b-4882-ab43-b711a38bdfe5' class='xr-var-attrs-in' type='checkbox' ><label for='attrs-56a72579-ef1b-4882-ab43-b711a38bdfe5' title='Show/Hide attributes'><svg class='icon xr-icon-file-text2'><use xlink:href='#icon-file-text2'></use></svg></label><input id='data-752be000-ac29-4e5c-adc3-6ccbd5566905' class='xr-var-data-in' type='checkbox'><label for='data-752be000-ac29-4e5c-adc3-6ccbd5566905' title='Show/Hide data repr'><svg class='icon xr-icon-database'><use xlink:href='#icon-database'></use></svg></label><div class='xr-var-attrs'><dl class='xr-attrs'><dt><span>units :</span></dt><dd>m s-1</dd><dt><span>MemoryOrder :</span></dt><dd>ZYX</dd></dl></div><div class='xr-var-data'><pre>[5761 values with dtype=float32]</pre></div></li><li class='xr-var-item'><div class='xr-var-name'><span>V10</span></div><div class='xr-var-dims'>(Time)</div><div class='xr-var-dtype'>float32</div><div class='xr-var-preview xr-preview'>...</div><input id='attrs-cd7314b3-fa29-4168-8ecd-85bf448a8b65' class='xr-var-attrs-in' type='checkbox' ><label for='attrs-cd7314b3-fa29-4168-8ecd-85bf448a8b65' title='Show/Hide attributes'><svg class='icon xr-icon-file-text2'><use xlink:href='#icon-file-text2'></use></svg></label><input id='data-9f328436-d068-4767-a0d9-c9995050fa77' class='xr-var-data-in' type='checkbox'><label for='data-9f328436-d068-4767-a0d9-c9995050fa77' title='Show/Hide data repr'><svg class='icon xr-icon-database'><use xlink:href='#icon-database'></use></svg></label><div class='xr-var-attrs'><dl class='xr-attrs'><dt><span>units :</span></dt><dd>m s-1</dd><dt><span>MemoryOrder :</span></dt><dd>ZYX</dd></dl></div><div class='xr-var-data'><pre>[5761 values with dtype=float32]</pre></div></li><li class='xr-var-item'><div class='xr-var-name'><span>PSFC</span></div><div class='xr-var-dims'>(Time)</div><div class='xr-var-dtype'>float32</div><div class='xr-var-preview xr-preview'>...</div><input id='attrs-715f2575-40d6-403a-b65d-e3f775a60b3e' class='xr-var-attrs-in' type='checkbox' ><label for='attrs-715f2575-40d6-403a-b65d-e3f775a60b3e' title='Show/Hide attributes'><svg class='icon xr-icon-file-text2'><use xlink:href='#icon-file-text2'></use></svg></label><input id='data-4d7d24ed-3c6b-4efa-aa60-abe2acdc1179' class='xr-var-data-in' type='checkbox'><label for='data-4d7d24ed-3c6b-4efa-aa60-abe2acdc1179' title='Show/Hide data repr'><svg class='icon xr-icon-database'><use xlink:href='#icon-database'></use></svg></label><div class='xr-var-attrs'><dl class='xr-attrs'><dt><span>units :</span></dt><dd>Pa</dd><dt><span>MemoryOrder :</span></dt><dd>XY</dd></dl></div><div class='xr-var-data'><pre>[5761 values with dtype=float32]</pre></div></li></ul></div></li><li class='xr-section-item'><input id='section-dcfcf8b0-590f-427f-aa42-b023eb723862' class='xr-section-summary-in' type='checkbox'  ><label for='section-dcfcf8b0-590f-427f-aa42-b023eb723862' class='xr-section-summary' >Indexes: <span>(1)</span></label><div class='xr-section-inline-details'></div><div class='xr-section-details'><ul class='xr-var-list'><li class='xr-var-item'><div class='xr-index-name'><div>Time</div></div><div class='xr-index-preview'>PandasIndex</div><div></div><input id='index-2ef1d803-5c27-4e49-8552-324ce123b5a2' class='xr-index-data-in' type='checkbox'/><label for='index-2ef1d803-5c27-4e49-8552-324ce123b5a2' title='Show/Hide index repr'><svg class='icon xr-icon-database'><use xlink:href='#icon-database'></use></svg></label><div class='xr-index-data'><pre>PandasIndex(DatetimeIndex([&#x27;2019-04-03 00:01:00&#x27;, &#x27;2019-04-03 01:01:00&#x27;,\n",
              "               &#x27;2019-04-03 02:01:00&#x27;, &#x27;2019-04-03 03:01:00&#x27;,\n",
              "               &#x27;2019-04-03 04:01:00&#x27;, &#x27;2019-04-03 05:01:00&#x27;,\n",
              "               &#x27;2019-04-03 06:01:00&#x27;, &#x27;2019-04-03 07:01:00&#x27;,\n",
              "               &#x27;2019-04-03 08:01:00&#x27;, &#x27;2019-04-03 09:01:00&#x27;,\n",
              "               ...\n",
              "               &#x27;2019-11-28 15:01:00&#x27;, &#x27;2019-11-28 16:01:00&#x27;,\n",
              "               &#x27;2019-11-28 17:01:00&#x27;, &#x27;2019-11-28 18:01:00&#x27;,\n",
              "               &#x27;2019-11-28 19:01:00&#x27;, &#x27;2019-11-28 20:01:00&#x27;,\n",
              "               &#x27;2019-11-28 21:01:00&#x27;, &#x27;2019-11-28 22:01:00&#x27;,\n",
              "               &#x27;2019-11-28 23:01:00&#x27;, &#x27;2019-11-29 00:01:00&#x27;],\n",
              "              dtype=&#x27;datetime64[ns]&#x27;, name=&#x27;Time&#x27;, length=5761, freq=None))</pre></div></li></ul></div></li><li class='xr-section-item'><input id='section-a007703d-c8f1-4969-ae41-3e692bf38a5a' class='xr-section-summary-in' type='checkbox'  checked><label for='section-a007703d-c8f1-4969-ae41-3e692bf38a5a' class='xr-section-summary' >Attributes: <span>(1)</span></label><div class='xr-section-inline-details'></div><div class='xr-section-details'><dl class='xr-attrs'><dt><span>Conventions :</span></dt><dd>CF-1.9</dd></dl></div></li></ul></div></div>"
            ],
            "text/plain": [
              "<xarray.Dataset>\n",
              "Dimensions:       (Time: 5761)\n",
              "Coordinates:\n",
              "  * Time          (Time) datetime64[ns] 2019-04-03T00:01:00 ... 2019-11-29T00...\n",
              "    lat           float32 ...\n",
              "    lon           float32 ...\n",
              "    station_name  <U4 'Pout'\n",
              "Data variables:\n",
              "    T2            (Time) float32 ...\n",
              "    RAIN_1MIN     (Time) float32 ...\n",
              "    Q2            (Time) float32 ...\n",
              "    SMOIS         (Time) float32 ...\n",
              "    U10           (Time) float32 ...\n",
              "    V10           (Time) float32 ...\n",
              "    PSFC          (Time) float32 ...\n",
              "Attributes:\n",
              "    Conventions:  CF-1.9"
            ]
          },
          "execution_count": 24,
          "metadata": {},
          "output_type": "execute_result"
        }
      ],
      "source": [
        "ds_pout_subset = ds.sel(station_name=\"Pout\").isel(Time=slice(None, None, 60))\n",
        "ds_pout_subset"
      ]
    },
    {
      "cell_type": "code",
      "execution_count": 25,
      "metadata": {},
      "outputs": [],
      "source": [
        "df = ds_pout_subset.drop([\"station_name\"]).to_dataframe()"
      ]
    },
    {
      "cell_type": "markdown",
      "metadata": {
        "id": "VdbOWXiTWM2T"
      },
      "source": [
        "Let's take a glance at the data. Here are the first few rows:"
      ]
    },
    {
      "cell_type": "code",
      "execution_count": 26,
      "metadata": {
        "id": "ojHE-iCCWIhz"
      },
      "outputs": [
        {
          "data": {
            "text/html": [
              "<div>\n",
              "<style scoped>\n",
              "    .dataframe tbody tr th:only-of-type {\n",
              "        vertical-align: middle;\n",
              "    }\n",
              "\n",
              "    .dataframe tbody tr th {\n",
              "        vertical-align: top;\n",
              "    }\n",
              "\n",
              "    .dataframe thead th {\n",
              "        text-align: right;\n",
              "    }\n",
              "</style>\n",
              "<table border=\"1\" class=\"dataframe\">\n",
              "  <thead>\n",
              "    <tr style=\"text-align: right;\">\n",
              "      <th></th>\n",
              "      <th>T2</th>\n",
              "      <th>RAIN_1MIN</th>\n",
              "      <th>Q2</th>\n",
              "      <th>SMOIS</th>\n",
              "      <th>U10</th>\n",
              "      <th>V10</th>\n",
              "      <th>PSFC</th>\n",
              "      <th>lat</th>\n",
              "      <th>lon</th>\n",
              "    </tr>\n",
              "    <tr>\n",
              "      <th>Time</th>\n",
              "      <th></th>\n",
              "      <th></th>\n",
              "      <th></th>\n",
              "      <th></th>\n",
              "      <th></th>\n",
              "      <th></th>\n",
              "      <th></th>\n",
              "      <th></th>\n",
              "      <th></th>\n",
              "    </tr>\n",
              "  </thead>\n",
              "  <tbody>\n",
              "    <tr>\n",
              "      <th>2019-04-03 00:01:00</th>\n",
              "      <td>293.485138</td>\n",
              "      <td>0.0</td>\n",
              "      <td>0.012031</td>\n",
              "      <td>0.029992</td>\n",
              "      <td>0.985843</td>\n",
              "      <td>-6.172590</td>\n",
              "      <td>101008.367188</td>\n",
              "      <td>14.761833</td>\n",
              "      <td>-17.06885</td>\n",
              "    </tr>\n",
              "    <tr>\n",
              "      <th>2019-04-03 01:01:00</th>\n",
              "      <td>292.805695</td>\n",
              "      <td>0.0</td>\n",
              "      <td>0.012216</td>\n",
              "      <td>0.029992</td>\n",
              "      <td>1.049848</td>\n",
              "      <td>-5.611374</td>\n",
              "      <td>101006.546875</td>\n",
              "      <td>14.761833</td>\n",
              "      <td>-17.06885</td>\n",
              "    </tr>\n",
              "    <tr>\n",
              "      <th>2019-04-03 02:01:00</th>\n",
              "      <td>292.532318</td>\n",
              "      <td>0.0</td>\n",
              "      <td>0.012339</td>\n",
              "      <td>0.029992</td>\n",
              "      <td>1.303289</td>\n",
              "      <td>-5.851062</td>\n",
              "      <td>100938.664062</td>\n",
              "      <td>14.761833</td>\n",
              "      <td>-17.06885</td>\n",
              "    </tr>\n",
              "    <tr>\n",
              "      <th>2019-04-03 03:01:00</th>\n",
              "      <td>292.306366</td>\n",
              "      <td>0.0</td>\n",
              "      <td>0.012361</td>\n",
              "      <td>0.029992</td>\n",
              "      <td>1.576486</td>\n",
              "      <td>-6.087372</td>\n",
              "      <td>100902.273438</td>\n",
              "      <td>14.761833</td>\n",
              "      <td>-17.06885</td>\n",
              "    </tr>\n",
              "    <tr>\n",
              "      <th>2019-04-03 04:01:00</th>\n",
              "      <td>292.023834</td>\n",
              "      <td>0.0</td>\n",
              "      <td>0.012329</td>\n",
              "      <td>0.029992</td>\n",
              "      <td>0.783953</td>\n",
              "      <td>-5.888916</td>\n",
              "      <td>100857.187500</td>\n",
              "      <td>14.761833</td>\n",
              "      <td>-17.06885</td>\n",
              "    </tr>\n",
              "  </tbody>\n",
              "</table>\n",
              "</div>"
            ],
            "text/plain": [
              "                             T2  RAIN_1MIN        Q2     SMOIS       U10  \\\n",
              "Time                                                                       \n",
              "2019-04-03 00:01:00  293.485138        0.0  0.012031  0.029992  0.985843   \n",
              "2019-04-03 01:01:00  292.805695        0.0  0.012216  0.029992  1.049848   \n",
              "2019-04-03 02:01:00  292.532318        0.0  0.012339  0.029992  1.303289   \n",
              "2019-04-03 03:01:00  292.306366        0.0  0.012361  0.029992  1.576486   \n",
              "2019-04-03 04:01:00  292.023834        0.0  0.012329  0.029992  0.783953   \n",
              "\n",
              "                          V10           PSFC        lat       lon  \n",
              "Time                                                               \n",
              "2019-04-03 00:01:00 -6.172590  101008.367188  14.761833 -17.06885  \n",
              "2019-04-03 01:01:00 -5.611374  101006.546875  14.761833 -17.06885  \n",
              "2019-04-03 02:01:00 -5.851062  100938.664062  14.761833 -17.06885  \n",
              "2019-04-03 03:01:00 -6.087372  100902.273438  14.761833 -17.06885  \n",
              "2019-04-03 04:01:00 -5.888916  100857.187500  14.761833 -17.06885  "
            ]
          },
          "execution_count": 26,
          "metadata": {},
          "output_type": "execute_result"
        }
      ],
      "source": [
        "df.head()"
      ]
    },
    {
      "cell_type": "markdown",
      "metadata": {
        "id": "WRzj1inMfgcO"
      },
      "source": [
        "Here is the evolution of a few features over time:"
      ]
    },
    {
      "cell_type": "code",
      "execution_count": 27,
      "metadata": {
        "id": "Vg5XIc5tfNlG"
      },
      "outputs": [
        {
          "data": {
            "image/png": "[encoded data removed]",
            "text/plain": [
              "<Figure size 800x600 with 3 Axes>"
            ]
          },
          "metadata": {},
          "output_type": "display_data"
        },
        {
          "data": {
            "image/png": "[encoded data removed]",
            "text/plain": [
              "<Figure size 800x600 with 3 Axes>"
            ]
          },
          "metadata": {},
          "output_type": "display_data"
        }
      ],
      "source": [
        "plot_cols = [\"T2\", \"U10\", \"V10\"]\n",
        "plot_features = df[plot_cols]\n",
        "_ = plot_features.plot(subplots=True)\n",
        "\n",
        "plot_features = df[plot_cols][:480]\n",
        "_ = plot_features.plot(subplots=True)"
      ]
    },
    {
      "cell_type": "markdown",
      "metadata": {
        "id": "wXWLG0_WBhZS"
      },
      "source": [
        "### Inspect and cleanup"
      ]
    },
    {
      "cell_type": "markdown",
      "metadata": {
        "id": "yhmZXJew6GlS"
      },
      "source": [
        "Next, look at the statistics of the dataset:"
      ]
    },
    {
      "cell_type": "code",
      "execution_count": 28,
      "metadata": {
        "id": "h510pgKVrrai"
      },
      "outputs": [
        {
          "data": {
            "text/html": [
              "<div>\n",
              "<style scoped>\n",
              "    .dataframe tbody tr th:only-of-type {\n",
              "        vertical-align: middle;\n",
              "    }\n",
              "\n",
              "    .dataframe tbody tr th {\n",
              "        vertical-align: top;\n",
              "    }\n",
              "\n",
              "    .dataframe thead th {\n",
              "        text-align: right;\n",
              "    }\n",
              "</style>\n",
              "<table border=\"1\" class=\"dataframe\">\n",
              "  <thead>\n",
              "    <tr style=\"text-align: right;\">\n",
              "      <th></th>\n",
              "      <th>count</th>\n",
              "      <th>mean</th>\n",
              "      <th>std</th>\n",
              "      <th>min</th>\n",
              "      <th>25%</th>\n",
              "      <th>50%</th>\n",
              "      <th>75%</th>\n",
              "      <th>max</th>\n",
              "    </tr>\n",
              "  </thead>\n",
              "  <tbody>\n",
              "    <tr>\n",
              "      <th>T2</th>\n",
              "      <td>5761.0</td>\n",
              "      <td>298.770782</td>\n",
              "      <td>4.159803</td>\n",
              "      <td>288.834869</td>\n",
              "      <td>295.917755</td>\n",
              "      <td>298.824005</td>\n",
              "      <td>301.752228</td>\n",
              "      <td>311.868988</td>\n",
              "    </tr>\n",
              "    <tr>\n",
              "      <th>RAIN_1MIN</th>\n",
              "      <td>5761.0</td>\n",
              "      <td>0.001295</td>\n",
              "      <td>0.026950</td>\n",
              "      <td>-0.008886</td>\n",
              "      <td>0.000000</td>\n",
              "      <td>0.000000</td>\n",
              "      <td>0.000000</td>\n",
              "      <td>1.516590</td>\n",
              "    </tr>\n",
              "    <tr>\n",
              "      <th>Q2</th>\n",
              "      <td>5761.0</td>\n",
              "      <td>0.014988</td>\n",
              "      <td>0.003289</td>\n",
              "      <td>0.003353</td>\n",
              "      <td>0.012611</td>\n",
              "      <td>0.015246</td>\n",
              "      <td>0.017774</td>\n",
              "      <td>0.021131</td>\n",
              "    </tr>\n",
              "    <tr>\n",
              "      <th>SMOIS</th>\n",
              "      <td>5761.0</td>\n",
              "      <td>0.030098</td>\n",
              "      <td>0.000180</td>\n",
              "      <td>0.029992</td>\n",
              "      <td>0.029992</td>\n",
              "      <td>0.029992</td>\n",
              "      <td>0.030176</td>\n",
              "      <td>0.030425</td>\n",
              "    </tr>\n",
              "    <tr>\n",
              "      <th>U10</th>\n",
              "      <td>5761.0</td>\n",
              "      <td>1.838166</td>\n",
              "      <td>1.989287</td>\n",
              "      <td>-11.232212</td>\n",
              "      <td>0.798243</td>\n",
              "      <td>2.032014</td>\n",
              "      <td>3.130756</td>\n",
              "      <td>7.083217</td>\n",
              "    </tr>\n",
              "    <tr>\n",
              "      <th>V10</th>\n",
              "      <td>5761.0</td>\n",
              "      <td>-2.107089</td>\n",
              "      <td>2.984251</td>\n",
              "      <td>-9.318031</td>\n",
              "      <td>-4.241434</td>\n",
              "      <td>-2.286833</td>\n",
              "      <td>-0.071996</td>\n",
              "      <td>9.452870</td>\n",
              "    </tr>\n",
              "    <tr>\n",
              "      <th>PSFC</th>\n",
              "      <td>5761.0</td>\n",
              "      <td>100742.601562</td>\n",
              "      <td>159.612366</td>\n",
              "      <td>100050.210938</td>\n",
              "      <td>100638.781250</td>\n",
              "      <td>100750.882812</td>\n",
              "      <td>100851.156250</td>\n",
              "      <td>101355.484375</td>\n",
              "    </tr>\n",
              "    <tr>\n",
              "      <th>lat</th>\n",
              "      <td>5761.0</td>\n",
              "      <td>14.761836</td>\n",
              "      <td>0.000000</td>\n",
              "      <td>14.761833</td>\n",
              "      <td>14.761833</td>\n",
              "      <td>14.761833</td>\n",
              "      <td>14.761833</td>\n",
              "      <td>14.761833</td>\n",
              "    </tr>\n",
              "    <tr>\n",
              "      <th>lon</th>\n",
              "      <td>5761.0</td>\n",
              "      <td>-17.068850</td>\n",
              "      <td>0.000000</td>\n",
              "      <td>-17.068850</td>\n",
              "      <td>-17.068850</td>\n",
              "      <td>-17.068850</td>\n",
              "      <td>-17.068850</td>\n",
              "      <td>-17.068850</td>\n",
              "    </tr>\n",
              "  </tbody>\n",
              "</table>\n",
              "</div>"
            ],
            "text/plain": [
              "            count           mean         std            min            25%  \\\n",
              "T2         5761.0     298.770782    4.159803     288.834869     295.917755   \n",
              "RAIN_1MIN  5761.0       0.001295    0.026950      -0.008886       0.000000   \n",
              "Q2         5761.0       0.014988    0.003289       0.003353       0.012611   \n",
              "SMOIS      5761.0       0.030098    0.000180       0.029992       0.029992   \n",
              "U10        5761.0       1.838166    1.989287     -11.232212       0.798243   \n",
              "V10        5761.0      -2.107089    2.984251      -9.318031      -4.241434   \n",
              "PSFC       5761.0  100742.601562  159.612366  100050.210938  100638.781250   \n",
              "lat        5761.0      14.761836    0.000000      14.761833      14.761833   \n",
              "lon        5761.0     -17.068850    0.000000     -17.068850     -17.068850   \n",
              "\n",
              "                     50%            75%            max  \n",
              "T2            298.824005     301.752228     311.868988  \n",
              "RAIN_1MIN       0.000000       0.000000       1.516590  \n",
              "Q2              0.015246       0.017774       0.021131  \n",
              "SMOIS           0.029992       0.030176       0.030425  \n",
              "U10             2.032014       3.130756       7.083217  \n",
              "V10            -2.286833      -0.071996       9.452870  \n",
              "PSFC       100750.882812  100851.156250  101355.484375  \n",
              "lat            14.761833      14.761833      14.761833  \n",
              "lon           -17.068850     -17.068850     -17.068850  "
            ]
          },
          "execution_count": 28,
          "metadata": {},
          "output_type": "execute_result"
        }
      ],
      "source": [
        "df.describe().transpose()"
      ]
    },
    {
      "cell_type": "markdown",
      "metadata": {
        "id": "vtmu2IBPgPG8"
      },
      "source": [
        "### Feature engineering\n",
        "\n",
        "Before diving in to build a model, it's important to understand your data and be sure that you're passing the model appropriately formatted data."
      ]
    },
    {
      "cell_type": "markdown",
      "metadata": {
        "id": "7iI0zDoxWDyB"
      },
      "source": [
        "The distribution of wind vectors is much simpler for the model to correctly interpret:"
      ]
    },
    {
      "cell_type": "code",
      "execution_count": 29,
      "metadata": {
        "id": "bMgCG5o2SYKD"
      },
      "outputs": [
        {
          "data": {
            "text/plain": [
              "(-11.23221206665039, 7.083217144012451, -9.318031311035156, 9.45287036895752)"
            ]
          },
          "execution_count": 29,
          "metadata": {},
          "output_type": "execute_result"
        },
        {
          "data": {
            "image/png": "[encoded data removed]",
            "text/plain": [
              "<Figure size 800x600 with 2 Axes>"
            ]
          },
          "metadata": {},
          "output_type": "display_data"
        }
      ],
      "source": [
        "plt.hist2d(df[\"U10\"], df[\"V10\"], bins=(50, 50), vmax=400)\n",
        "plt.colorbar()\n",
        "plt.xlabel(\"Wind X [m/s]\")\n",
        "plt.ylabel(\"Wind Y [m/s]\")\n",
        "ax = plt.gca()\n",
        "ax.axis(\"tight\")"
      ]
    },
    {
      "cell_type": "markdown",
      "metadata": {
        "id": "_8im1ttOWlRB"
      },
      "source": [
        "#### Time"
      ]
    },
    {
      "cell_type": "markdown",
      "metadata": {
        "id": "7YE21HKK40zQ"
      },
      "source": [
        "Similarly, the `Date Time` column is very useful, but not in this string form. Start by converting it to seconds:"
      ]
    },
    {
      "cell_type": "code",
      "execution_count": 30,
      "metadata": {
        "id": "LIFf-VjMfnh3"
      },
      "outputs": [],
      "source": [
        "timestamp_s = df.index.map(pd.Timestamp.timestamp)"
      ]
    },
    {
      "cell_type": "markdown",
      "metadata": {
        "id": "EC_pnM1D5Sgc"
      },
      "source": [
        "Similar to the wind direction, the time in seconds is not a useful model input. Being weather data, it has clear daily and yearly periodicity. There are many ways you could deal with periodicity.\n",
        "\n",
        "You can get usable signals by using sine and cosine transforms to clear \"Time of day\" and \"Time of year\" signals:"
      ]
    },
    {
      "cell_type": "code",
      "execution_count": 31,
      "metadata": {
        "id": "MBfX6CDwax73"
      },
      "outputs": [],
      "source": [
        "day = 24 * 60 * 60\n",
        "year = (365.2425) * day\n",
        "\n",
        "df[\"Day sin\"] = np.sin(timestamp_s * (2 * np.pi / day))\n",
        "df[\"Day cos\"] = np.cos(timestamp_s * (2 * np.pi / day))\n",
        "df[\"Year sin\"] = np.sin(timestamp_s * (2 * np.pi / year))\n",
        "df[\"Year cos\"] = np.cos(timestamp_s * (2 * np.pi / year))"
      ]
    },
    {
      "cell_type": "code",
      "execution_count": 32,
      "metadata": {
        "id": "mXBbTJZfuuTC"
      },
      "outputs": [
        {
          "data": {
            "text/plain": [
              "Text(0.5, 1.0, 'Time of day signal')"
            ]
          },
          "execution_count": 32,
          "metadata": {},
          "output_type": "execute_result"
        },
        {
          "data": {
            "image/png": "[encoded data removed]",
            "text/plain": [
              "<Figure size 800x600 with 1 Axes>"
            ]
          },
          "metadata": {},
          "output_type": "display_data"
        }
      ],
      "source": [
        "plt.plot(np.array(df[\"Day sin\"])[:25])\n",
        "plt.plot(np.array(df[\"Day cos\"])[:25])\n",
        "plt.xlabel(\"Time [h]\")\n",
        "plt.title(\"Time of day signal\")"
      ]
    },
    {
      "cell_type": "markdown",
      "metadata": {
        "id": "HiurzTGQgf_D"
      },
      "source": [
        "This gives the model access to the most important frequency features. In this case you knew ahead of time which frequencies were important. \n",
        "\n",
        "If you don't have that information, you can determine which frequencies are important by extracting features with <a href=\"https://en.wikipedia.org/wiki/Fast_Fourier_transform\" class=\"external\">Fast Fourier Transform</a>. To check the assumptions, here is the `tf.signal.rfft` of the temperature over time. Note the obvious peaks at frequencies near `1/year` and `1/day`:\n"
      ]
    },
    {
      "cell_type": "code",
      "execution_count": 33,
      "metadata": {
        "id": "EN4U1fcMiTYs"
      },
      "outputs": [
        {
          "data": {
            "image/png": "[encoded data removed]",
            "text/plain": [
              "<Figure size 800x600 with 1 Axes>"
            ]
          },
          "metadata": {},
          "output_type": "display_data"
        }
      ],
      "source": [
        "var_name = \"T2\"\n",
        "fft = tf.signal.rfft(df[var_name])\n",
        "f_per_dataset = np.arange(0, len(fft))\n",
        "\n",
        "n_samples_h = len(df[var_name])\n",
        "hours_per_year = 24 * 365.2524\n",
        "years_per_dataset = n_samples_h / (hours_per_year)\n",
        "\n",
        "f_per_year = f_per_dataset / years_per_dataset\n",
        "plt.step(f_per_year, np.abs(fft))\n",
        "plt.xscale(\"log\")\n",
        "plt.ylim(0, 40000)\n",
        "plt.xlim([0.1, max(plt.xlim())])\n",
        "plt.xticks([1, 365.2524], labels=[\"1/Year\", \"1/day\"])\n",
        "_ = plt.xlabel(\"Frequency (log scale)\")"
      ]
    },
    {
      "cell_type": "markdown",
      "metadata": {
        "id": "2rbL8bSGDHy3"
      },
      "source": [
        "### Split the data"
      ]
    },
    {
      "cell_type": "markdown",
      "metadata": {
        "id": "qoFJZmXBaxCc"
      },
      "source": [
        "You'll use a `(70%, 20%, 10%)` split for the training, validation, and test sets. Note the data is **not** being randomly shuffled before splitting. This is for two reasons:\n",
        "\n",
        "1. It ensures that chopping the data into windows of consecutive samples is still possible.\n",
        "2. It ensures that the validation/test results are more realistic, being evaluated on the data collected after the model was trained."
      ]
    },
    {
      "cell_type": "code",
      "execution_count": 34,
      "metadata": {
        "id": "ia-MPAHxbInX"
      },
      "outputs": [],
      "source": [
        "column_indices = {name: i for i, name in enumerate(df.columns)}\n",
        "\n",
        "n = len(df)\n",
        "train_df = df[0 : int(n * 0.7)]\n",
        "val_df = df[int(n * 0.7) : int(n * 0.9)]\n",
        "test_df = df[int(n * 0.9) :]\n",
        "\n",
        "num_features = df.shape[1]"
      ]
    },
    {
      "cell_type": "markdown",
      "metadata": {
        "id": "-eFckdUUHWmT"
      },
      "source": [
        "### Normalize the data\n",
        "\n",
        "It is important to scale features before training a neural network. Normalization is a common way of doing this scaling: subtract the mean and divide by the standard deviation of each feature."
      ]
    },
    {
      "cell_type": "markdown",
      "metadata": {
        "id": "mxbIic5TMlxx"
      },
      "source": [
        "The mean and standard deviation should only be computed using the training data so that the models have no access to the values in the validation and test sets.\n",
        "\n",
        "It's also arguable that the model shouldn't have access to future values in the training set when training, and that this normalization should be done using moving averages. That's not the focus of this tutorial, and the validation and test sets ensure that you get (somewhat) honest metrics. So, in the interest of simplicity this tutorial uses a simple average."
      ]
    },
    {
      "cell_type": "code",
      "execution_count": 35,
      "metadata": {
        "id": "Eji6njXvHusN"
      },
      "outputs": [],
      "source": [
        "train_mean = train_df.mean()\n",
        "train_std = train_df.std()\n",
        "\n",
        "train_df = (train_df - train_mean) / train_std\n",
        "val_df = (val_df - train_mean) / train_std\n",
        "test_df = (test_df - train_mean) / train_std"
      ]
    },
    {
      "cell_type": "markdown",
      "metadata": {
        "id": "G6ufs8kk9JQw"
      },
      "source": [
        "Now, peek at the distribution of the features. Some features do have long tails, but there are no obvious errors like the `-9999` wind velocity value."
      ]
    },
    {
      "cell_type": "code",
      "execution_count": 36,
      "metadata": {
        "id": "T0UYEnkwm8Fe"
      },
      "outputs": [
        {
          "name": "stderr",
          "output_type": "stream",
          "text": [
            "/tmp/ipykernel_700601/3214313372.py:5: UserWarning: FixedFormatter should only be used together with FixedLocator\n",
            "  _ = ax.set_xticklabels(df.keys(), rotation=90)\n"
          ]
        },
        {
          "data": {
            "image/png": "[encoded data removed]",
            "text/plain": [
              "<Figure size 1200x600 with 1 Axes>"
            ]
          },
          "metadata": {},
          "output_type": "display_data"
        }
      ],
      "source": [
        "df_std = (df - train_mean) / train_std\n",
        "df_std = df_std.melt(var_name=\"Column\", value_name=\"Normalized\")\n",
        "plt.figure(figsize=(12, 6))\n",
        "ax = sns.violinplot(x=\"Column\", y=\"Normalized\", data=df_std)\n",
        "_ = ax.set_xticklabels(df.keys(), rotation=90)"
      ]
    },
    {
      "cell_type": "markdown",
      "metadata": {
        "id": "ZBBmdxZ2HgfJ"
      },
      "source": [
        "## Data windowing\n",
        "\n",
        "The models in this tutorial will make a set of predictions based on a window of consecutive samples from the data. \n",
        "\n",
        "The main features of the input windows are:\n",
        "\n",
        "- The width (number of time steps) of the input and label windows.\n",
        "- The time offset between them.\n",
        "- Which features are used as inputs, labels, or both. \n",
        "\n",
        "This tutorial builds a variety of models (including Linear, DNN, CNN and RNN models), and uses them for both:\n",
        "\n",
        "- *Single-output*, and *multi-output* predictions.\n",
        "- *Single-time-step* and *multi-time-step* predictions.\n",
        "\n",
        "This section focuses on implementing the data windowing so that it can be reused for all of those models.\n"
      ]
    },
    {
      "cell_type": "markdown",
      "metadata": {
        "id": "YAhGUVx1jtOy"
      },
      "source": [
        "Depending on the task and type of model you may want to generate a variety of data windows. Here are some examples:\n",
        "\n",
        "1. For example, to make a single prediction 24 hours into the future, given 24 hours of history, you might define a window like this:\n",
        "\n",
        "  ![One prediction 24 hours into the future.](images/raw_window_24h.png)\n",
        "\n",
        "2. A model that makes a prediction one hour into the future, given six hours of history, would need a window like this:\n",
        "\n",
        "  ![One prediction one hour into the future.](images/raw_window_1h.png)"
      ]
    },
    {
      "cell_type": "markdown",
      "metadata": {
        "id": "sa2BbfNZt8wy"
      },
      "source": [
        "The rest of this section defines a `WindowGenerator` class. This class can:\n",
        "\n",
        "1. Handle the indexes and offsets as shown in the diagrams above.\n",
        "1. Split windows of features into `(features, labels)` pairs.\n",
        "2. Plot the content of the resulting windows.\n",
        "3. Efficiently generate batches of these windows from the training, evaluation, and test data, using `tf.data.Dataset`s."
      ]
    },
    {
      "cell_type": "markdown",
      "metadata": {
        "id": "rfx3jGjyziUF"
      },
      "source": [
        "### 1. Indexes and offsets\n",
        "\n",
        "Start by creating the `WindowGenerator` class. The `__init__` method includes all the necessary logic for the input and label indices.\n",
        "\n",
        "It also takes the training, evaluation, and test DataFrames as input. These will be converted to `tf.data.Dataset`s of windows later."
      ]
    },
    {
      "cell_type": "code",
      "execution_count": 37,
      "metadata": {
        "id": "Kem30j8QHxyW"
      },
      "outputs": [],
      "source": [
        "class WindowGenerator:\n",
        "    def __init__(\n",
        "        self,\n",
        "        input_width,\n",
        "        label_width,\n",
        "        shift,\n",
        "        train_df=train_df,\n",
        "        val_df=val_df,\n",
        "        test_df=test_df,\n",
        "        label_columns=None,\n",
        "    ):\n",
        "        # Store the raw data.\n",
        "        self.train_df = train_df\n",
        "        self.val_df = val_df\n",
        "        self.test_df = test_df\n",
        "\n",
        "        # Work out the label column indices.\n",
        "        self.label_columns = label_columns\n",
        "        if label_columns is not None:\n",
        "            self.label_columns_indices = {\n",
        "                name: i for i, name in enumerate(label_columns)\n",
        "            }\n",
        "        self.column_indices = {name: i for i, name in enumerate(train_df.columns)}\n",
        "\n",
        "        # Work out the window parameters.\n",
        "        self.input_width = input_width\n",
        "        self.label_width = label_width\n",
        "        self.shift = shift\n",
        "\n",
        "        self.total_window_size = input_width + shift\n",
        "\n",
        "        self.input_slice = slice(0, input_width)\n",
        "        self.input_indices = np.arange(self.total_window_size)[self.input_slice]\n",
        "\n",
        "        self.label_start = self.total_window_size - self.label_width\n",
        "        self.labels_slice = slice(self.label_start, None)\n",
        "        self.label_indices = np.arange(self.total_window_size)[self.labels_slice]\n",
        "\n",
        "    def __repr__(self):\n",
        "        return \"\\n\".join(\n",
        "            [\n",
        "                f\"Total window size: {self.total_window_size}\",\n",
        "                f\"Input indices: {self.input_indices}\",\n",
        "                f\"Label indices: {self.label_indices}\",\n",
        "                f\"Label column name(s): {self.label_columns}\",\n",
        "            ]\n",
        "        )\n",
        "\n",
        "    def split_window(self, features):\n",
        "        inputs = features[:, self.input_slice, :]\n",
        "        labels = features[:, self.labels_slice, :]\n",
        "        if self.label_columns is not None:\n",
        "            labels = tf.stack(\n",
        "                [\n",
        "                    labels[:, :, self.column_indices[name]]\n",
        "                    for name in self.label_columns\n",
        "                ],\n",
        "                axis=-1,\n",
        "            )\n",
        "\n",
        "        # Slicing doesn't preserve static shape information, so set the shapes\n",
        "        # manually. This way the `tf.data.Datasets` are easier to inspect.\n",
        "        inputs.set_shape([None, self.input_width, None])\n",
        "        labels.set_shape([None, self.label_width, None])\n",
        "\n",
        "        return inputs, labels\n",
        "\n",
        "    def make_dataset(self, data):\n",
        "        data = np.array(data, dtype=np.float32)\n",
        "        ds = tf.keras.utils.timeseries_dataset_from_array(\n",
        "            data=data,\n",
        "            targets=None,\n",
        "            sequence_length=self.total_window_size,\n",
        "            sequence_stride=1,\n",
        "            shuffle=True,\n",
        "            batch_size=32,\n",
        "        )\n",
        "\n",
        "        ds = ds.map(self.split_window)\n",
        "\n",
        "        return ds\n",
        "\n",
        "    @property\n",
        "    def train(self):\n",
        "        return self.make_dataset(self.train_df)\n",
        "\n",
        "    @property\n",
        "    def val(self):\n",
        "        return self.make_dataset(self.val_df)\n",
        "\n",
        "    @property\n",
        "    def test(self):\n",
        "        return self.make_dataset(self.test_df)\n",
        "\n",
        "    @property\n",
        "    def example(self):\n",
        "        \"\"\"Get and cache an example batch of `inputs, labels` for plotting.\"\"\"\n",
        "        result = getattr(self, \"_example\", None)\n",
        "        if result is None:\n",
        "            # No example batch was found, so get one from the `.train` dataset\n",
        "            result = next(iter(self.train))\n",
        "            # And cache it for next time\n",
        "            self._example = result\n",
        "        return result\n",
        "\n",
        "    def plot(self, model=None, plot_col=\"T2\", max_subplots=3):\n",
        "        inputs, labels = self.example\n",
        "        plt.figure(figsize=(12, 8))\n",
        "        plot_col_index = self.column_indices[plot_col]\n",
        "        max_n = min(max_subplots, len(inputs))\n",
        "        for n in range(max_n):\n",
        "            plt.subplot(max_n, 1, n + 1)\n",
        "            plt.ylabel(f\"{plot_col} [normed]\")\n",
        "            plt.plot(\n",
        "                self.input_indices,\n",
        "                inputs[n, :, plot_col_index],\n",
        "                label=\"Inputs\",\n",
        "                marker=\".\",\n",
        "                zorder=-10,\n",
        "            )\n",
        "\n",
        "            if self.label_columns:\n",
        "                label_col_index = self.label_columns_indices.get(plot_col, None)\n",
        "            else:\n",
        "                label_col_index = plot_col_index\n",
        "\n",
        "            if label_col_index is None:\n",
        "                continue\n",
        "\n",
        "            plt.scatter(\n",
        "                self.label_indices,\n",
        "                labels[n, :, label_col_index],\n",
        "                edgecolors=\"k\",\n",
        "                label=\"Labels\",\n",
        "                c=\"#2ca02c\",\n",
        "                s=64,\n",
        "            )\n",
        "            if model is not None:\n",
        "                predictions = model(inputs)\n",
        "                plt.scatter(\n",
        "                    self.label_indices,\n",
        "                    predictions[n, :, label_col_index],\n",
        "                    marker=\"X\",\n",
        "                    edgecolors=\"k\",\n",
        "                    label=\"Predictions\",\n",
        "                    c=\"#ff7f0e\",\n",
        "                    s=64,\n",
        "                )\n",
        "\n",
        "            if n == 0:\n",
        "                plt.legend()\n",
        "\n",
        "        plt.xlabel(\"Time [h]\")"
      ]
    },
    {
      "cell_type": "markdown",
      "metadata": {
        "id": "LyuGuJUgjUK3"
      },
      "source": [
        "## Single step models\n",
        "\n",
        "The simplest model you can build on this sort of data is one that predicts a single feature's value—1 time step (one hour) into the future based only on the current conditions.\n",
        "\n",
        "So, start by building models to predict the `T (degC)` value one hour into the future.\n",
        "\n",
        "![Predict the next time step](images/narrow_window.png)\n",
        "\n",
        "Configure a `WindowGenerator` object to produce these single-step `(input, label)` pairs:"
      ]
    },
    {
      "cell_type": "code",
      "execution_count": 40,
      "metadata": {
        "id": "G5QX1G1JTPCr"
      },
      "outputs": [
        {
          "data": {
            "text/plain": [
              "Total window size: 2\n",
              "Input indices: [0]\n",
              "Label indices: [1]\n",
              "Label column name(s): ['T2']"
            ]
          },
          "execution_count": 40,
          "metadata": {},
          "output_type": "execute_result"
        }
      ],
      "source": [
        "single_step_window = WindowGenerator(\n",
        "    input_width=1, label_width=1, shift=1, label_columns=[\"T2\"]\n",
        ")\n",
        "single_step_window"
      ]
    },
    {
      "cell_type": "markdown",
      "metadata": {
        "id": "RKTm8ajVGw4N"
      },
      "source": [
        "The `window` object creates `tf.data.Dataset`s from the training, validation, and test sets, allowing you to easily iterate over batches of data.\n"
      ]
    },
    {
      "cell_type": "code",
      "execution_count": 41,
      "metadata": {
        "id": "Do4ILUaBF8oc"
      },
      "outputs": [
        {
          "name": "stdout",
          "output_type": "stream",
          "text": [
            "Inputs shape (batch, time, features): (32, 1, 13)\n",
            "Labels shape (batch, time, features): (32, 1, 1)\n"
          ]
        }
      ],
      "source": [
        "for example_inputs, example_labels in single_step_window.train.take(1):\n",
        "    print(f\"Inputs shape (batch, time, features): {example_inputs.shape}\")\n",
        "    print(f\"Labels shape (batch, time, features): {example_labels.shape}\")"
      ]
    },
    {
      "cell_type": "markdown",
      "metadata": {
        "id": "D1bbPiR3VAm_"
      },
      "source": [
        "### Baseline\n",
        "\n",
        "Before building a trainable model it would be good to have a performance baseline as a point for comparison with the later more complicated models.\n",
        "\n",
        "This first task is to predict temperature one hour into the future, given the current value of all features. The current values include the current temperature. \n",
        "\n",
        "So, start with a model that just returns the current temperature as the prediction, predicting \"No change\". This is a reasonable baseline since temperature changes slowly. Of course, this baseline will work less well if you make a prediction further in the future.\n",
        "\n",
        "![Send the input to the output](images/baseline.png)"
      ]
    },
    {
      "cell_type": "code",
      "execution_count": 42,
      "metadata": {
        "id": "9TybQaIsi3yg"
      },
      "outputs": [],
      "source": [
        "class BaselineModel(tf.keras.Model):\n",
        "    def __init__(self, label_index=None):\n",
        "        super().__init__()\n",
        "        self.label_index = label_index\n",
        "\n",
        "    def call(self, inputs):\n",
        "        if self.label_index is None:\n",
        "            return inputs\n",
        "        result = inputs[:, :, self.label_index]\n",
        "        return result[:, :, tf.newaxis]"
      ]
    },
    {
      "cell_type": "markdown",
      "metadata": {
        "id": "0vb3f948i8p8"
      },
      "source": [
        "Instantiate and evaluate this model:"
      ]
    },
    {
      "cell_type": "code",
      "execution_count": 43,
      "metadata": {
        "id": "IS3-QKc4sX0D"
      },
      "outputs": [
        {
          "name": "stdout",
          "output_type": "stream",
          "text": [
            "36/36 [==============================] - 0s 2ms/step - loss: 0.0884 - mean_absolute_error: 0.2150\n"
          ]
        }
      ],
      "source": [
        "baseline_model = BaselineModel(label_index=column_indices[\"T2\"])\n",
        "\n",
        "baseline_model.compile(\n",
        "    loss=tf.keras.losses.MeanSquaredError(),\n",
        "    metrics=[tf.keras.metrics.MeanAbsoluteError()],\n",
        ")\n",
        "\n",
        "val_performance = {}\n",
        "performance = {}\n",
        "val_performance[\"Baseline\"] = baseline_model.evaluate(single_step_window.val)\n",
        "performance[\"Baseline\"] = baseline_model.evaluate(single_step_window.test, verbose=0)"
      ]
    },
    {
      "cell_type": "markdown",
      "metadata": {
        "id": "nhBxQcCSs7Ec"
      },
      "source": [
        "That printed some performance metrics, but those don't give you a feeling for how well the model is doing.\n",
        "\n",
        "The `WindowGenerator` has a plot method, but the plots won't be very interesting with only a single sample.\n",
        "\n",
        "So, create a wider `WindowGenerator` that generates windows 24 hours of consecutive inputs and labels at a time. The new `wide_window` variable doesn't change the way the model operates. The model still makes predictions one hour into the future based on a single input time step. Here, the `time` axis acts like the `batch` axis: each prediction is made independently with no interaction between time steps:"
      ]
    },
    {
      "cell_type": "code",
      "execution_count": 44,
      "metadata": {
        "id": "C8jNR5uuJ5Zp"
      },
      "outputs": [
        {
          "data": {
            "text/plain": [
              "Total window size: 25\n",
              "Input indices: [ 0  1  2  3  4  5  6  7  8  9 10 11 12 13 14 15 16 17 18 19 20 21 22 23]\n",
              "Label indices: [ 1  2  3  4  5  6  7  8  9 10 11 12 13 14 15 16 17 18 19 20 21 22 23 24]\n",
              "Label column name(s): ['T2']"
            ]
          },
          "execution_count": 44,
          "metadata": {},
          "output_type": "execute_result"
        }
      ],
      "source": [
        "wide_window = WindowGenerator(\n",
        "    input_width=24, label_width=24, shift=1, label_columns=[\"T2\"]\n",
        ")\n",
        "\n",
        "wide_window"
      ]
    },
    {
      "cell_type": "markdown",
      "metadata": {
        "id": "ZAnj7CFZkuYv"
      },
      "source": [
        "This expanded window can be passed directly to the same `baseline` model without any code changes. This is possible because the inputs and labels have the same number of time steps, and the baseline just forwards the input to the output:\n",
        "\n",
        "![One prediction 1h into the future, ever hour.](images/last_window.png)"
      ]
    },
    {
      "cell_type": "code",
      "execution_count": 45,
      "metadata": {
        "id": "sGKdvdg087qs"
      },
      "outputs": [
        {
          "name": "stdout",
          "output_type": "stream",
          "text": [
            "Input shape: (32, 24, 13)\n",
            "Output shape: (32, 24, 1)\n"
          ]
        }
      ],
      "source": [
        "print(\"Input shape:\", wide_window.example[0].shape)\n",
        "print(\"Output shape:\", baseline_model(wide_window.example[0]).shape)"
      ]
    },
    {
      "cell_type": "markdown",
      "metadata": {
        "id": "SKqQHX1K0JW-"
      },
      "source": [
        "By plotting the baseline model's predictions, notice that it is simply the labels shifted right by one hour:"
      ]
    },
    {
      "cell_type": "code",
      "execution_count": 46,
      "metadata": {
        "id": "jQyAPVLgWTOZ"
      },
      "outputs": [
        {
          "data": {
            "image/png": "[encoded data removed]",
            "text/plain": [
              "<Figure size 1200x800 with 3 Axes>"
            ]
          },
          "metadata": {},
          "output_type": "display_data"
        }
      ],
      "source": [
        "wide_window.plot(baseline_model)"
      ]
    },
    {
      "cell_type": "markdown",
      "metadata": {
        "id": "e93TLUhfAVg2"
      },
      "source": [
        "In the above plots of three examples the single step model is run over the course of 24 hours. This deserves some explanation:\n",
        "\n",
        "- The blue `Inputs` line shows the input temperature at each time step. The model receives all features, this plot only shows the temperature.\n",
        "- The green `Labels` dots show the target prediction value. These dots are shown at the prediction time, not the input time. That is why the range of labels is shifted 1 step relative to the inputs.\n",
        "- The orange `Predictions` crosses are the model's prediction's for each output time step. If the model were predicting perfectly the predictions would land directly on the `Labels`."
      ]
    },
    {
      "cell_type": "markdown",
      "metadata": {
        "id": "E4aOJScj52Yu"
      },
      "source": [
        "### Linear model\n",
        "\n",
        "The simplest **trainable** model you can apply to this task is to insert linear transformation between the input and output. In this case the output from a time step only depends on that step:\n",
        "\n",
        "![A single step prediction](images/narrow_window.png)\n",
        "\n",
        "A `tf.keras.layers.Dense` layer with no `activation` set is a linear model. The layer only transforms the last axis of the data from `(batch, time, inputs)` to `(batch, time, units)`; it is applied independently to every item across the `batch` and `time` axes."
      ]
    },
    {
      "cell_type": "code",
      "execution_count": 47,
      "metadata": {
        "id": "6341OXuQ5xA9"
      },
      "outputs": [],
      "source": [
        "linear_model = tf.keras.Sequential([tf.keras.layers.Dense(units=1)])"
      ]
    },
    {
      "cell_type": "code",
      "execution_count": 48,
      "metadata": {
        "id": "KwaOM8RucUSn"
      },
      "outputs": [
        {
          "name": "stdout",
          "output_type": "stream",
          "text": [
            "Input shape: (32, 1, 13)\n",
            "Output shape: (32, 1, 1)\n"
          ]
        }
      ],
      "source": [
        "print(\"Input shape:\", single_step_window.example[0].shape)\n",
        "print(\"Output shape:\", linear_model(single_step_window.example[0]).shape)"
      ]
    },
    {
      "cell_type": "markdown",
      "metadata": {
        "id": "OMZTYIj3bYLg"
      },
      "source": [
        "This tutorial trains many models, so package the training procedure into a function:"
      ]
    },
    {
      "cell_type": "code",
      "execution_count": 49,
      "metadata": {
        "id": "CbCL6VIrk-Gt"
      },
      "outputs": [],
      "source": [
        "MAX_EPOCHS = 20\n",
        "\n",
        "\n",
        "def compile_and_fit(model, window, patience=2):\n",
        "    early_stopping = tf.keras.callbacks.EarlyStopping(\n",
        "        monitor=\"val_loss\", patience=patience, mode=\"min\"\n",
        "    )\n",
        "\n",
        "    model.compile(\n",
        "        loss=tf.keras.losses.MeanSquaredError(),\n",
        "        optimizer=tf.keras.optimizers.Adam(),\n",
        "        metrics=[tf.keras.metrics.MeanAbsoluteError()],\n",
        "    )\n",
        "\n",
        "    history = model.fit(\n",
        "        window.train,\n",
        "        epochs=MAX_EPOCHS,\n",
        "        validation_data=window.val,\n",
        "        callbacks=[early_stopping],\n",
        "    )\n",
        "    return history"
      ]
    },
    {
      "cell_type": "markdown",
      "metadata": {
        "id": "OobVjM-schwj"
      },
      "source": [
        "Train the model and evaluate its performance:"
      ]
    },
    {
      "cell_type": "code",
      "execution_count": 50,
      "metadata": {
        "id": "9agbz2qB9bLS"
      },
      "outputs": [
        {
          "name": "stdout",
          "output_type": "stream",
          "text": [
            "Epoch 1/20\n"
          ]
        },
        {
          "name": "stderr",
          "output_type": "stream",
          "text": [
            "2023-12-21 11:38:35.009236: I tensorflow/compiler/xla/service/service.cc:168] XLA service 0x55f8a4a7fb50 initialized for platform CUDA (this does not guarantee that XLA will be used). Devices:\n",
            "2023-12-21 11:38:35.009291: I tensorflow/compiler/xla/service/service.cc:176]   StreamExecutor device (0): NVIDIA GeForce GTX 1050, Compute Capability 6.1\n",
            "2023-12-21 11:38:35.020299: I tensorflow/compiler/mlir/tensorflow/utils/dump_mlir_util.cc:255] disabling MLIR crash reproducer, set env var `MLIR_CRASH_REPRODUCER_DIRECTORY` to enable.\n",
            "2023-12-21 11:38:35.278946: I tensorflow/compiler/xla/stream_executor/cuda/cuda_dnn.cc:432] Loaded cuDNN version 8800\n",
            "2023-12-21 11:38:35.292822: W tensorflow/compiler/xla/service/gpu/llvm_gpu_backend/gpu_backend_lib.cc:543] Can't find libdevice directory ${CUDA_DIR}/nvvm/libdevice. This may result in compilation or runtime failures, if the program we try to run uses routines from libdevice.\n",
            "Searched for CUDA in the following directories:\n",
            "  ./cuda_sdk_lib\n",
            "  /usr/local/cuda-11.8\n",
            "  /usr/local/cuda\n",
            "  .\n",
            "You can choose the search directory by setting xla_gpu_cuda_data_dir in HloModule's DebugOptions.  For most apps, setting the environment variable XLA_FLAGS=--xla_gpu_cuda_data_dir=/path/to/cuda will work.\n",
            "2023-12-21 11:38:35.293121: W tensorflow/compiler/xla/service/gpu/llvm_gpu_backend/gpu_backend_lib.cc:273] libdevice is required by this HLO module but was not found at ./libdevice.10.bc\n",
            "2023-12-21 11:38:35.294631: W tensorflow/core/framework/op_kernel.cc:1828] OP_REQUIRES failed at xla_ops.cc:503 : INTERNAL: libdevice not found at ./libdevice.10.bc\n",
            "2023-12-21 11:38:35.324103: W tensorflow/compiler/xla/service/gpu/llvm_gpu_backend/gpu_backend_lib.cc:273] libdevice is required by this HLO module but was not found at ./libdevice.10.bc\n",
            "2023-12-21 11:38:35.325377: W tensorflow/core/framework/op_kernel.cc:1828] OP_REQUIRES failed at xla_ops.cc:503 : INTERNAL: libdevice not found at ./libdevice.10.bc\n"
          ]
        },
        {
          "ename": "InternalError",
          "evalue": "Graph execution error:\n\nDetected at node 'Adam/StatefulPartitionedCall_1' defined at (most recent call last):\n    File \"/home/leifdenby/mambaforge/envs/keras-dakar-nowcasting/lib/python3.8/runpy.py\", line 194, in _run_module_as_main\n      return _run_code(code, main_globals, None,\n    File \"/home/leifdenby/mambaforge/envs/keras-dakar-nowcasting/lib/python3.8/runpy.py\", line 87, in _run_code\n      exec(code, run_globals)\n    File \"/home/leifdenby/mambaforge/envs/keras-dakar-nowcasting/lib/python3.8/site-packages/ipykernel_launcher.py\", line 17, in <module>\n      app.launch_new_instance()\n    File \"/home/leifdenby/mambaforge/envs/keras-dakar-nowcasting/lib/python3.8/site-packages/traitlets/config/application.py\", line 1077, in launch_instance\n      app.start()\n    File \"/home/leifdenby/mambaforge/envs/keras-dakar-nowcasting/lib/python3.8/site-packages/ipykernel/kernelapp.py\", line 739, in start\n      self.io_loop.start()\n    File \"/home/leifdenby/mambaforge/envs/keras-dakar-nowcasting/lib/python3.8/site-packages/tornado/platform/asyncio.py\", line 195, in start\n      self.asyncio_loop.run_forever()\n    File \"/home/leifdenby/mambaforge/envs/keras-dakar-nowcasting/lib/python3.8/asyncio/base_events.py\", line 570, in run_forever\n      self._run_once()\n    File \"/home/leifdenby/mambaforge/envs/keras-dakar-nowcasting/lib/python3.8/asyncio/base_events.py\", line 1859, in _run_once\n      handle._run()\n    File \"/home/leifdenby/mambaforge/envs/keras-dakar-nowcasting/lib/python3.8/asyncio/events.py\", line 81, in _run\n      self._context.run(self._callback, *self._args)\n    File \"/home/leifdenby/mambaforge/envs/keras-dakar-nowcasting/lib/python3.8/site-packages/ipykernel/kernelbase.py\", line 529, in dispatch_queue\n      await self.process_one()\n    File \"/home/leifdenby/mambaforge/envs/keras-dakar-nowcasting/lib/python3.8/site-packages/ipykernel/kernelbase.py\", line 518, in process_one\n      await dispatch(*args)\n    File \"/home/leifdenby/mambaforge/envs/keras-dakar-nowcasting/lib/python3.8/site-packages/ipykernel/kernelbase.py\", line 424, in dispatch_shell\n      await result\n    File \"/home/leifdenby/mambaforge/envs/keras-dakar-nowcasting/lib/python3.8/site-packages/ipykernel/kernelbase.py\", line 766, in execute_request\n      reply_content = await reply_content\n    File \"/home/leifdenby/mambaforge/envs/keras-dakar-nowcasting/lib/python3.8/site-packages/ipykernel/ipkernel.py\", line 429, in do_execute\n      res = shell.run_cell(\n    File \"/home/leifdenby/mambaforge/envs/keras-dakar-nowcasting/lib/python3.8/site-packages/ipykernel/zmqshell.py\", line 549, in run_cell\n      return super().run_cell(*args, **kwargs)\n    File \"/home/leifdenby/mambaforge/envs/keras-dakar-nowcasting/lib/python3.8/site-packages/IPython/core/interactiveshell.py\", line 3009, in run_cell\n      result = self._run_cell(\n    File \"/home/leifdenby/mambaforge/envs/keras-dakar-nowcasting/lib/python3.8/site-packages/IPython/core/interactiveshell.py\", line 3064, in _run_cell\n      result = runner(coro)\n    File \"/home/leifdenby/mambaforge/envs/keras-dakar-nowcasting/lib/python3.8/site-packages/IPython/core/async_helpers.py\", line 129, in _pseudo_sync_runner\n      coro.send(None)\n    File \"/home/leifdenby/mambaforge/envs/keras-dakar-nowcasting/lib/python3.8/site-packages/IPython/core/interactiveshell.py\", line 3269, in run_cell_async\n      has_raised = await self.run_ast_nodes(code_ast.body, cell_name,\n    File \"/home/leifdenby/mambaforge/envs/keras-dakar-nowcasting/lib/python3.8/site-packages/IPython/core/interactiveshell.py\", line 3448, in run_ast_nodes\n      if await self.run_code(code, result, async_=asy):\n    File \"/home/leifdenby/mambaforge/envs/keras-dakar-nowcasting/lib/python3.8/site-packages/IPython/core/interactiveshell.py\", line 3508, in run_code\n      exec(code_obj, self.user_global_ns, self.user_ns)\n    File \"/tmp/ipykernel_700601/2859138885.py\", line 1, in <module>\n      history = compile_and_fit(linear_model, single_step_window)\n    File \"/tmp/ipykernel_700601/2820204216.py\", line 12, in compile_and_fit\n      history = model.fit(window.train, epochs=MAX_EPOCHS,\n    File \"/home/leifdenby/mambaforge/envs/keras-dakar-nowcasting/lib/python3.8/site-packages/keras/src/utils/traceback_utils.py\", line 65, in error_handler\n      return fn(*args, **kwargs)\n    File \"/home/leifdenby/mambaforge/envs/keras-dakar-nowcasting/lib/python3.8/site-packages/keras/src/engine/training.py\", line 1742, in fit\n      tmp_logs = self.train_function(iterator)\n    File \"/home/leifdenby/mambaforge/envs/keras-dakar-nowcasting/lib/python3.8/site-packages/tensorflow/python/util/traceback_utils.py\", line 150, in error_handler\n      return fn(*args, **kwargs)\n    File \"/home/leifdenby/mambaforge/envs/keras-dakar-nowcasting/lib/python3.8/site-packages/tensorflow/python/eager/polymorphic_function/polymorphic_function.py\", line 825, in __call__\n      result = self._call(*args, **kwds)\n    File \"/home/leifdenby/mambaforge/envs/keras-dakar-nowcasting/lib/python3.8/site-packages/tensorflow/python/eager/polymorphic_function/polymorphic_function.py\", line 890, in _call\n      return self._no_variable_creation_fn(*args, **kwds)\n    File \"/home/leifdenby/mambaforge/envs/keras-dakar-nowcasting/lib/python3.8/site-packages/tensorflow/python/eager/polymorphic_function/tracing_compiler.py\", line 147, in __call__\n      filtered_flat_args) = self._maybe_define_function(args, kwargs)\n    File \"/home/leifdenby/mambaforge/envs/keras-dakar-nowcasting/lib/python3.8/site-packages/tensorflow/python/eager/polymorphic_function/tracing_compiler.py\", line 398, in _maybe_define_function\n      concrete_function = self._create_concrete_function(\n    File \"/home/leifdenby/mambaforge/envs/keras-dakar-nowcasting/lib/python3.8/site-packages/tensorflow/python/eager/polymorphic_function/tracing_compiler.py\", line 305, in _create_concrete_function\n      func_graph_module.func_graph_from_py_func(\n    File \"/home/leifdenby/mambaforge/envs/keras-dakar-nowcasting/lib/python3.8/site-packages/tensorflow/python/framework/func_graph.py\", line 1055, in func_graph_from_py_func\n      func_outputs = python_func(*func_args, **func_kwargs)\n    File \"/home/leifdenby/mambaforge/envs/keras-dakar-nowcasting/lib/python3.8/site-packages/tensorflow/python/eager/polymorphic_function/polymorphic_function.py\", line 597, in wrapped_fn\n      out = weak_wrapped_fn().__wrapped__(*args, **kwds)\n    File \"/home/leifdenby/mambaforge/envs/keras-dakar-nowcasting/lib/python3.8/site-packages/tensorflow/python/eager/polymorphic_function/autograph_util.py\", line 41, in autograph_handler\n      return api.converted_call(\n    File \"/home/leifdenby/mambaforge/envs/keras-dakar-nowcasting/lib/python3.8/site-packages/keras/src/engine/training.py\", line 1338, in train_function\n      return step_function(self, iterator)\n    File \"/home/leifdenby/mambaforge/envs/keras-dakar-nowcasting/lib/python3.8/site-packages/keras/src/engine/training.py\", line 1322, in step_function\n      outputs = model.distribute_strategy.run(run_step, args=(data,))\n    File \"/home/leifdenby/mambaforge/envs/keras-dakar-nowcasting/lib/python3.8/site-packages/tensorflow/python/distribute/distribute_lib.py\", line 1673, in run\n      return self._extended.call_for_each_replica(fn, args=args, kwargs=kwargs)\n    File \"/home/leifdenby/mambaforge/envs/keras-dakar-nowcasting/lib/python3.8/site-packages/tensorflow/python/distribute/distribute_lib.py\", line 3250, in call_for_each_replica\n      return self._call_for_each_replica(fn, args, kwargs)\n    File \"/home/leifdenby/mambaforge/envs/keras-dakar-nowcasting/lib/python3.8/site-packages/tensorflow/python/distribute/distribute_lib.py\", line 4048, in _call_for_each_replica\n      return fn(*args, **kwargs)\n    File \"/home/leifdenby/mambaforge/envs/keras-dakar-nowcasting/lib/python3.8/site-packages/keras/src/engine/training.py\", line 1303, in run_step\n      outputs = model.train_step(data)\n    File \"/home/leifdenby/mambaforge/envs/keras-dakar-nowcasting/lib/python3.8/site-packages/keras/src/engine/training.py\", line 1084, in train_step\n      self.optimizer.minimize(loss, self.trainable_variables, tape=tape)\n    File \"/home/leifdenby/mambaforge/envs/keras-dakar-nowcasting/lib/python3.8/site-packages/keras/src/optimizers/optimizer.py\", line 544, in minimize\n      self.apply_gradients(grads_and_vars)\n    File \"/home/leifdenby/mambaforge/envs/keras-dakar-nowcasting/lib/python3.8/site-packages/keras/src/optimizers/optimizer.py\", line 1230, in apply_gradients\n      return super().apply_gradients(grads_and_vars, name=name)\n    File \"/home/leifdenby/mambaforge/envs/keras-dakar-nowcasting/lib/python3.8/site-packages/keras/src/optimizers/optimizer.py\", line 652, in apply_gradients\n      iteration = self._internal_apply_gradients(grads_and_vars)\n    File \"/home/leifdenby/mambaforge/envs/keras-dakar-nowcasting/lib/python3.8/site-packages/keras/src/optimizers/optimizer.py\", line 1260, in _internal_apply_gradients\n      return tf.__internal__.distribute.interim.maybe_merge_call(\n    File \"/home/leifdenby/mambaforge/envs/keras-dakar-nowcasting/lib/python3.8/site-packages/tensorflow/python/distribute/merge_call_interim.py\", line 51, in maybe_merge_call\n      return fn(strategy, *args, **kwargs)\n    File \"/home/leifdenby/mambaforge/envs/keras-dakar-nowcasting/lib/python3.8/site-packages/keras/src/optimizers/optimizer.py\", line 1352, in _distributed_apply_gradients_fn\n      distribution.extended.update(\n    File \"/home/leifdenby/mambaforge/envs/keras-dakar-nowcasting/lib/python3.8/site-packages/tensorflow/python/distribute/distribute_lib.py\", line 2994, in update\n      return self._replica_ctx_update(\n    File \"/home/leifdenby/mambaforge/envs/keras-dakar-nowcasting/lib/python3.8/site-packages/tensorflow/python/distribute/distribute_lib.py\", line 2873, in _replica_ctx_update\n      return replica_context.merge_call(merge_fn, args=args, kwargs=kwargs)\n    File \"/home/leifdenby/mambaforge/envs/keras-dakar-nowcasting/lib/python3.8/site-packages/tensorflow/python/distribute/distribute_lib.py\", line 3465, in merge_call\n      return self._merge_call(merge_fn, args, kwargs)\n    File \"/home/leifdenby/mambaforge/envs/keras-dakar-nowcasting/lib/python3.8/site-packages/tensorflow/python/distribute/distribute_lib.py\", line 3472, in _merge_call\n      return merge_fn(self._strategy, *args, **kwargs)\n    File \"/home/leifdenby/mambaforge/envs/keras-dakar-nowcasting/lib/python3.8/site-packages/tensorflow/python/distribute/distribute_lib.py\", line 2871, in merge_fn\n      return self.update(var, fn, merged_args, merged_kwargs, group=group)\n    File \"/home/leifdenby/mambaforge/envs/keras-dakar-nowcasting/lib/python3.8/site-packages/tensorflow/python/distribute/distribute_lib.py\", line 2992, in update\n      return self._update(var, fn, args, kwargs, group)\n    File \"/home/leifdenby/mambaforge/envs/keras-dakar-nowcasting/lib/python3.8/site-packages/tensorflow/python/distribute/distribute_lib.py\", line 4062, in _update\n      return self._update_non_slot(var, fn, (var,) + tuple(args), kwargs, group)\n    File \"/home/leifdenby/mambaforge/envs/keras-dakar-nowcasting/lib/python3.8/site-packages/tensorflow/python/distribute/distribute_lib.py\", line 4068, in _update_non_slot\n      result = fn(*args, **kwargs)\n    File \"/home/leifdenby/mambaforge/envs/keras-dakar-nowcasting/lib/python3.8/site-packages/keras/src/optimizers/optimizer.py\", line 1347, in apply_grad_to_update_var\n      return self._update_step_xla(grad, var, id(self._var_key(var)))\n    File \"/home/leifdenby/mambaforge/envs/keras-dakar-nowcasting/lib/python3.8/site-packages/tensorflow/python/util/traceback_utils.py\", line 150, in error_handler\n      return fn(*args, **kwargs)\n    File \"/home/leifdenby/mambaforge/envs/keras-dakar-nowcasting/lib/python3.8/site-packages/tensorflow/python/eager/polymorphic_function/polymorphic_function.py\", line 825, in __call__\n      result = self._call(*args, **kwds)\n    File \"/home/leifdenby/mambaforge/envs/keras-dakar-nowcasting/lib/python3.8/site-packages/tensorflow/python/eager/polymorphic_function/polymorphic_function.py\", line 864, in _call\n      results = self._variable_creation_fn(*args, **kwds)\n    File \"/home/leifdenby/mambaforge/envs/keras-dakar-nowcasting/lib/python3.8/site-packages/tensorflow/python/eager/polymorphic_function/tracing_compiler.py\", line 148, in __call__\n      return concrete_function._call_flat(\n    File \"/home/leifdenby/mambaforge/envs/keras-dakar-nowcasting/lib/python3.8/site-packages/tensorflow/python/eager/polymorphic_function/monomorphic_function.py\", line 1361, in _call_flat\n      flat_outputs = forward_function(*args_with_tangents)\n    File \"/home/leifdenby/mambaforge/envs/keras-dakar-nowcasting/lib/python3.8/site-packages/tensorflow/python/eager/polymorphic_function/atomic_function.py\", line 202, in __call__\n      outputs = make_call_op_in_graph(self, list(args))\n    File \"/home/leifdenby/mambaforge/envs/keras-dakar-nowcasting/lib/python3.8/site-packages/tensorflow/python/eager/polymorphic_function/atomic_function.py\", line 332, in make_call_op_in_graph\n      op = partitioned_call_op(\n    File \"/home/leifdenby/mambaforge/envs/keras-dakar-nowcasting/lib/python3.8/site-packages/tensorflow/python/eager/polymorphic_function/atomic_function.py\", line 320, in partitioned_call_op\n      op = ops.get_default_graph().create_op(\n    File \"/home/leifdenby/mambaforge/envs/keras-dakar-nowcasting/lib/python3.8/site-packages/tensorflow/python/util/deprecation.py\", line 576, in new_func\n      return func(*args, **kwargs)\n    File \"/home/leifdenby/mambaforge/envs/keras-dakar-nowcasting/lib/python3.8/site-packages/tensorflow/python/util/traceback_utils.py\", line 150, in error_handler\n      return fn(*args, **kwargs)\n    File \"/home/leifdenby/mambaforge/envs/keras-dakar-nowcasting/lib/python3.8/site-packages/tensorflow/python/framework/ops.py\", line 3319, in create_op\n      return self._create_op_internal(op_type, inputs, dtypes, input_types, name,\n    File \"/home/leifdenby/mambaforge/envs/keras-dakar-nowcasting/lib/python3.8/site-packages/tensorflow/python/framework/func_graph.py\", line 670, in _create_op_internal\n      return super()._create_op_internal(  # pylint: disable=protected-access\n    File \"/home/leifdenby/mambaforge/envs/keras-dakar-nowcasting/lib/python3.8/site-packages/tensorflow/python/framework/ops.py\", line 3381, in _create_op_internal\n      ret = Operation.from_node_def(\n    File \"/home/leifdenby/mambaforge/envs/keras-dakar-nowcasting/lib/python3.8/site-packages/tensorflow/python/framework/ops.py\", line 1889, in from_node_def\n      c_op = _create_c_op(g, node_def, inputs, control_input_ops, op_def=op_def)\n    File \"/home/leifdenby/mambaforge/envs/keras-dakar-nowcasting/lib/python3.8/site-packages/tensorflow/python/util/traceback_utils.py\", line 150, in error_handler\n      return fn(*args, **kwargs)\n    File \"/home/leifdenby/mambaforge/envs/keras-dakar-nowcasting/lib/python3.8/site-packages/tensorflow/python/framework/ops.py\", line 1756, in _create_c_op\n      tf_stack.extract_stack_for_op(c_op, stacklevel=3)\n    File \"/home/leifdenby/mambaforge/envs/keras-dakar-nowcasting/lib/python3.8/site-packages/tensorflow/python/util/tf_stack.py\", line 180, in extract_stack_for_op\n      _tf_stack.extract_stack_for_op(\nNode: 'Adam/StatefulPartitionedCall_1'\nlibdevice not found at ./libdevice.10.bc\n\t [[{{node Adam/StatefulPartitionedCall_1}}]] [Op:__inference_train_function_1866]",
          "output_type": "error",
          "traceback": [
            "\u001b[0;31m---------------------------------------------------------------------------\u001b[0m",
            "\u001b[0;31mInternalError\u001b[0m                             Traceback (most recent call last)",
            "\u001b[1;32m/home/leifdenby/projects/dakar-nowcasting/tensorflow-time-series/time_series_pout_only.ipynb Cell 66\u001b[0m line \u001b[0;36m1\n\u001b[0;32m----> <a href='vscode-notebook-cell://ssh-remote%2Bthixo.denby.eu/home/leifdenby/projects/dakar-nowcasting/tensorflow-time-series/time_series_pout_only.ipynb#Y435sdnNjb2RlLXJlbW90ZQ%3D%3D?line=0'>1</a>\u001b[0m history \u001b[39m=\u001b[39m compile_and_fit(linear_model, single_step_window)\n\u001b[1;32m      <a href='vscode-notebook-cell://ssh-remote%2Bthixo.denby.eu/home/leifdenby/projects/dakar-nowcasting/tensorflow-time-series/time_series_pout_only.ipynb#Y435sdnNjb2RlLXJlbW90ZQ%3D%3D?line=2'>3</a>\u001b[0m val_performance[\u001b[39m'\u001b[39m\u001b[39mLinear\u001b[39m\u001b[39m'\u001b[39m] \u001b[39m=\u001b[39m linear_model\u001b[39m.\u001b[39mevaluate(single_step_window\u001b[39m.\u001b[39mval)\n\u001b[1;32m      <a href='vscode-notebook-cell://ssh-remote%2Bthixo.denby.eu/home/leifdenby/projects/dakar-nowcasting/tensorflow-time-series/time_series_pout_only.ipynb#Y435sdnNjb2RlLXJlbW90ZQ%3D%3D?line=3'>4</a>\u001b[0m performance[\u001b[39m'\u001b[39m\u001b[39mLinear\u001b[39m\u001b[39m'\u001b[39m] \u001b[39m=\u001b[39m linear_model\u001b[39m.\u001b[39mevaluate(single_step_window\u001b[39m.\u001b[39mtest, verbose\u001b[39m=\u001b[39m\u001b[39m0\u001b[39m)\n",
            "\u001b[1;32m/home/leifdenby/projects/dakar-nowcasting/tensorflow-time-series/time_series_pout_only.ipynb Cell 66\u001b[0m line \u001b[0;36m1\n\u001b[1;32m      <a href='vscode-notebook-cell://ssh-remote%2Bthixo.denby.eu/home/leifdenby/projects/dakar-nowcasting/tensorflow-time-series/time_series_pout_only.ipynb#Y435sdnNjb2RlLXJlbW90ZQ%3D%3D?line=3'>4</a>\u001b[0m early_stopping \u001b[39m=\u001b[39m tf\u001b[39m.\u001b[39mkeras\u001b[39m.\u001b[39mcallbacks\u001b[39m.\u001b[39mEarlyStopping(monitor\u001b[39m=\u001b[39m\u001b[39m'\u001b[39m\u001b[39mval_loss\u001b[39m\u001b[39m'\u001b[39m,\n\u001b[1;32m      <a href='vscode-notebook-cell://ssh-remote%2Bthixo.denby.eu/home/leifdenby/projects/dakar-nowcasting/tensorflow-time-series/time_series_pout_only.ipynb#Y435sdnNjb2RlLXJlbW90ZQ%3D%3D?line=4'>5</a>\u001b[0m                                                   patience\u001b[39m=\u001b[39mpatience,\n\u001b[1;32m      <a href='vscode-notebook-cell://ssh-remote%2Bthixo.denby.eu/home/leifdenby/projects/dakar-nowcasting/tensorflow-time-series/time_series_pout_only.ipynb#Y435sdnNjb2RlLXJlbW90ZQ%3D%3D?line=5'>6</a>\u001b[0m                                                   mode\u001b[39m=\u001b[39m\u001b[39m'\u001b[39m\u001b[39mmin\u001b[39m\u001b[39m'\u001b[39m)\n\u001b[1;32m      <a href='vscode-notebook-cell://ssh-remote%2Bthixo.denby.eu/home/leifdenby/projects/dakar-nowcasting/tensorflow-time-series/time_series_pout_only.ipynb#Y435sdnNjb2RlLXJlbW90ZQ%3D%3D?line=7'>8</a>\u001b[0m model\u001b[39m.\u001b[39mcompile(loss\u001b[39m=\u001b[39mtf\u001b[39m.\u001b[39mkeras\u001b[39m.\u001b[39mlosses\u001b[39m.\u001b[39mMeanSquaredError(),\n\u001b[1;32m      <a href='vscode-notebook-cell://ssh-remote%2Bthixo.denby.eu/home/leifdenby/projects/dakar-nowcasting/tensorflow-time-series/time_series_pout_only.ipynb#Y435sdnNjb2RlLXJlbW90ZQ%3D%3D?line=8'>9</a>\u001b[0m               optimizer\u001b[39m=\u001b[39mtf\u001b[39m.\u001b[39mkeras\u001b[39m.\u001b[39moptimizers\u001b[39m.\u001b[39mAdam(),\n\u001b[1;32m     <a href='vscode-notebook-cell://ssh-remote%2Bthixo.denby.eu/home/leifdenby/projects/dakar-nowcasting/tensorflow-time-series/time_series_pout_only.ipynb#Y435sdnNjb2RlLXJlbW90ZQ%3D%3D?line=9'>10</a>\u001b[0m               metrics\u001b[39m=\u001b[39m[tf\u001b[39m.\u001b[39mkeras\u001b[39m.\u001b[39mmetrics\u001b[39m.\u001b[39mMeanAbsoluteError()])\n\u001b[0;32m---> <a href='vscode-notebook-cell://ssh-remote%2Bthixo.denby.eu/home/leifdenby/projects/dakar-nowcasting/tensorflow-time-series/time_series_pout_only.ipynb#Y435sdnNjb2RlLXJlbW90ZQ%3D%3D?line=11'>12</a>\u001b[0m history \u001b[39m=\u001b[39m model\u001b[39m.\u001b[39;49mfit(window\u001b[39m.\u001b[39;49mtrain, epochs\u001b[39m=\u001b[39;49mMAX_EPOCHS,\n\u001b[1;32m     <a href='vscode-notebook-cell://ssh-remote%2Bthixo.denby.eu/home/leifdenby/projects/dakar-nowcasting/tensorflow-time-series/time_series_pout_only.ipynb#Y435sdnNjb2RlLXJlbW90ZQ%3D%3D?line=12'>13</a>\u001b[0m                     validation_data\u001b[39m=\u001b[39;49mwindow\u001b[39m.\u001b[39;49mval,\n\u001b[1;32m     <a href='vscode-notebook-cell://ssh-remote%2Bthixo.denby.eu/home/leifdenby/projects/dakar-nowcasting/tensorflow-time-series/time_series_pout_only.ipynb#Y435sdnNjb2RlLXJlbW90ZQ%3D%3D?line=13'>14</a>\u001b[0m                     callbacks\u001b[39m=\u001b[39;49m[early_stopping])\n\u001b[1;32m     <a href='vscode-notebook-cell://ssh-remote%2Bthixo.denby.eu/home/leifdenby/projects/dakar-nowcasting/tensorflow-time-series/time_series_pout_only.ipynb#Y435sdnNjb2RlLXJlbW90ZQ%3D%3D?line=14'>15</a>\u001b[0m \u001b[39mreturn\u001b[39;00m history\n",
            "File \u001b[0;32m~/mambaforge/envs/keras-dakar-nowcasting/lib/python3.8/site-packages/keras/src/utils/traceback_utils.py:70\u001b[0m, in \u001b[0;36mfilter_traceback.<locals>.error_handler\u001b[0;34m(*args, **kwargs)\u001b[0m\n\u001b[1;32m     67\u001b[0m     filtered_tb \u001b[39m=\u001b[39m _process_traceback_frames(e\u001b[39m.\u001b[39m__traceback__)\n\u001b[1;32m     68\u001b[0m     \u001b[39m# To get the full stack trace, call:\u001b[39;00m\n\u001b[1;32m     69\u001b[0m     \u001b[39m# `tf.debugging.disable_traceback_filtering()`\u001b[39;00m\n\u001b[0;32m---> 70\u001b[0m     \u001b[39mraise\u001b[39;00m e\u001b[39m.\u001b[39mwith_traceback(filtered_tb) \u001b[39mfrom\u001b[39;00m \u001b[39mNone\u001b[39;00m\n\u001b[1;32m     71\u001b[0m \u001b[39mfinally\u001b[39;00m:\n\u001b[1;32m     72\u001b[0m     \u001b[39mdel\u001b[39;00m filtered_tb\n",
            "File \u001b[0;32m~/mambaforge/envs/keras-dakar-nowcasting/lib/python3.8/site-packages/tensorflow/python/eager/execute.py:53\u001b[0m, in \u001b[0;36mquick_execute\u001b[0;34m(op_name, num_outputs, inputs, attrs, ctx, name)\u001b[0m\n\u001b[1;32m     51\u001b[0m \u001b[39mtry\u001b[39;00m:\n\u001b[1;32m     52\u001b[0m   ctx\u001b[39m.\u001b[39mensure_initialized()\n\u001b[0;32m---> 53\u001b[0m   tensors \u001b[39m=\u001b[39m pywrap_tfe\u001b[39m.\u001b[39mTFE_Py_Execute(ctx\u001b[39m.\u001b[39m_handle, device_name, op_name,\n\u001b[1;32m     54\u001b[0m                                       inputs, attrs, num_outputs)\n\u001b[1;32m     55\u001b[0m \u001b[39mexcept\u001b[39;00m core\u001b[39m.\u001b[39m_NotOkStatusException \u001b[39mas\u001b[39;00m e:\n\u001b[1;32m     56\u001b[0m   \u001b[39mif\u001b[39;00m name \u001b[39mis\u001b[39;00m \u001b[39mnot\u001b[39;00m \u001b[39mNone\u001b[39;00m:\n",
            "\u001b[0;31mInternalError\u001b[0m: Graph execution error:\n\nDetected at node 'Adam/StatefulPartitionedCall_1' defined at (most recent call last):\n    File \"/home/leifdenby/mambaforge/envs/keras-dakar-nowcasting/lib/python3.8/runpy.py\", line 194, in _run_module_as_main\n      return _run_code(code, main_globals, None,\n    File \"/home/leifdenby/mambaforge/envs/keras-dakar-nowcasting/lib/python3.8/runpy.py\", line 87, in _run_code\n      exec(code, run_globals)\n    File \"/home/leifdenby/mambaforge/envs/keras-dakar-nowcasting/lib/python3.8/site-packages/ipykernel_launcher.py\", line 17, in <module>\n      app.launch_new_instance()\n    File \"/home/leifdenby/mambaforge/envs/keras-dakar-nowcasting/lib/python3.8/site-packages/traitlets/config/application.py\", line 1077, in launch_instance\n      app.start()\n    File \"/home/leifdenby/mambaforge/envs/keras-dakar-nowcasting/lib/python3.8/site-packages/ipykernel/kernelapp.py\", line 739, in start\n      self.io_loop.start()\n    File \"/home/leifdenby/mambaforge/envs/keras-dakar-nowcasting/lib/python3.8/site-packages/tornado/platform/asyncio.py\", line 195, in start\n      self.asyncio_loop.run_forever()\n    File \"/home/leifdenby/mambaforge/envs/keras-dakar-nowcasting/lib/python3.8/asyncio/base_events.py\", line 570, in run_forever\n      self._run_once()\n    File \"/home/leifdenby/mambaforge/envs/keras-dakar-nowcasting/lib/python3.8/asyncio/base_events.py\", line 1859, in _run_once\n      handle._run()\n    File \"/home/leifdenby/mambaforge/envs/keras-dakar-nowcasting/lib/python3.8/asyncio/events.py\", line 81, in _run\n      self._context.run(self._callback, *self._args)\n    File \"/home/leifdenby/mambaforge/envs/keras-dakar-nowcasting/lib/python3.8/site-packages/ipykernel/kernelbase.py\", line 529, in dispatch_queue\n      await self.process_one()\n    File \"/home/leifdenby/mambaforge/envs/keras-dakar-nowcasting/lib/python3.8/site-packages/ipykernel/kernelbase.py\", line 518, in process_one\n      await dispatch(*args)\n    File \"/home/leifdenby/mambaforge/envs/keras-dakar-nowcasting/lib/python3.8/site-packages/ipykernel/kernelbase.py\", line 424, in dispatch_shell\n      await result\n    File \"/home/leifdenby/mambaforge/envs/keras-dakar-nowcasting/lib/python3.8/site-packages/ipykernel/kernelbase.py\", line 766, in execute_request\n      reply_content = await reply_content\n    File \"/home/leifdenby/mambaforge/envs/keras-dakar-nowcasting/lib/python3.8/site-packages/ipykernel/ipkernel.py\", line 429, in do_execute\n      res = shell.run_cell(\n    File \"/home/leifdenby/mambaforge/envs/keras-dakar-nowcasting/lib/python3.8/site-packages/ipykernel/zmqshell.py\", line 549, in run_cell\n      return super().run_cell(*args, **kwargs)\n    File \"/home/leifdenby/mambaforge/envs/keras-dakar-nowcasting/lib/python3.8/site-packages/IPython/core/interactiveshell.py\", line 3009, in run_cell\n      result = self._run_cell(\n    File \"/home/leifdenby/mambaforge/envs/keras-dakar-nowcasting/lib/python3.8/site-packages/IPython/core/interactiveshell.py\", line 3064, in _run_cell\n      result = runner(coro)\n    File \"/home/leifdenby/mambaforge/envs/keras-dakar-nowcasting/lib/python3.8/site-packages/IPython/core/async_helpers.py\", line 129, in _pseudo_sync_runner\n      coro.send(None)\n    File \"/home/leifdenby/mambaforge/envs/keras-dakar-nowcasting/lib/python3.8/site-packages/IPython/core/interactiveshell.py\", line 3269, in run_cell_async\n      has_raised = await self.run_ast_nodes(code_ast.body, cell_name,\n    File \"/home/leifdenby/mambaforge/envs/keras-dakar-nowcasting/lib/python3.8/site-packages/IPython/core/interactiveshell.py\", line 3448, in run_ast_nodes\n      if await self.run_code(code, result, async_=asy):\n    File \"/home/leifdenby/mambaforge/envs/keras-dakar-nowcasting/lib/python3.8/site-packages/IPython/core/interactiveshell.py\", line 3508, in run_code\n      exec(code_obj, self.user_global_ns, self.user_ns)\n    File \"/tmp/ipykernel_700601/2859138885.py\", line 1, in <module>\n      history = compile_and_fit(linear_model, single_step_window)\n    File \"/tmp/ipykernel_700601/2820204216.py\", line 12, in compile_and_fit\n      history = model.fit(window.train, epochs=MAX_EPOCHS,\n    File \"/home/leifdenby/mambaforge/envs/keras-dakar-nowcasting/lib/python3.8/site-packages/keras/src/utils/traceback_utils.py\", line 65, in error_handler\n      return fn(*args, **kwargs)\n    File \"/home/leifdenby/mambaforge/envs/keras-dakar-nowcasting/lib/python3.8/site-packages/keras/src/engine/training.py\", line 1742, in fit\n      tmp_logs = self.train_function(iterator)\n    File \"/home/leifdenby/mambaforge/envs/keras-dakar-nowcasting/lib/python3.8/site-packages/tensorflow/python/util/traceback_utils.py\", line 150, in error_handler\n      return fn(*args, **kwargs)\n    File \"/home/leifdenby/mambaforge/envs/keras-dakar-nowcasting/lib/python3.8/site-packages/tensorflow/python/eager/polymorphic_function/polymorphic_function.py\", line 825, in __call__\n      result = self._call(*args, **kwds)\n    File \"/home/leifdenby/mambaforge/envs/keras-dakar-nowcasting/lib/python3.8/site-packages/tensorflow/python/eager/polymorphic_function/polymorphic_function.py\", line 890, in _call\n      return self._no_variable_creation_fn(*args, **kwds)\n    File \"/home/leifdenby/mambaforge/envs/keras-dakar-nowcasting/lib/python3.8/site-packages/tensorflow/python/eager/polymorphic_function/tracing_compiler.py\", line 147, in __call__\n      filtered_flat_args) = self._maybe_define_function(args, kwargs)\n    File \"/home/leifdenby/mambaforge/envs/keras-dakar-nowcasting/lib/python3.8/site-packages/tensorflow/python/eager/polymorphic_function/tracing_compiler.py\", line 398, in _maybe_define_function\n      concrete_function = self._create_concrete_function(\n    File \"/home/leifdenby/mambaforge/envs/keras-dakar-nowcasting/lib/python3.8/site-packages/tensorflow/python/eager/polymorphic_function/tracing_compiler.py\", line 305, in _create_concrete_function\n      func_graph_module.func_graph_from_py_func(\n    File \"/home/leifdenby/mambaforge/envs/keras-dakar-nowcasting/lib/python3.8/site-packages/tensorflow/python/framework/func_graph.py\", line 1055, in func_graph_from_py_func\n      func_outputs = python_func(*func_args, **func_kwargs)\n    File \"/home/leifdenby/mambaforge/envs/keras-dakar-nowcasting/lib/python3.8/site-packages/tensorflow/python/eager/polymorphic_function/polymorphic_function.py\", line 597, in wrapped_fn\n      out = weak_wrapped_fn().__wrapped__(*args, **kwds)\n    File \"/home/leifdenby/mambaforge/envs/keras-dakar-nowcasting/lib/python3.8/site-packages/tensorflow/python/eager/polymorphic_function/autograph_util.py\", line 41, in autograph_handler\n      return api.converted_call(\n    File \"/home/leifdenby/mambaforge/envs/keras-dakar-nowcasting/lib/python3.8/site-packages/keras/src/engine/training.py\", line 1338, in train_function\n      return step_function(self, iterator)\n    File \"/home/leifdenby/mambaforge/envs/keras-dakar-nowcasting/lib/python3.8/site-packages/keras/src/engine/training.py\", line 1322, in step_function\n      outputs = model.distribute_strategy.run(run_step, args=(data,))\n    File \"/home/leifdenby/mambaforge/envs/keras-dakar-nowcasting/lib/python3.8/site-packages/tensorflow/python/distribute/distribute_lib.py\", line 1673, in run\n      return self._extended.call_for_each_replica(fn, args=args, kwargs=kwargs)\n    File \"/home/leifdenby/mambaforge/envs/keras-dakar-nowcasting/lib/python3.8/site-packages/tensorflow/python/distribute/distribute_lib.py\", line 3250, in call_for_each_replica\n      return self._call_for_each_replica(fn, args, kwargs)\n    File \"/home/leifdenby/mambaforge/envs/keras-dakar-nowcasting/lib/python3.8/site-packages/tensorflow/python/distribute/distribute_lib.py\", line 4048, in _call_for_each_replica\n      return fn(*args, **kwargs)\n    File \"/home/leifdenby/mambaforge/envs/keras-dakar-nowcasting/lib/python3.8/site-packages/keras/src/engine/training.py\", line 1303, in run_step\n      outputs = model.train_step(data)\n    File \"/home/leifdenby/mambaforge/envs/keras-dakar-nowcasting/lib/python3.8/site-packages/keras/src/engine/training.py\", line 1084, in train_step\n      self.optimizer.minimize(loss, self.trainable_variables, tape=tape)\n    File \"/home/leifdenby/mambaforge/envs/keras-dakar-nowcasting/lib/python3.8/site-packages/keras/src/optimizers/optimizer.py\", line 544, in minimize\n      self.apply_gradients(grads_and_vars)\n    File \"/home/leifdenby/mambaforge/envs/keras-dakar-nowcasting/lib/python3.8/site-packages/keras/src/optimizers/optimizer.py\", line 1230, in apply_gradients\n      return super().apply_gradients(grads_and_vars, name=name)\n    File \"/home/leifdenby/mambaforge/envs/keras-dakar-nowcasting/lib/python3.8/site-packages/keras/src/optimizers/optimizer.py\", line 652, in apply_gradients\n      iteration = self._internal_apply_gradients(grads_and_vars)\n    File \"/home/leifdenby/mambaforge/envs/keras-dakar-nowcasting/lib/python3.8/site-packages/keras/src/optimizers/optimizer.py\", line 1260, in _internal_apply_gradients\n      return tf.__internal__.distribute.interim.maybe_merge_call(\n    File \"/home/leifdenby/mambaforge/envs/keras-dakar-nowcasting/lib/python3.8/site-packages/tensorflow/python/distribute/merge_call_interim.py\", line 51, in maybe_merge_call\n      return fn(strategy, *args, **kwargs)\n    File \"/home/leifdenby/mambaforge/envs/keras-dakar-nowcasting/lib/python3.8/site-packages/keras/src/optimizers/optimizer.py\", line 1352, in _distributed_apply_gradients_fn\n      distribution.extended.update(\n    File \"/home/leifdenby/mambaforge/envs/keras-dakar-nowcasting/lib/python3.8/site-packages/tensorflow/python/distribute/distribute_lib.py\", line 2994, in update\n      return self._replica_ctx_update(\n    File \"/home/leifdenby/mambaforge/envs/keras-dakar-nowcasting/lib/python3.8/site-packages/tensorflow/python/distribute/distribute_lib.py\", line 2873, in _replica_ctx_update\n      return replica_context.merge_call(merge_fn, args=args, kwargs=kwargs)\n    File \"/home/leifdenby/mambaforge/envs/keras-dakar-nowcasting/lib/python3.8/site-packages/tensorflow/python/distribute/distribute_lib.py\", line 3465, in merge_call\n      return self._merge_call(merge_fn, args, kwargs)\n    File \"/home/leifdenby/mambaforge/envs/keras-dakar-nowcasting/lib/python3.8/site-packages/tensorflow/python/distribute/distribute_lib.py\", line 3472, in _merge_call\n      return merge_fn(self._strategy, *args, **kwargs)\n    File \"/home/leifdenby/mambaforge/envs/keras-dakar-nowcasting/lib/python3.8/site-packages/tensorflow/python/distribute/distribute_lib.py\", line 2871, in merge_fn\n      return self.update(var, fn, merged_args, merged_kwargs, group=group)\n    File \"/home/leifdenby/mambaforge/envs/keras-dakar-nowcasting/lib/python3.8/site-packages/tensorflow/python/distribute/distribute_lib.py\", line 2992, in update\n      return self._update(var, fn, args, kwargs, group)\n    File \"/home/leifdenby/mambaforge/envs/keras-dakar-nowcasting/lib/python3.8/site-packages/tensorflow/python/distribute/distribute_lib.py\", line 4062, in _update\n      return self._update_non_slot(var, fn, (var,) + tuple(args), kwargs, group)\n    File \"/home/leifdenby/mambaforge/envs/keras-dakar-nowcasting/lib/python3.8/site-packages/tensorflow/python/distribute/distribute_lib.py\", line 4068, in _update_non_slot\n      result = fn(*args, **kwargs)\n    File \"/home/leifdenby/mambaforge/envs/keras-dakar-nowcasting/lib/python3.8/site-packages/keras/src/optimizers/optimizer.py\", line 1347, in apply_grad_to_update_var\n      return self._update_step_xla(grad, var, id(self._var_key(var)))\n    File \"/home/leifdenby/mambaforge/envs/keras-dakar-nowcasting/lib/python3.8/site-packages/tensorflow/python/util/traceback_utils.py\", line 150, in error_handler\n      return fn(*args, **kwargs)\n    File \"/home/leifdenby/mambaforge/envs/keras-dakar-nowcasting/lib/python3.8/site-packages/tensorflow/python/eager/polymorphic_function/polymorphic_function.py\", line 825, in __call__\n      result = self._call(*args, **kwds)\n    File \"/home/leifdenby/mambaforge/envs/keras-dakar-nowcasting/lib/python3.8/site-packages/tensorflow/python/eager/polymorphic_function/polymorphic_function.py\", line 864, in _call\n      results = self._variable_creation_fn(*args, **kwds)\n    File \"/home/leifdenby/mambaforge/envs/keras-dakar-nowcasting/lib/python3.8/site-packages/tensorflow/python/eager/polymorphic_function/tracing_compiler.py\", line 148, in __call__\n      return concrete_function._call_flat(\n    File \"/home/leifdenby/mambaforge/envs/keras-dakar-nowcasting/lib/python3.8/site-packages/tensorflow/python/eager/polymorphic_function/monomorphic_function.py\", line 1361, in _call_flat\n      flat_outputs = forward_function(*args_with_tangents)\n    File \"/home/leifdenby/mambaforge/envs/keras-dakar-nowcasting/lib/python3.8/site-packages/tensorflow/python/eager/polymorphic_function/atomic_function.py\", line 202, in __call__\n      outputs = make_call_op_in_graph(self, list(args))\n    File \"/home/leifdenby/mambaforge/envs/keras-dakar-nowcasting/lib/python3.8/site-packages/tensorflow/python/eager/polymorphic_function/atomic_function.py\", line 332, in make_call_op_in_graph\n      op = partitioned_call_op(\n    File \"/home/leifdenby/mambaforge/envs/keras-dakar-nowcasting/lib/python3.8/site-packages/tensorflow/python/eager/polymorphic_function/atomic_function.py\", line 320, in partitioned_call_op\n      op = ops.get_default_graph().create_op(\n    File \"/home/leifdenby/mambaforge/envs/keras-dakar-nowcasting/lib/python3.8/site-packages/tensorflow/python/util/deprecation.py\", line 576, in new_func\n      return func(*args, **kwargs)\n    File \"/home/leifdenby/mambaforge/envs/keras-dakar-nowcasting/lib/python3.8/site-packages/tensorflow/python/util/traceback_utils.py\", line 150, in error_handler\n      return fn(*args, **kwargs)\n    File \"/home/leifdenby/mambaforge/envs/keras-dakar-nowcasting/lib/python3.8/site-packages/tensorflow/python/framework/ops.py\", line 3319, in create_op\n      return self._create_op_internal(op_type, inputs, dtypes, input_types, name,\n    File \"/home/leifdenby/mambaforge/envs/keras-dakar-nowcasting/lib/python3.8/site-packages/tensorflow/python/framework/func_graph.py\", line 670, in _create_op_internal\n      return super()._create_op_internal(  # pylint: disable=protected-access\n    File \"/home/leifdenby/mambaforge/envs/keras-dakar-nowcasting/lib/python3.8/site-packages/tensorflow/python/framework/ops.py\", line 3381, in _create_op_internal\n      ret = Operation.from_node_def(\n    File \"/home/leifdenby/mambaforge/envs/keras-dakar-nowcasting/lib/python3.8/site-packages/tensorflow/python/framework/ops.py\", line 1889, in from_node_def\n      c_op = _create_c_op(g, node_def, inputs, control_input_ops, op_def=op_def)\n    File \"/home/leifdenby/mambaforge/envs/keras-dakar-nowcasting/lib/python3.8/site-packages/tensorflow/python/util/traceback_utils.py\", line 150, in error_handler\n      return fn(*args, **kwargs)\n    File \"/home/leifdenby/mambaforge/envs/keras-dakar-nowcasting/lib/python3.8/site-packages/tensorflow/python/framework/ops.py\", line 1756, in _create_c_op\n      tf_stack.extract_stack_for_op(c_op, stacklevel=3)\n    File \"/home/leifdenby/mambaforge/envs/keras-dakar-nowcasting/lib/python3.8/site-packages/tensorflow/python/util/tf_stack.py\", line 180, in extract_stack_for_op\n      _tf_stack.extract_stack_for_op(\nNode: 'Adam/StatefulPartitionedCall_1'\nlibdevice not found at ./libdevice.10.bc\n\t [[{{node Adam/StatefulPartitionedCall_1}}]] [Op:__inference_train_function_1866]"
          ]
        }
      ],
      "source": [
        "history = compile_and_fit(linear_model, single_step_window)\n",
        "\n",
        "val_performance[\"Linear\"] = linear_model.evaluate(single_step_window.val)\n",
        "performance[\"Linear\"] = linear_model.evaluate(single_step_window.test, verbose=0)"
      ]
    },
    {
      "cell_type": "markdown",
      "metadata": {
        "id": "7U9XukYh8beN"
      },
      "source": [
        "Like the `baseline` model, the linear model can be called on batches of wide windows. Used this way the model makes a set of independent predictions on consecutive time steps. The `time` axis acts like another `batch` axis. There are no interactions between the predictions at each time step.\n",
        "\n",
        "![A single step prediction](images/wide_window.png)"
      ]
    },
    {
      "cell_type": "code",
      "execution_count": null,
      "metadata": {
        "id": "K9UVM5Sw9KQN"
      },
      "outputs": [],
      "source": [
        "print('Input shape:', wide_window.example[0].shape)\n",
        "print('Output shape:', linear_model(wide_window.example[0]).shape)"
      ]
    },
    {
      "cell_type": "markdown",
      "metadata": {
        "id": "X-CGj85oKaOG"
      },
      "source": [
        "Here is the plot of its example predictions on the `wide_window`, note how in many cases the prediction is clearly better than just returning the input temperature, but in a few cases it's worse:"
      ]
    },
    {
      "cell_type": "code",
      "execution_count": null,
      "metadata": {
        "id": "bCC8VVo-OvwV"
      },
      "outputs": [],
      "source": [
        "wide_window.plot(linear_model)"
      ]
    },
    {
      "cell_type": "markdown",
      "metadata": {
        "id": "Is51vU8EMl6c"
      },
      "source": [
        "One advantage to linear models is that they're relatively simple to  interpret.\n",
        "You can pull out the layer's weights and visualize the weight assigned to each input:"
      ]
    },
    {
      "cell_type": "code",
      "execution_count": null,
      "metadata": {
        "id": "d4uCTbsmK8VI"
      },
      "outputs": [],
      "source": [
        "plt.bar(x = range(len(train_df.columns)),\n",
        "        height=linear_model.layers[0].kernel[:,0].numpy())\n",
        "axis = plt.gca()\n",
        "axis.set_xticks(range(len(train_df.columns)))\n",
        "_ = axis.set_xticklabels(train_df.columns, rotation=90)"
      ]
    },
    {
      "cell_type": "markdown",
      "metadata": {
        "id": "Ylng7215boIY"
      },
      "source": [
        "Sometimes the model doesn't even place the most weight on the input `T (degC)`. This is one of the risks of random initialization. "
      ]
    },
    {
      "cell_type": "markdown",
      "metadata": {
        "id": "W18e6da1cNbw"
      },
      "source": [
        "### Dense\n",
        "\n",
        "Before applying models that actually operate on multiple time-steps, it's worth checking the performance of deeper, more powerful, single input step models.\n",
        "\n",
        "Here's a model similar to the `linear` model, except it stacks several a few `Dense` layers between the input and the output: "
      ]
    },
    {
      "cell_type": "code",
      "execution_count": null,
      "metadata": {
        "id": "Z86WkYp7cNAD"
      },
      "outputs": [],
      "source": [
        "dense = tf.keras.Sequential([\n",
        "    tf.keras.layers.Dense(units=64, activation='relu'),\n",
        "    tf.keras.layers.Dense(units=64, activation='relu'),\n",
        "    tf.keras.layers.Dense(units=1)\n",
        "])\n",
        "\n",
        "history = compile_and_fit(dense, single_step_window)\n",
        "\n",
        "val_performance['Dense'] = dense.evaluate(single_step_window.val)\n",
        "performance['Dense'] = dense.evaluate(single_step_window.test, verbose=0)"
      ]
    },
    {
      "cell_type": "markdown",
      "metadata": {
        "id": "j5dv_whJdswH"
      },
      "source": [
        "### Multi-step dense\n",
        "\n",
        "A single-time-step model has no context for the current values of its inputs. It can't see how the input features are changing over time. To address this issue the model needs access to multiple time steps when making predictions:\n",
        "\n",
        "![Three time steps are used for each prediction.](images/conv_window.png)\n"
      ]
    },
    {
      "cell_type": "markdown",
      "metadata": {
        "id": "Zac-ti8agbJ7"
      },
      "source": [
        "The `baseline`, `linear` and `dense` models handled each time step independently. Here the model will take multiple time steps as input to produce a single output.\n",
        "\n",
        "Create a `WindowGenerator` that will produce batches of three-hour inputs and one-hour labels:"
      ]
    },
    {
      "cell_type": "markdown",
      "metadata": {
        "id": "gtN4BwZ37niR"
      },
      "source": [
        "Note that the `Window`'s `shift` parameter is relative to the end of the two windows.\n"
      ]
    },
    {
      "cell_type": "code",
      "execution_count": null,
      "metadata": {
        "id": "lBh0j5djUKY2"
      },
      "outputs": [],
      "source": [
        "CONV_WIDTH = 3\n",
        "conv_window = WindowGenerator(\n",
        "    input_width=CONV_WIDTH,\n",
        "    label_width=1,\n",
        "    shift=1,\n",
        "    label_columns=['T (degC)'])\n",
        "\n",
        "conv_window"
      ]
    },
    {
      "cell_type": "code",
      "execution_count": null,
      "metadata": {
        "id": "dCQ5gvs68Xkd"
      },
      "outputs": [],
      "source": [
        "conv_window.plot()\n",
        "plt.title(\"Given 3 hours of inputs, predict 1 hour into the future.\")"
      ]
    },
    {
      "cell_type": "markdown",
      "metadata": {
        "id": "We0HdMxKeqB_"
      },
      "source": [
        "You could train a `dense` model on a multiple-input-step window by adding a `tf.keras.layers.Flatten` as the first layer of the model:"
      ]
    },
    {
      "cell_type": "code",
      "execution_count": null,
      "metadata": {
        "id": "oNQnUOkOnC1G"
      },
      "outputs": [],
      "source": [
        "multi_step_dense = tf.keras.Sequential([\n",
        "    # Shape: (time, features) => (time*features)\n",
        "    tf.keras.layers.Flatten(),\n",
        "    tf.keras.layers.Dense(units=32, activation='relu'),\n",
        "    tf.keras.layers.Dense(units=32, activation='relu'),\n",
        "    tf.keras.layers.Dense(units=1),\n",
        "    # Add back the time dimension.\n",
        "    # Shape: (outputs) => (1, outputs)\n",
        "    tf.keras.layers.Reshape([1, -1]),\n",
        "])"
      ]
    },
    {
      "cell_type": "code",
      "execution_count": null,
      "metadata": {
        "id": "cayD74luo4Vq"
      },
      "outputs": [],
      "source": [
        "print('Input shape:', conv_window.example[0].shape)\n",
        "print('Output shape:', multi_step_dense(conv_window.example[0]).shape)"
      ]
    },
    {
      "cell_type": "code",
      "execution_count": null,
      "metadata": {
        "id": "fu91yEbRo9-J"
      },
      "outputs": [],
      "source": [
        "history = compile_and_fit(multi_step_dense, conv_window)\n",
        "\n",
        "IPython.display.clear_output()\n",
        "val_performance['Multi step dense'] = multi_step_dense.evaluate(conv_window.val)\n",
        "performance['Multi step dense'] = multi_step_dense.evaluate(conv_window.test, verbose=0)"
      ]
    },
    {
      "cell_type": "code",
      "execution_count": null,
      "metadata": {
        "id": "tnqdXYT6pkEh"
      },
      "outputs": [],
      "source": [
        "conv_window.plot(multi_step_dense)"
      ]
    },
    {
      "cell_type": "markdown",
      "metadata": {
        "id": "gWfrsP8mq8lV"
      },
      "source": [
        "The main down-side of this approach is that the resulting model can only be executed on input windows of exactly this shape. "
      ]
    },
    {
      "cell_type": "code",
      "execution_count": null,
      "metadata": {
        "id": "j-q6tz5Yq8Jk"
      },
      "outputs": [],
      "source": [
        "print('Input shape:', wide_window.example[0].shape)\n",
        "try:\n",
        "  print('Output shape:', multi_step_dense(wide_window.example[0]).shape)\n",
        "except Exception as e:\n",
        "  print(f'\\n{type(e).__name__}:{e}')"
      ]
    },
    {
      "cell_type": "markdown",
      "metadata": {
        "id": "bvvajm3ip_8V"
      },
      "source": [
        "The convolutional models in the next section fix this problem."
      ]
    },
    {
      "cell_type": "markdown",
      "metadata": {
        "id": "CrpU6gwSJome"
      },
      "source": [
        "### Convolution neural network\n",
        " \n",
        "A convolution layer (`tf.keras.layers.Conv1D`) also takes multiple time steps as input to each prediction."
      ]
    },
    {
      "cell_type": "markdown",
      "metadata": {
        "id": "cdLBwoaHmsWb"
      },
      "source": [
        "Below is the **same** model as `multi_step_dense`, re-written with a convolution. \n",
        "\n",
        "Note the changes:\n",
        "* The `tf.keras.layers.Flatten` and the first `tf.keras.layers.Dense` are replaced by a `tf.keras.layers.Conv1D`.\n",
        "* The `tf.keras.layers.Reshape` is no longer necessary since the convolution keeps the time axis in its output."
      ]
    },
    {
      "cell_type": "code",
      "execution_count": null,
      "metadata": {
        "id": "5azaMBj4ac9t"
      },
      "outputs": [],
      "source": [
        "conv_model = tf.keras.Sequential([\n",
        "    tf.keras.layers.Conv1D(filters=32,\n",
        "                           kernel_size=(CONV_WIDTH,),\n",
        "                           activation='relu'),\n",
        "    tf.keras.layers.Dense(units=32, activation='relu'),\n",
        "    tf.keras.layers.Dense(units=1),\n",
        "])"
      ]
    },
    {
      "cell_type": "markdown",
      "metadata": {
        "id": "ftaH6B5ECRiK"
      },
      "source": [
        "Run it on an example batch to check that the model produces outputs with the expected shape:"
      ]
    },
    {
      "cell_type": "code",
      "execution_count": null,
      "metadata": {
        "id": "5YNgt1-e98lH"
      },
      "outputs": [],
      "source": [
        "print(\"Conv model on `conv_window`\")\n",
        "print('Input shape:', conv_window.example[0].shape)\n",
        "print('Output shape:', conv_model(conv_window.example[0]).shape)"
      ]
    },
    {
      "cell_type": "markdown",
      "metadata": {
        "id": "5m4kC-jGCY3x"
      },
      "source": [
        "Train and evaluate it on the ` conv_window` and it should give performance similar to the `multi_step_dense` model."
      ]
    },
    {
      "cell_type": "code",
      "execution_count": null,
      "metadata": {
        "id": "QDVWdm4paUW7"
      },
      "outputs": [],
      "source": [
        "history = compile_and_fit(conv_model, conv_window)\n",
        "\n",
        "IPython.display.clear_output()\n",
        "val_performance['Conv'] = conv_model.evaluate(conv_window.val)\n",
        "performance['Conv'] = conv_model.evaluate(conv_window.test, verbose=0)"
      ]
    },
    {
      "cell_type": "markdown",
      "metadata": {
        "id": "sYRipDeXs0Kr"
      },
      "source": [
        "The difference between this `conv_model` and the `multi_step_dense` model is that the `conv_model` can be run on inputs of any length. The convolutional layer is applied to a sliding window of inputs:\n",
        "\n",
        "![Executing a convolutional model on a sequence](images/wide_conv_window.png)\n",
        "\n",
        "If you run it on wider input, it produces wider output:"
      ]
    },
    {
      "cell_type": "code",
      "execution_count": null,
      "metadata": {
        "id": "hoqccxx9r5jF"
      },
      "outputs": [],
      "source": [
        "print(\"Wide window\")\n",
        "print('Input shape:', wide_window.example[0].shape)\n",
        "print('Labels shape:', wide_window.example[1].shape)\n",
        "print('Output shape:', conv_model(wide_window.example[0]).shape)"
      ]
    },
    {
      "cell_type": "markdown",
      "metadata": {
        "id": "h_WGxtLIHhRF"
      },
      "source": [
        "Note that the output is shorter than the input. To make training or plotting work, you need the labels, and prediction to have the same length. So build a `WindowGenerator` to produce wide windows with a few extra input time steps so the label and prediction lengths match: "
      ]
    },
    {
      "cell_type": "code",
      "execution_count": null,
      "metadata": {
        "id": "_VPvJ_VwTc0f"
      },
      "outputs": [],
      "source": [
        "LABEL_WIDTH = 24\n",
        "INPUT_WIDTH = LABEL_WIDTH + (CONV_WIDTH - 1)\n",
        "wide_conv_window = WindowGenerator(\n",
        "    input_width=INPUT_WIDTH,\n",
        "    label_width=LABEL_WIDTH,\n",
        "    shift=1,\n",
        "    label_columns=['T (degC)'])\n",
        "\n",
        "wide_conv_window"
      ]
    },
    {
      "cell_type": "code",
      "execution_count": null,
      "metadata": {
        "id": "gtqlWYXeKXej"
      },
      "outputs": [],
      "source": [
        "print(\"Wide conv window\")\n",
        "print('Input shape:', wide_conv_window.example[0].shape)\n",
        "print('Labels shape:', wide_conv_window.example[1].shape)\n",
        "print('Output shape:', conv_model(wide_conv_window.example[0]).shape)"
      ]
    },
    {
      "cell_type": "markdown",
      "metadata": {
        "id": "yzxbbS56cSBV"
      },
      "source": [
        "Now, you can plot the model's predictions on a wider window. Note the 3 input time steps before the first prediction. Every prediction here is based on the 3 preceding time steps:"
      ]
    },
    {
      "cell_type": "code",
      "execution_count": null,
      "metadata": {
        "id": "gR7VyL45UuEe"
      },
      "outputs": [],
      "source": [
        "wide_conv_window.plot(conv_model)"
      ]
    },
    {
      "cell_type": "markdown",
      "metadata": {
        "id": "H4crpOcoMlSe"
      },
      "source": [
        "### Recurrent neural network\n",
        "\n",
        "A Recurrent Neural Network (RNN) is a type of neural network well-suited to time series data. RNNs process a time series step-by-step, maintaining an internal state from time-step to time-step.\n",
        "\n",
        "You can learn more in the [Text generation with an RNN](https://www.tensorflow.org/text/tutorials/text_generation) tutorial and the [Recurrent Neural Networks (RNN) with Keras](https://www.tensorflow.org/guide/keras/rnn) guide.\n",
        "\n",
        "In this tutorial, you will use an RNN layer called Long Short-Term Memory (`tf.keras.layers.LSTM`)."
      ]
    },
    {
      "cell_type": "markdown",
      "metadata": {
        "id": "vfQbHSMb1ATa"
      },
      "source": [
        "An important constructor argument for all Keras RNN layers, such as `tf.keras.layers.LSTM`, is the `return_sequences` argument. This setting can configure the layer in one of two ways:\n",
        "\n",
        "1. If `False`, the default, the layer only returns the output of the final time step, giving the model time to warm up its internal state before making a single prediction: \n",
        "\n",
        "![An LSTM warming up and making a single prediction](images/lstm_1_window.png)\n",
        "\n",
        "2. If `True`, the layer returns an output for each input. This is useful for:\n",
        "  * Stacking RNN layers. \n",
        "  * Training a model on multiple time steps simultaneously.\n",
        "\n",
        "![An LSTM making a prediction after every time step](images/lstm_many_window.png)"
      ]
    },
    {
      "cell_type": "code",
      "execution_count": null,
      "metadata": {
        "id": "DXKLCJy8nWNU"
      },
      "outputs": [],
      "source": [
        "lstm_model = tf.keras.models.Sequential([\n",
        "    # Shape [batch, time, features] => [batch, time, lstm_units]\n",
        "    tf.keras.layers.LSTM(32, return_sequences=True),\n",
        "    # Shape => [batch, time, features]\n",
        "    tf.keras.layers.Dense(units=1)\n",
        "])"
      ]
    },
    {
      "cell_type": "markdown",
      "metadata": {
        "id": "F124B00KZcLC"
      },
      "source": [
        "With `return_sequences=True`, the model can be trained on 24 hours of data at a time.\n",
        "\n",
        "Note: This will give a pessimistic view of the model's performance. On the first time step, the model has no access to previous steps and, therefore, can't do any better than the simple `linear` and `dense` models shown earlier."
      ]
    },
    {
      "cell_type": "code",
      "execution_count": null,
      "metadata": {
        "id": "eZEROCQVYV6q"
      },
      "outputs": [],
      "source": [
        "print('Input shape:', wide_window.example[0].shape)\n",
        "print('Output shape:', lstm_model(wide_window.example[0]).shape)"
      ]
    },
    {
      "cell_type": "code",
      "execution_count": null,
      "metadata": {
        "id": "uvdWRl1e9WJl"
      },
      "outputs": [],
      "source": [
        "history = compile_and_fit(lstm_model, wide_window)\n",
        "\n",
        "IPython.display.clear_output()\n",
        "val_performance['LSTM'] = lstm_model.evaluate(wide_window.val)\n",
        "performance['LSTM'] = lstm_model.evaluate(wide_window.test, verbose=0)"
      ]
    },
    {
      "cell_type": "code",
      "execution_count": null,
      "metadata": {
        "id": "NwAOWCVgB26e"
      },
      "outputs": [],
      "source": [
        "wide_window.plot(lstm_model)"
      ]
    },
    {
      "cell_type": "markdown",
      "metadata": {
        "id": "pYglOCKehi8F"
      },
      "source": [
        "### Performance"
      ]
    },
    {
      "cell_type": "markdown",
      "metadata": {
        "id": "2pCk0_rwhi8H"
      },
      "source": [
        "With this dataset typically each of the models does slightly better than the one before it:"
      ]
    },
    {
      "cell_type": "code",
      "execution_count": null,
      "metadata": {
        "id": "JjEkt488hi8I"
      },
      "outputs": [],
      "source": [
        "x = np.arange(len(performance))\n",
        "width = 0.3\n",
        "metric_name = 'mean_absolute_error'\n",
        "metric_index = lstm_model.metrics_names.index('mean_absolute_error')\n",
        "val_mae = [v[metric_index] for v in val_performance.values()]\n",
        "test_mae = [v[metric_index] for v in performance.values()]\n",
        "\n",
        "plt.ylabel('mean_absolute_error [T (degC), normalized]')\n",
        "plt.bar(x - 0.17, val_mae, width, label='Validation')\n",
        "plt.bar(x + 0.17, test_mae, width, label='Test')\n",
        "plt.xticks(ticks=x, labels=performance.keys(),\n",
        "           rotation=45)\n",
        "_ = plt.legend()"
      ]
    },
    {
      "cell_type": "code",
      "execution_count": null,
      "metadata": {
        "id": "cBMCpsdphi8L"
      },
      "outputs": [],
      "source": [
        "for name, value in performance.items():\n",
        "  print(f'{name:12s}: {value[1]:0.4f}')"
      ]
    },
    {
      "cell_type": "markdown",
      "metadata": {
        "id": "b5rUJ_2YMWzG"
      },
      "source": [
        "### Multi-output models\n",
        "\n",
        "The models so far all predicted a single output feature, `T (degC)`, for a single time step.\n",
        "\n",
        "All of these models can be converted to predict multiple features just by changing the number of units in the output layer and adjusting the training windows to include all features in the `labels` (`example_labels`):"
      ]
    },
    {
      "cell_type": "code",
      "execution_count": null,
      "metadata": {
        "id": "9Gk0Z91xjOwv"
      },
      "outputs": [],
      "source": [
        "single_step_window = WindowGenerator(\n",
        "    # `WindowGenerator` returns all features as labels if you \n",
        "    # don't set the `label_columns` argument.\n",
        "    input_width=1, label_width=1, shift=1)\n",
        "\n",
        "wide_window = WindowGenerator(\n",
        "    input_width=24, label_width=24, shift=1)\n",
        "\n",
        "for example_inputs, example_labels in wide_window.train.take(1):\n",
        "  print(f'Inputs shape (batch, time, features): {example_inputs.shape}')\n",
        "  print(f'Labels shape (batch, time, features): {example_labels.shape}')"
      ]
    },
    {
      "cell_type": "markdown",
      "metadata": {
        "id": "XmcjHfDskX1N"
      },
      "source": [
        "Note above that the `features` axis of the labels now has the same depth as the inputs, instead of `1`."
      ]
    },
    {
      "cell_type": "markdown",
      "metadata": {
        "id": "9k7S5IHNhSNF"
      },
      "source": [
        "#### Baseline\n",
        "\n",
        "The same baseline model (`Baseline`) can be used here, but this time repeating all features instead of selecting a specific `label_index`:"
      ]
    },
    {
      "cell_type": "code",
      "execution_count": null,
      "metadata": {
        "id": "sqqB9W-pjr5i"
      },
      "outputs": [],
      "source": [
        "baseline_model = Baseline()\n",
        "baseline_model.compile(loss=tf.keras.losses.MeanSquaredError(),\n",
        "                 metrics=[tf.keras.metrics.MeanAbsoluteError()])"
      ]
    },
    {
      "cell_type": "code",
      "execution_count": null,
      "metadata": {
        "id": "ltQdgaqQjQWu"
      },
      "outputs": [],
      "source": [
        "val_performance = {}\n",
        "performance = {}\n",
        "val_performance['Baseline'] = baseline_model.evaluate(wide_window.val)\n",
        "performance['Baseline'] = baseline_model.evaluate(wide_window.test, verbose=0)"
      ]
    },
    {
      "cell_type": "markdown",
      "metadata": {
        "id": "dfbCrf5q3P6n"
      },
      "source": [
        "#### Dense"
      ]
    },
    {
      "cell_type": "code",
      "execution_count": null,
      "metadata": {
        "id": "NdpzH1dYjdIN"
      },
      "outputs": [],
      "source": [
        "dense = tf.keras.Sequential([\n",
        "    tf.keras.layers.Dense(units=64, activation='relu'),\n",
        "    tf.keras.layers.Dense(units=64, activation='relu'),\n",
        "    tf.keras.layers.Dense(units=num_features)\n",
        "])"
      ]
    },
    {
      "cell_type": "code",
      "execution_count": null,
      "metadata": {
        "id": "6uHuU9Cd3PTo"
      },
      "outputs": [],
      "source": [
        "history = compile_and_fit(dense, single_step_window)\n",
        "\n",
        "IPython.display.clear_output()\n",
        "val_performance['Dense'] = dense.evaluate(single_step_window.val)\n",
        "performance['Dense'] = dense.evaluate(single_step_window.test, verbose=0)"
      ]
    },
    {
      "cell_type": "markdown",
      "metadata": {
        "id": "dsc9pur_mHsx"
      },
      "source": [
        "#### RNN\n"
      ]
    },
    {
      "cell_type": "code",
      "execution_count": null,
      "metadata": {
        "id": "4QbGLMyomXaz"
      },
      "outputs": [],
      "source": [
        "%%time\n",
        "wide_window = WindowGenerator(\n",
        "    input_width=24, label_width=24, shift=1)\n",
        "\n",
        "lstm_model = tf.keras.models.Sequential([\n",
        "    # Shape [batch, time, features] => [batch, time, lstm_units]\n",
        "    tf.keras.layers.LSTM(32, return_sequences=True),\n",
        "    # Shape => [batch, time, features]\n",
        "    tf.keras.layers.Dense(units=num_features)\n",
        "])\n",
        "\n",
        "history = compile_and_fit(lstm_model, wide_window)\n",
        "\n",
        "IPython.display.clear_output()\n",
        "val_performance['LSTM'] = lstm_model.evaluate( wide_window.val)\n",
        "performance['LSTM'] = lstm_model.evaluate( wide_window.test, verbose=0)\n",
        "\n",
        "print()"
      ]
    },
    {
      "cell_type": "markdown",
      "metadata": {
        "id": "UwhY2f_Nn0_K"
      },
      "source": [
        "<a id=\"residual\"></a>\n",
        "\n",
        "#### Advanced: Residual connections\n",
        "\n",
        "The `Baseline` model from earlier took advantage of the fact that the sequence doesn't change drastically from time step to time step. Every model trained in this tutorial so far was randomly initialized, and then had to learn that the output is a a small change from the previous time step.\n",
        "\n",
        "While you can get around this issue with careful initialization, it's  simpler to build this into the model structure.\n",
        "\n",
        "It's common in time series analysis to build models that instead of predicting the next value, predict how the value will change in the next time step. Similarly, <a href=\"https://arxiv.org/abs/1512.03385\" class=\"external\">residual networks</a>—or ResNets—in deep learning refer to architectures where each layer adds to the model's accumulating result.\n",
        "\n",
        "That is how you take advantage of the knowledge that the change should be small.\n",
        "\n",
        "![A model with a residual connection](images/residual.png)\n",
        "\n",
        "Essentially, this initializes the model to match the `Baseline`. For this task it helps models converge faster, with slightly better performance."
      ]
    },
    {
      "cell_type": "markdown",
      "metadata": {
        "id": "yP58A_ORx0kM"
      },
      "source": [
        "This approach can be used in conjunction with any model discussed in this tutorial. \n",
        "\n",
        "Here, it is being applied to the LSTM model, note the use of the `tf.initializers.zeros` to ensure that the initial predicted changes are small, and don't overpower the residual connection. There are no symmetry-breaking concerns for the gradients here, since the `zeros` are only used on the last layer."
      ]
    },
    {
      "cell_type": "code",
      "execution_count": null,
      "metadata": {
        "id": "7YlfnDQC22TQ"
      },
      "outputs": [],
      "source": [
        "class ResidualWrapper(tf.keras.Model):\n",
        "  def __init__(self, model):\n",
        "    super().__init__()\n",
        "    self.model = model\n",
        "\n",
        "  def call(self, inputs, *args, **kwargs):\n",
        "    delta = self.model(inputs, *args, **kwargs)\n",
        "\n",
        "    # The prediction for each time step is the input\n",
        "    # from the previous time step plus the delta\n",
        "    # calculated by the model.\n",
        "    return inputs + delta"
      ]
    },
    {
      "cell_type": "code",
      "execution_count": null,
      "metadata": {
        "id": "NNeH02pspc9B"
      },
      "outputs": [],
      "source": [
        "%%time\n",
        "residual_lstm = ResidualWrapper(\n",
        "    tf.keras.Sequential([\n",
        "    tf.keras.layers.LSTM(32, return_sequences=True),\n",
        "    tf.keras.layers.Dense(\n",
        "        num_features,\n",
        "        # The predicted deltas should start small.\n",
        "        # Therefore, initialize the output layer with zeros.\n",
        "        kernel_initializer=tf.initializers.zeros())\n",
        "]))\n",
        "\n",
        "history = compile_and_fit(residual_lstm, wide_window)\n",
        "\n",
        "IPython.display.clear_output()\n",
        "val_performance['Residual LSTM'] = residual_lstm.evaluate(wide_window.val)\n",
        "performance['Residual LSTM'] = residual_lstm.evaluate(wide_window.test, verbose=0)\n",
        "print()"
      ]
    },
    {
      "cell_type": "markdown",
      "metadata": {
        "id": "I42Er9Du6co1"
      },
      "source": [
        "#### Performance"
      ]
    },
    {
      "cell_type": "markdown",
      "metadata": {
        "id": "LZxR38P_6pUi"
      },
      "source": [
        "Here is the overall performance for these multi-output models."
      ]
    },
    {
      "cell_type": "code",
      "execution_count": null,
      "metadata": {
        "id": "6XgTK9tnr7rc"
      },
      "outputs": [],
      "source": [
        "x = np.arange(len(performance))\n",
        "width = 0.3\n",
        "\n",
        "metric_name = 'mean_absolute_error'\n",
        "metric_index = lstm_model.metrics_names.index('mean_absolute_error')\n",
        "val_mae = [v[metric_index] for v in val_performance.values()]\n",
        "test_mae = [v[metric_index] for v in performance.values()]\n",
        "\n",
        "plt.bar(x - 0.17, val_mae, width, label='Validation')\n",
        "plt.bar(x + 0.17, test_mae, width, label='Test')\n",
        "plt.xticks(ticks=x, labels=performance.keys(),\n",
        "           rotation=45)\n",
        "plt.ylabel('MAE (average over all outputs)')\n",
        "_ = plt.legend()"
      ]
    },
    {
      "cell_type": "code",
      "execution_count": null,
      "metadata": {
        "id": "URz3ajCc6kBj"
      },
      "outputs": [],
      "source": [
        "for name, value in performance.items():\n",
        "  print(f'{name:15s}: {value[1]:0.4f}')"
      ]
    },
    {
      "cell_type": "markdown",
      "metadata": {
        "id": "_Vt2MJhNxwPU"
      },
      "source": [
        "The above performances are averaged across all model outputs."
      ]
    },
    {
      "cell_type": "markdown",
      "metadata": {
        "id": "eYokb7Om2YbK"
      },
      "source": [
        "## Multi-step models\n",
        "\n",
        "Both the single-output and multiple-output models in the previous sections made **single time step predictions**, one hour into the future.\n",
        "\n",
        "This section looks at how to expand these models to make **multiple time step predictions**.\n",
        "\n",
        "In a multi-step prediction, the model needs to learn to predict a range of future values. Thus, unlike a single step model, where only a single future point is predicted, a multi-step model predicts a sequence of the future values.\n",
        "\n",
        "There are two rough approaches to this:\n",
        "\n",
        "1. Single shot predictions where the entire time series is predicted at once.\n",
        "2. Autoregressive predictions where the model only makes single step predictions and its output is fed back as its input.\n",
        "\n",
        "In this section all the models will predict **all the features across all output time steps**.\n"
      ]
    },
    {
      "cell_type": "markdown",
      "metadata": {
        "id": "WFsDAwVt4_rq"
      },
      "source": [
        "For the multi-step model, the training data again consists of hourly samples. However, here, the models will learn to predict 24 hours into the future, given 24 hours of the past.\n",
        "\n",
        "Here is a `Window` object that generates these slices from the dataset:"
      ]
    },
    {
      "cell_type": "code",
      "execution_count": null,
      "metadata": {
        "id": "1cFYtsz6XiGw"
      },
      "outputs": [],
      "source": [
        "OUT_STEPS = 24\n",
        "multi_window = WindowGenerator(input_width=24,\n",
        "                               label_width=OUT_STEPS,\n",
        "                               shift=OUT_STEPS)\n",
        "\n",
        "multi_window.plot()\n",
        "multi_window"
      ]
    },
    {
      "cell_type": "markdown",
      "metadata": {
        "id": "5lg8SInh9Jzd"
      },
      "source": [
        "### Baselines"
      ]
    },
    {
      "cell_type": "markdown",
      "metadata": {
        "id": "axwpoWYOApJL"
      },
      "source": [
        "A simple baseline for this task is to repeat the last input time step for the required number of output time steps:\n",
        "\n",
        "![Repeat the last input, for each output step](images/multistep_last.png)"
      ]
    },
    {
      "cell_type": "code",
      "execution_count": null,
      "metadata": {
        "id": "_5iaHSaJ9Rxv"
      },
      "outputs": [],
      "source": [
        "class MultiStepLastBaseline(tf.keras.Model):\n",
        "  def call(self, inputs):\n",
        "    return tf.tile(inputs[:, -1:, :], [1, OUT_STEPS, 1])\n",
        "\n",
        "last_baseline = MultiStepLastBaseline()\n",
        "last_baseline.compile(loss=tf.keras.losses.MeanSquaredError(),\n",
        "                      metrics=[tf.keras.metrics.MeanAbsoluteError()])\n",
        "\n",
        "multi_val_performance = {}\n",
        "multi_performance = {}\n",
        "\n",
        "multi_val_performance['Last'] = last_baseline.evaluate(multi_window.val)\n",
        "multi_performance['Last'] = last_baseline.evaluate(multi_window.test, verbose=0)\n",
        "multi_window.plot(last_baseline)"
      ]
    },
    {
      "cell_type": "markdown",
      "metadata": {
        "id": "AvHZ93ObAfMA"
      },
      "source": [
        "Since this task is to predict 24 hours into the future, given 24 hours of the past, another simple approach is to repeat the previous day, assuming tomorrow will be similar:\n",
        "\n",
        "![Repeat the previous day](images/multistep_repeat.png)"
      ]
    },
    {
      "cell_type": "code",
      "execution_count": null,
      "metadata": {
        "id": "L8Y1uMhGwIRs"
      },
      "outputs": [],
      "source": [
        "class RepeatBaseline(tf.keras.Model):\n",
        "  def call(self, inputs):\n",
        "    return inputs\n",
        "\n",
        "repeat_baseline = RepeatBaseline()\n",
        "repeat_baseline.compile(loss=tf.keras.losses.MeanSquaredError(),\n",
        "                        metrics=[tf.keras.metrics.MeanAbsoluteError()])\n",
        "\n",
        "multi_val_performance['Repeat'] = repeat_baseline.evaluate(multi_window.val)\n",
        "multi_performance['Repeat'] = repeat_baseline.evaluate(multi_window.test, verbose=0)\n",
        "multi_window.plot(repeat_baseline)"
      ]
    },
    {
      "cell_type": "markdown",
      "metadata": {
        "id": "tbndS-ct9C2Q"
      },
      "source": [
        "### Single-shot models\n",
        "\n",
        "One high-level approach to this problem is to use a \"single-shot\" model, where the model makes the entire sequence prediction in a single step.\n",
        "\n",
        "This can be implemented efficiently as a `tf.keras.layers.Dense` with `OUT_STEPS*features` output units. The model just needs to reshape that output to the required `(OUTPUT_STEPS, features)`."
      ]
    },
    {
      "cell_type": "markdown",
      "metadata": {
        "id": "NCKS4m1VKrDQ"
      },
      "source": [
        "#### Linear\n",
        "\n",
        "A simple linear model based on the last input time step does better than either baseline, but is underpowered. The model needs to predict `OUTPUT_STEPS` time steps, from a single input time step with a linear projection. It can only capture a low-dimensional slice of the behavior, likely based mainly on the time of day and time of year.\n",
        "\n",
        "![Predict all timesteps from the last time-step](images/multistep_dense.png)"
      ]
    },
    {
      "cell_type": "code",
      "execution_count": null,
      "metadata": {
        "id": "kfRz_WVhIQcd"
      },
      "outputs": [],
      "source": [
        "multi_linear_model = tf.keras.Sequential([\n",
        "    # Take the last time-step.\n",
        "    # Shape [batch, time, features] => [batch, 1, features]\n",
        "    tf.keras.layers.Lambda(lambda x: x[:, -1:, :]),\n",
        "    # Shape => [batch, 1, out_steps*features]\n",
        "    tf.keras.layers.Dense(OUT_STEPS*num_features,\n",
        "                          kernel_initializer=tf.initializers.zeros()),\n",
        "    # Shape => [batch, out_steps, features]\n",
        "    tf.keras.layers.Reshape([OUT_STEPS, num_features])\n",
        "])\n",
        "\n",
        "history = compile_and_fit(multi_linear_model, multi_window)\n",
        "\n",
        "IPython.display.clear_output()\n",
        "multi_val_performance['Linear'] = multi_linear_model.evaluate(multi_window.val)\n",
        "multi_performance['Linear'] = multi_linear_model.evaluate(multi_window.test, verbose=0)\n",
        "multi_window.plot(multi_linear_model)"
      ]
    },
    {
      "cell_type": "markdown",
      "metadata": {
        "id": "zi2TMHk2IRrh"
      },
      "source": [
        "#### Dense\n",
        "\n",
        "Adding a `tf.keras.layers.Dense` between the input and output gives the linear model more power, but is still only based on a single input time step."
      ]
    },
    {
      "cell_type": "code",
      "execution_count": null,
      "metadata": {
        "id": "jezm-BKaGj91"
      },
      "outputs": [],
      "source": [
        "multi_dense_model = tf.keras.Sequential([\n",
        "    # Take the last time step.\n",
        "    # Shape [batch, time, features] => [batch, 1, features]\n",
        "    tf.keras.layers.Lambda(lambda x: x[:, -1:, :]),\n",
        "    # Shape => [batch, 1, dense_units]\n",
        "    tf.keras.layers.Dense(512, activation='relu'),\n",
        "    # Shape => [batch, out_steps*features]\n",
        "    tf.keras.layers.Dense(OUT_STEPS*num_features,\n",
        "                          kernel_initializer=tf.initializers.zeros()),\n",
        "    # Shape => [batch, out_steps, features]\n",
        "    tf.keras.layers.Reshape([OUT_STEPS, num_features])\n",
        "])\n",
        "\n",
        "history = compile_and_fit(multi_dense_model, multi_window)\n",
        "\n",
        "IPython.display.clear_output()\n",
        "multi_val_performance['Dense'] = multi_dense_model.evaluate(multi_window.val)\n",
        "multi_performance['Dense'] = multi_dense_model.evaluate(multi_window.test, verbose=0)\n",
        "multi_window.plot(multi_dense_model)"
      ]
    },
    {
      "cell_type": "markdown",
      "metadata": {
        "id": "icsBAjCzMaMl"
      },
      "source": [
        "#### CNN"
      ]
    },
    {
      "cell_type": "markdown",
      "metadata": {
        "id": "34lCZrWYNBwd"
      },
      "source": [
        "A convolutional model makes predictions based on a fixed-width history, which may lead to better performance than the dense model since it can see how things are changing over time:\n",
        "\n",
        "![A convolutional model sees how things change over time](images/multistep_conv.png)"
      ]
    },
    {
      "cell_type": "code",
      "execution_count": null,
      "metadata": {
        "id": "0xJoIP6PMWMI"
      },
      "outputs": [],
      "source": [
        "CONV_WIDTH = 3\n",
        "multi_conv_model = tf.keras.Sequential([\n",
        "    # Shape [batch, time, features] => [batch, CONV_WIDTH, features]\n",
        "    tf.keras.layers.Lambda(lambda x: x[:, -CONV_WIDTH:, :]),\n",
        "    # Shape => [batch, 1, conv_units]\n",
        "    tf.keras.layers.Conv1D(256, activation='relu', kernel_size=(CONV_WIDTH)),\n",
        "    # Shape => [batch, 1,  out_steps*features]\n",
        "    tf.keras.layers.Dense(OUT_STEPS*num_features,\n",
        "                          kernel_initializer=tf.initializers.zeros()),\n",
        "    # Shape => [batch, out_steps, features]\n",
        "    tf.keras.layers.Reshape([OUT_STEPS, num_features])\n",
        "])\n",
        "\n",
        "history = compile_and_fit(multi_conv_model, multi_window)\n",
        "\n",
        "IPython.display.clear_output()\n",
        "\n",
        "multi_val_performance['Conv'] = multi_conv_model.evaluate(multi_window.val)\n",
        "multi_performance['Conv'] = multi_conv_model.evaluate(multi_window.test, verbose=0)\n",
        "multi_window.plot(multi_conv_model)"
      ]
    },
    {
      "cell_type": "markdown",
      "metadata": {
        "id": "weBjeZAFJOP4"
      },
      "source": [
        "#### RNN"
      ]
    },
    {
      "cell_type": "markdown",
      "metadata": {
        "id": "8022xOKxOO92"
      },
      "source": [
        "A recurrent model can learn to use a long history of inputs, if it's relevant to the predictions the model is making. Here the model will accumulate internal state for 24 hours, before making a single prediction for the next 24 hours.\n",
        "\n",
        "In this single-shot format, the LSTM only needs to produce an output at the last time step, so set `return_sequences=False` in `tf.keras.layers.LSTM`.\n",
        "\n",
        "![The LSTM accumulates state over the input window, and makes a single prediction for the next 24 hours](images/multistep_lstm.png)\n"
      ]
    },
    {
      "cell_type": "code",
      "execution_count": null,
      "metadata": {
        "id": "Bf1ks6RTzF64"
      },
      "outputs": [],
      "source": [
        "multi_lstm_model = tf.keras.Sequential([\n",
        "    # Shape [batch, time, features] => [batch, lstm_units].\n",
        "    # Adding more `lstm_units` just overfits more quickly.\n",
        "    tf.keras.layers.LSTM(32, return_sequences=False),\n",
        "    # Shape => [batch, out_steps*features].\n",
        "    tf.keras.layers.Dense(OUT_STEPS*num_features,\n",
        "                          kernel_initializer=tf.initializers.zeros()),\n",
        "    # Shape => [batch, out_steps, features].\n",
        "    tf.keras.layers.Reshape([OUT_STEPS, num_features])\n",
        "])\n",
        "\n",
        "history = compile_and_fit(multi_lstm_model, multi_window)\n",
        "\n",
        "IPython.display.clear_output()\n",
        "\n",
        "multi_val_performance['LSTM'] = multi_lstm_model.evaluate(multi_window.val)\n",
        "multi_performance['LSTM'] = multi_lstm_model.evaluate(multi_window.test, verbose=0)\n",
        "multi_window.plot(multi_lstm_model)"
      ]
    },
    {
      "cell_type": "markdown",
      "metadata": {
        "id": "d5n-1cDW12Vo"
      },
      "source": [
        "### Advanced: Autoregressive model\n",
        "\n",
        "The above models all predict the entire output sequence in a single step.\n",
        "\n",
        "In some cases it may be helpful for the model to decompose this prediction into individual time steps. Then, each model's output can be fed back into itself at each step and predictions can be made conditioned on the previous one, like in the classic <a href=\"https://arxiv.org/abs/1308.0850\" class=\"external\">Generating Sequences With Recurrent Neural Networks</a>.\n",
        "\n",
        "One clear advantage to this style of model is that it can be set up to produce output with a varying length.\n",
        "\n",
        "You could take any of the single-step multi-output models trained in the first half of this tutorial and run in an autoregressive feedback loop, but here you'll focus on building a model that's been explicitly trained to do that.\n",
        "\n",
        "![Feedback a model's output to its input](images/multistep_autoregressive.png)"
      ]
    },
    {
      "cell_type": "markdown",
      "metadata": {
        "id": "PKRreBbULRXY"
      },
      "source": [
        "#### RNN\n",
        "\n",
        "This tutorial only builds an autoregressive RNN model, but this pattern could be applied to any model that was designed to output a single time step.\n",
        "\n",
        "The model will have the same basic form as the single-step LSTM models from earlier: a `tf.keras.layers.LSTM` layer followed by a `tf.keras.layers.Dense` layer that converts the `LSTM` layer's outputs to model predictions.\n",
        "\n",
        "A `tf.keras.layers.LSTM` is a `tf.keras.layers.LSTMCell` wrapped in the higher level `tf.keras.layers.RNN` that manages the state and sequence results for you (Check out the [Recurrent Neural Networks (RNN) with Keras](https://www.tensorflow.org/guide/keras/rnn) guide for details).\n",
        "\n",
        "In this case, the model has to manually manage the inputs for each step, so it uses `tf.keras.layers.LSTMCell` directly for the lower level, single time step interface."
      ]
    },
    {
      "cell_type": "code",
      "execution_count": null,
      "metadata": {
        "id": "s5tz3Nu0R5JG"
      },
      "outputs": [],
      "source": [
        "class FeedBack(tf.keras.Model):\n",
        "  def __init__(self, units, out_steps):\n",
        "    super().__init__()\n",
        "    self.out_steps = out_steps\n",
        "    self.units = units\n",
        "    self.lstm_cell = tf.keras.layers.LSTMCell(units)\n",
        "    # Also wrap the LSTMCell in an RNN to simplify the `warmup` method.\n",
        "    self.lstm_rnn = tf.keras.layers.RNN(self.lstm_cell, return_state=True)\n",
        "    self.dense = tf.keras.layers.Dense(num_features)"
      ]
    },
    {
      "cell_type": "code",
      "execution_count": null,
      "metadata": {
        "id": "2OXVM9G1U7xR"
      },
      "outputs": [],
      "source": [
        "feedback_model = FeedBack(units=32, out_steps=OUT_STEPS)"
      ]
    },
    {
      "cell_type": "markdown",
      "metadata": {
        "id": "ph5uFSfTUNho"
      },
      "source": [
        "The first method this model needs is a `warmup` method to initialize its internal state based on the inputs. Once trained, this state will capture the relevant parts of the input history. This is equivalent to the single-step `LSTM` model from earlier:"
      ]
    },
    {
      "cell_type": "code",
      "execution_count": null,
      "metadata": {
        "id": "vM2K_LLdRjDZ"
      },
      "outputs": [],
      "source": [
        "def warmup(self, inputs):\n",
        "  # inputs.shape => (batch, time, features)\n",
        "  # x.shape => (batch, lstm_units)\n",
        "  x, *state = self.lstm_rnn(inputs)\n",
        "\n",
        "  # predictions.shape => (batch, features)\n",
        "  prediction = self.dense(x)\n",
        "  return prediction, state\n",
        "\n",
        "FeedBack.warmup = warmup"
      ]
    },
    {
      "cell_type": "markdown",
      "metadata": {
        "id": "6JkaSYaZ9eB7"
      },
      "source": [
        "This method returns a single time-step prediction and the internal state of the `LSTM`:"
      ]
    },
    {
      "cell_type": "code",
      "execution_count": null,
      "metadata": {
        "id": "w9Fz6NTKXXwU"
      },
      "outputs": [],
      "source": [
        "prediction, state = feedback_model.warmup(multi_window.example[0])\n",
        "prediction.shape"
      ]
    },
    {
      "cell_type": "markdown",
      "metadata": {
        "id": "S_ZdvPjdX3y3"
      },
      "source": [
        "With the `RNN`'s state, and an initial prediction you can now continue iterating the model feeding the predictions at each step back as the input.\n",
        "\n",
        "The simplest approach for collecting the output predictions is to use a Python list and a `tf.stack` after the loop."
      ]
    },
    {
      "cell_type": "markdown",
      "metadata": {
        "id": "yotTad3nZXQU"
      },
      "source": [
        "Note: Stacking a Python list like this only works with eager-execution, using `Model.compile(..., run_eagerly=True)` for training, or with a fixed length output. For a dynamic output length, you would need to use a `tf.TensorArray` instead of a Python list, and `tf.range` instead of the Python `range`."
      ]
    },
    {
      "cell_type": "code",
      "execution_count": null,
      "metadata": {
        "id": "g1GRDu3mZtr9"
      },
      "outputs": [],
      "source": [
        "def call(self, inputs, training=None):\n",
        "  # Use a TensorArray to capture dynamically unrolled outputs.\n",
        "  predictions = []\n",
        "  # Initialize the LSTM state.\n",
        "  prediction, state = self.warmup(inputs)\n",
        "\n",
        "  # Insert the first prediction.\n",
        "  predictions.append(prediction)\n",
        "\n",
        "  # Run the rest of the prediction steps.\n",
        "  for n in range(1, self.out_steps):\n",
        "    # Use the last prediction as input.\n",
        "    x = prediction\n",
        "    # Execute one lstm step.\n",
        "    x, state = self.lstm_cell(x, states=state,\n",
        "                              training=training)\n",
        "    # Convert the lstm output to a prediction.\n",
        "    prediction = self.dense(x)\n",
        "    # Add the prediction to the output.\n",
        "    predictions.append(prediction)\n",
        "\n",
        "  # predictions.shape => (time, batch, features)\n",
        "  predictions = tf.stack(predictions)\n",
        "  # predictions.shape => (batch, time, features)\n",
        "  predictions = tf.transpose(predictions, [1, 0, 2])\n",
        "  return predictions\n",
        "\n",
        "FeedBack.call = call"
      ]
    },
    {
      "cell_type": "markdown",
      "metadata": {
        "id": "Ubop-YWp15XW"
      },
      "source": [
        "Test run this model on the example inputs:"
      ]
    },
    {
      "cell_type": "code",
      "execution_count": null,
      "metadata": {
        "id": "Xja83zEYaM2D"
      },
      "outputs": [],
      "source": [
        "print('Output shape (batch, time, features): ', feedback_model(multi_window.example[0]).shape)"
      ]
    },
    {
      "cell_type": "markdown",
      "metadata": {
        "id": "qMs0rYB8be9M"
      },
      "source": [
        "Now, train the model:"
      ]
    },
    {
      "cell_type": "code",
      "execution_count": null,
      "metadata": {
        "id": "VBRVG2hnNyrO"
      },
      "outputs": [],
      "source": [
        "history = compile_and_fit(feedback_model, multi_window)\n",
        "\n",
        "IPython.display.clear_output()\n",
        "\n",
        "multi_val_performance['AR LSTM'] = feedback_model.evaluate(multi_window.val)\n",
        "multi_performance['AR LSTM'] = feedback_model.evaluate(multi_window.test, verbose=0)\n",
        "multi_window.plot(feedback_model)"
      ]
    },
    {
      "cell_type": "markdown",
      "metadata": {
        "id": "hGjcJsAQJUkI"
      },
      "source": [
        "### Performance"
      ]
    },
    {
      "cell_type": "markdown",
      "metadata": {
        "id": "sODAwr2ndtDB"
      },
      "source": [
        "There are clearly diminishing returns as a function of model complexity on this problem:"
      ]
    },
    {
      "cell_type": "code",
      "execution_count": null,
      "metadata": {
        "id": "WZwWBA8S6B3L"
      },
      "outputs": [],
      "source": [
        "x = np.arange(len(multi_performance))\n",
        "width = 0.3\n",
        "\n",
        "metric_name = 'mean_absolute_error'\n",
        "metric_index = lstm_model.metrics_names.index('mean_absolute_error')\n",
        "val_mae = [v[metric_index] for v in multi_val_performance.values()]\n",
        "test_mae = [v[metric_index] for v in multi_performance.values()]\n",
        "\n",
        "plt.bar(x - 0.17, val_mae, width, label='Validation')\n",
        "plt.bar(x + 0.17, test_mae, width, label='Test')\n",
        "plt.xticks(ticks=x, labels=multi_performance.keys(),\n",
        "           rotation=45)\n",
        "plt.ylabel(f'MAE (average over all times and outputs)')\n",
        "_ = plt.legend()"
      ]
    },
    {
      "cell_type": "markdown",
      "metadata": {
        "id": "Zq3hUsedCEmJ"
      },
      "source": [
        "The metrics for the multi-output models in the first half of this tutorial show the performance averaged across all output features. These performances are similar but also averaged across output time steps. "
      ]
    },
    {
      "cell_type": "code",
      "execution_count": null,
      "metadata": {
        "id": "jKq3eAIvH4Db"
      },
      "outputs": [],
      "source": [
        "for name, value in multi_performance.items():\n",
        "  print(f'{name:8s}: {value[1]:0.4f}')"
      ]
    },
    {
      "cell_type": "markdown",
      "metadata": {
        "id": "MpBFwfnaHP23"
      },
      "source": [
        "The gains achieved going from a dense model to convolutional and recurrent models are only a few percent (if any), and the autoregressive model performed clearly worse. So these more complex approaches may not be worth while on **this** problem, but there was no way to know without trying, and these models could be helpful for **your** problem."
      ]
    },
    {
      "cell_type": "markdown",
      "metadata": {
        "id": "pOzaIRYBhqwg"
      },
      "source": [
        "## Next steps\n",
        "\n",
        "This tutorial was a quick introduction to time series forecasting using TensorFlow.\n",
        "\n",
        "To learn more, refer to:\n",
        "\n",
        "- Chapter 15 of <a href=\"https://www.oreilly.com/library/view/hands-on-machine-learning/9781492032632/\" class=\"external\">Hands-on Machine Learning with Scikit-Learn, Keras, and TensorFlow</a>, 2nd Edition.\n",
        "- Chapter 6 of <a href=\"https://www.manning.com/books/deep-learning-with-python\" class=\"external\">Deep Learning with Python</a>.\n",
        "- Lesson 8 of <a href=\"https://www.udacity.com/course/intro-to-tensorflow-for-deep-learning--ud187\" class=\"external\">Udacity's intro to TensorFlow for deep learning</a>, including the <a href=\"https://github.com/tensorflow/examples/tree/master/courses/udacity_intro_to_tensorflow_for_deep_learning\" class=\"external\">exercise notebooks</a>.\n",
        "\n",
        "Also, remember that you can implement any <a href=\"https://otexts.com/fpp2/index.html\" class=\"external\">classical time series model</a> in TensorFlow—this tutorial just focuses on TensorFlow's built-in functionality.\n"
      ]
    }
  ],
  "metadata": {
    "accelerator": "GPU",
    "colab": {
      "collapsed_sections": [],
      "name": "time_series.ipynb",
      "toc_visible": true
    },
    "kernelspec": {
      "display_name": "Python 3",
      "name": "python3"
    },
    "language_info": {
      "codemirror_mode": {
        "name": "ipython",
        "version": 3
      },
      "file_extension": ".py",
      "mimetype": "text/x-python",
      "name": "python",
      "nbconvert_exporter": "python",
      "pygments_lexer": "ipython3",
      "version": "3.8.18"
    }
  },
  "nbformat": 4,
  "nbformat_minor": 0
}
